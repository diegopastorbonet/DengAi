{
  "nbformat": 4,
  "nbformat_minor": 0,
  "metadata": {
    "colab": {
      "provenance": [],
      "toc_visible": true
    },
    "kernelspec": {
      "name": "python3",
      "display_name": "Python 3"
    }
  },
  "cells": [
    {
      "cell_type": "markdown",
      "metadata": {
        "id": "Ti5Wnz3cgkRD"
      },
      "source": [
        "# DengAi\n",
        "\n",
        "Predicción del número de casos de dengue mediante aprendizaje supervisado.\n",
        "\n",
        "Datos obtenidos del sitio web de Driven Data."
      ]
    },
    {
      "cell_type": "markdown",
      "source": [
        "**Participante**: Diego Pastor Bonet\n",
        "\n",
        "**Datos del modelo final elegido**\n",
        "* MAE test (DrivenData): 27.4543\n",
        "* MAE validación: 18.46917808219178\n",
        "* Algoritmo ML: Clustering K-means, Regresión Lineal\n",
        "* Hiperparámetros:\n",
        "  * n = 3\n",
        "  * max_iter = 300\n",
        "  * tol = 0.01\n",
        "* Lista de características:\n",
        "\n",
        "  * year\n",
        "  * weekofyear\n",
        "  * precipitation_amt_mm\n",
        "  * reanalysis_air_temp_k\n",
        "  * reanalysis_avg_temp_k\n",
        "  * reanalysis_max_air_temp_k\n",
        "  * reanalysis_min_air_temp_k\n",
        "  * reanalysis_precip_amt_kg_per_m2\n",
        "  * reanalysis_relative_humidity_percent\n",
        "  * reanalysis_specific_humidity_g_per_kg\n",
        "  * station_avg_temp_c\n",
        "  * station_diur_temp_rng_c\n",
        "  * station_max_temp_c\n",
        "  * station_min_temp_c\n",
        "  * station_precip_mm\n",
        "  * season\n",
        "  * city_bin\n",
        "  * ndvi_avg\n",
        "  * etiqueta\n",
        "\n",
        "* Resumen dataset (transformaciones, etc.):\n",
        "  * Binarización de la variable 'city' dando lugar a 'city_bin'.\n",
        "  * Tratamiento de nulos con el método ffill, excepto en el caso de las variables ndvi que se ha hecho un promedio de los valores anteriores y siguientes no nulos.\n",
        "  * Creación de las variables 'season' y 'ndvi_avg'\n",
        "  * Eliminación de las variables 'ndvi_ne', 'ndvi_nw', 'ndvi_se', 'ndvi_sw', 'city', 'week_start_date', 'reanalysis_sat_precip_atm_mm', 'reanalysis_air_temp_k', 'reanalysis_dew_point_temp_k' y 'reanalysis_tdtr_k'.\n",
        "  * Adición de las etiquetas correspondientes a los clusters generados por los algoritmos de agrupamiento."
      ],
      "metadata": {
        "id": "17ynPbr_h9CL"
      }
    },
    {
      "cell_type": "markdown",
      "source": [
        "---\n",
        "# Resumen\n",
        "---"
      ],
      "metadata": {
        "id": "Sf0UMczNiagx"
      }
    },
    {
      "cell_type": "markdown",
      "source": [
        "A lo largo de este análisis se elaborará un modelo de predicción que podrá ser puestos a prueba en la web de DrivenData.\n",
        "\n",
        "En primer lugar se hará un procesado teniendo en cuenta las necesidades estructurales de la competición.\n",
        "\n",
        "Se escogerán los mejores candidatos a algoritmos de agrupamiento, a continuación, se probarán también varios modelos de predicción para encontrar el mejor posible. Finalmente, todo esto será puesto a prueba mediante un conjunto de validación y posteriormente por la web mediante un conjunto de test. La métrica que se utilizará para evaluar los modelos será el error absoluto medio (MAE) aportado por DrivenData.\n",
        "\n",
        "El objetivo será alcanzar el menor valor de MAE entregando diferentes intentos con combinaciones de grupos de características y algoritmos a esta web.\n",
        "\n",
        "En base a esta métrica, el conjunto de datos mejor valorado ha sido el conformado por el conjunto de datos original, al que se le ha añadido la etiqueta de cluster generada por el algoritmo K-Means con tres clusters. Este es además el algoritmo de agrupamiento que mejor resultado obtuvo en la práctica anetrior. El modelo de predicción que mejor ha funcionado es el de Regresión Lineal.\n",
        "\n",
        "Otras combinaciones como una sub-selección de características, diferentes modelos de predicción o diferentes algoritmos de agrupamiento han dado todos peores resultados que éste, sin embargo, aún hay espacio para seguir investigando, especialmente con diferentes conjuntos de características."
      ],
      "metadata": {
        "id": "eOGNkUfyO75t"
      }
    },
    {
      "cell_type": "markdown",
      "source": [
        "---\n",
        "# Inicialización\n",
        "---"
      ],
      "metadata": {
        "id": "unP6GvpsjhPe"
      }
    },
    {
      "cell_type": "markdown",
      "source": [
        "En esta sección se ejecuta código indispensable para la práctica.\n",
        "\n",
        "Se trata de imports de librerías necesarias, creación de funciones y subidas de los archivos de entrenamiento y test.\n",
        "\n",
        "*Es importante ejecutar las celdas de código en orden, no hacerlo puede provocar que algunas partes no funcionen correctamente."
      ],
      "metadata": {
        "id": "P4CsI3qZ5VBy"
      }
    },
    {
      "cell_type": "code",
      "metadata": {
        "id": "QcqAjsMIKluO"
      },
      "source": [
        "# Imports generales\n",
        "import pandas as pd\n",
        "import io\n",
        "from google.colab import files\n",
        "import numpy as np\n",
        "import time\n",
        "import matplotlib.pyplot as plt\n",
        "\n",
        "def upload_files (index_fields=None):\n",
        "  uploaded = files.upload()\n",
        "  for fn in uploaded.keys():\n",
        "    print('User uploaded file \"{name}\" with length {length} bytes'.format(\n",
        "        name=fn, length=len(uploaded[fn])))\n",
        "    df = pd.read_csv(io.StringIO(uploaded[fn].decode('utf-8')), index_col = index_fields)\n",
        "\n",
        "    return df\n",
        "\n",
        "def download_predictions(test, pred_total_cases):\n",
        "  file_name = \"practica2_pred_\" + time.strftime(\"%Y\") + time.strftime(\"%m\") + time.strftime(\"%d\") + time.strftime(\"%H\") + time.strftime(\"%M\") + time.strftime(\"%S\") + \".csv\"\n",
        "  predictions = pd.DataFrame({ 'city': test['city'], 'year': test['year'], 'weekofyear': test['weekofyear'], 'total_cases': pred_total_cases})\n",
        "  with open(file_name, 'w') as f:\n",
        "    predictions.to_csv(f, index = False)\n",
        "  files.download(file_name)\n",
        "  print(\"Downloaded \" + file_name)"
      ],
      "execution_count": null,
      "outputs": []
    },
    {
      "cell_type": "code",
      "metadata": {
        "id": "CRnebroi6Pwc",
        "colab": {
          "base_uri": "https://localhost:8080/",
          "height": 390
        },
        "outputId": "018a38d1-e42d-4214-f162-ce8a2889c0ed"
      },
      "source": [
        "# Subir el conjunto de entrenamiento sin variable objetivo (dengue_features_train.csv)\n",
        "train_feat = upload_files()\n",
        "print(train_feat.shape)\n",
        "train_feat.head()"
      ],
      "execution_count": null,
      "outputs": [
        {
          "output_type": "display_data",
          "data": {
            "text/plain": [
              "<IPython.core.display.HTML object>"
            ],
            "text/html": [
              "\n",
              "     <input type=\"file\" id=\"files-b16a60fc-2f52-4e85-ab6d-a032a7f66e3e\" name=\"files[]\" multiple disabled\n",
              "        style=\"border:none\" />\n",
              "     <output id=\"result-b16a60fc-2f52-4e85-ab6d-a032a7f66e3e\">\n",
              "      Upload widget is only available when the cell has been executed in the\n",
              "      current browser session. Please rerun this cell to enable.\n",
              "      </output>\n",
              "      <script>// Copyright 2017 Google LLC\n",
              "//\n",
              "// Licensed under the Apache License, Version 2.0 (the \"License\");\n",
              "// you may not use this file except in compliance with the License.\n",
              "// You may obtain a copy of the License at\n",
              "//\n",
              "//      http://www.apache.org/licenses/LICENSE-2.0\n",
              "//\n",
              "// Unless required by applicable law or agreed to in writing, software\n",
              "// distributed under the License is distributed on an \"AS IS\" BASIS,\n",
              "// WITHOUT WARRANTIES OR CONDITIONS OF ANY KIND, either express or implied.\n",
              "// See the License for the specific language governing permissions and\n",
              "// limitations under the License.\n",
              "\n",
              "/**\n",
              " * @fileoverview Helpers for google.colab Python module.\n",
              " */\n",
              "(function(scope) {\n",
              "function span(text, styleAttributes = {}) {\n",
              "  const element = document.createElement('span');\n",
              "  element.textContent = text;\n",
              "  for (const key of Object.keys(styleAttributes)) {\n",
              "    element.style[key] = styleAttributes[key];\n",
              "  }\n",
              "  return element;\n",
              "}\n",
              "\n",
              "// Max number of bytes which will be uploaded at a time.\n",
              "const MAX_PAYLOAD_SIZE = 100 * 1024;\n",
              "\n",
              "function _uploadFiles(inputId, outputId) {\n",
              "  const steps = uploadFilesStep(inputId, outputId);\n",
              "  const outputElement = document.getElementById(outputId);\n",
              "  // Cache steps on the outputElement to make it available for the next call\n",
              "  // to uploadFilesContinue from Python.\n",
              "  outputElement.steps = steps;\n",
              "\n",
              "  return _uploadFilesContinue(outputId);\n",
              "}\n",
              "\n",
              "// This is roughly an async generator (not supported in the browser yet),\n",
              "// where there are multiple asynchronous steps and the Python side is going\n",
              "// to poll for completion of each step.\n",
              "// This uses a Promise to block the python side on completion of each step,\n",
              "// then passes the result of the previous step as the input to the next step.\n",
              "function _uploadFilesContinue(outputId) {\n",
              "  const outputElement = document.getElementById(outputId);\n",
              "  const steps = outputElement.steps;\n",
              "\n",
              "  const next = steps.next(outputElement.lastPromiseValue);\n",
              "  return Promise.resolve(next.value.promise).then((value) => {\n",
              "    // Cache the last promise value to make it available to the next\n",
              "    // step of the generator.\n",
              "    outputElement.lastPromiseValue = value;\n",
              "    return next.value.response;\n",
              "  });\n",
              "}\n",
              "\n",
              "/**\n",
              " * Generator function which is called between each async step of the upload\n",
              " * process.\n",
              " * @param {string} inputId Element ID of the input file picker element.\n",
              " * @param {string} outputId Element ID of the output display.\n",
              " * @return {!Iterable<!Object>} Iterable of next steps.\n",
              " */\n",
              "function* uploadFilesStep(inputId, outputId) {\n",
              "  const inputElement = document.getElementById(inputId);\n",
              "  inputElement.disabled = false;\n",
              "\n",
              "  const outputElement = document.getElementById(outputId);\n",
              "  outputElement.innerHTML = '';\n",
              "\n",
              "  const pickedPromise = new Promise((resolve) => {\n",
              "    inputElement.addEventListener('change', (e) => {\n",
              "      resolve(e.target.files);\n",
              "    });\n",
              "  });\n",
              "\n",
              "  const cancel = document.createElement('button');\n",
              "  inputElement.parentElement.appendChild(cancel);\n",
              "  cancel.textContent = 'Cancel upload';\n",
              "  const cancelPromise = new Promise((resolve) => {\n",
              "    cancel.onclick = () => {\n",
              "      resolve(null);\n",
              "    };\n",
              "  });\n",
              "\n",
              "  // Wait for the user to pick the files.\n",
              "  const files = yield {\n",
              "    promise: Promise.race([pickedPromise, cancelPromise]),\n",
              "    response: {\n",
              "      action: 'starting',\n",
              "    }\n",
              "  };\n",
              "\n",
              "  cancel.remove();\n",
              "\n",
              "  // Disable the input element since further picks are not allowed.\n",
              "  inputElement.disabled = true;\n",
              "\n",
              "  if (!files) {\n",
              "    return {\n",
              "      response: {\n",
              "        action: 'complete',\n",
              "      }\n",
              "    };\n",
              "  }\n",
              "\n",
              "  for (const file of files) {\n",
              "    const li = document.createElement('li');\n",
              "    li.append(span(file.name, {fontWeight: 'bold'}));\n",
              "    li.append(span(\n",
              "        `(${file.type || 'n/a'}) - ${file.size} bytes, ` +\n",
              "        `last modified: ${\n",
              "            file.lastModifiedDate ? file.lastModifiedDate.toLocaleDateString() :\n",
              "                                    'n/a'} - `));\n",
              "    const percent = span('0% done');\n",
              "    li.appendChild(percent);\n",
              "\n",
              "    outputElement.appendChild(li);\n",
              "\n",
              "    const fileDataPromise = new Promise((resolve) => {\n",
              "      const reader = new FileReader();\n",
              "      reader.onload = (e) => {\n",
              "        resolve(e.target.result);\n",
              "      };\n",
              "      reader.readAsArrayBuffer(file);\n",
              "    });\n",
              "    // Wait for the data to be ready.\n",
              "    let fileData = yield {\n",
              "      promise: fileDataPromise,\n",
              "      response: {\n",
              "        action: 'continue',\n",
              "      }\n",
              "    };\n",
              "\n",
              "    // Use a chunked sending to avoid message size limits. See b/62115660.\n",
              "    let position = 0;\n",
              "    do {\n",
              "      const length = Math.min(fileData.byteLength - position, MAX_PAYLOAD_SIZE);\n",
              "      const chunk = new Uint8Array(fileData, position, length);\n",
              "      position += length;\n",
              "\n",
              "      const base64 = btoa(String.fromCharCode.apply(null, chunk));\n",
              "      yield {\n",
              "        response: {\n",
              "          action: 'append',\n",
              "          file: file.name,\n",
              "          data: base64,\n",
              "        },\n",
              "      };\n",
              "\n",
              "      let percentDone = fileData.byteLength === 0 ?\n",
              "          100 :\n",
              "          Math.round((position / fileData.byteLength) * 100);\n",
              "      percent.textContent = `${percentDone}% done`;\n",
              "\n",
              "    } while (position < fileData.byteLength);\n",
              "  }\n",
              "\n",
              "  // All done.\n",
              "  yield {\n",
              "    response: {\n",
              "      action: 'complete',\n",
              "    }\n",
              "  };\n",
              "}\n",
              "\n",
              "scope.google = scope.google || {};\n",
              "scope.google.colab = scope.google.colab || {};\n",
              "scope.google.colab._files = {\n",
              "  _uploadFiles,\n",
              "  _uploadFilesContinue,\n",
              "};\n",
              "})(self);\n",
              "</script> "
            ]
          },
          "metadata": {}
        },
        {
          "output_type": "stream",
          "name": "stdout",
          "text": [
            "Saving dengue_features_train.csv to dengue_features_train.csv\n",
            "User uploaded file \"dengue_features_train.csv\" with length 287139 bytes\n",
            "(1456, 24)\n"
          ]
        },
        {
          "output_type": "execute_result",
          "data": {
            "text/plain": [
              "  city  year  weekofyear week_start_date   ndvi_ne   ndvi_nw   ndvi_se  \\\n",
              "0   sj  1990          18      1990-04-30  0.122600  0.103725  0.198483   \n",
              "1   sj  1990          19      1990-05-07  0.169900  0.142175  0.162357   \n",
              "2   sj  1990          20      1990-05-14  0.032250  0.172967  0.157200   \n",
              "3   sj  1990          21      1990-05-21  0.128633  0.245067  0.227557   \n",
              "4   sj  1990          22      1990-05-28  0.196200  0.262200  0.251200   \n",
              "\n",
              "    ndvi_sw  precipitation_amt_mm  reanalysis_air_temp_k  ...  \\\n",
              "0  0.177617                 12.42             297.572857  ...   \n",
              "1  0.155486                 22.82             298.211429  ...   \n",
              "2  0.170843                 34.54             298.781429  ...   \n",
              "3  0.235886                 15.36             298.987143  ...   \n",
              "4  0.247340                  7.52             299.518571  ...   \n",
              "\n",
              "   reanalysis_precip_amt_kg_per_m2  reanalysis_relative_humidity_percent  \\\n",
              "0                            32.00                             73.365714   \n",
              "1                            17.94                             77.368571   \n",
              "2                            26.10                             82.052857   \n",
              "3                            13.90                             80.337143   \n",
              "4                            12.20                             80.460000   \n",
              "\n",
              "   reanalysis_sat_precip_amt_mm  reanalysis_specific_humidity_g_per_kg  \\\n",
              "0                         12.42                              14.012857   \n",
              "1                         22.82                              15.372857   \n",
              "2                         34.54                              16.848571   \n",
              "3                         15.36                              16.672857   \n",
              "4                          7.52                              17.210000   \n",
              "\n",
              "   reanalysis_tdtr_k  station_avg_temp_c  station_diur_temp_rng_c  \\\n",
              "0           2.628571           25.442857                 6.900000   \n",
              "1           2.371429           26.714286                 6.371429   \n",
              "2           2.300000           26.714286                 6.485714   \n",
              "3           2.428571           27.471429                 6.771429   \n",
              "4           3.014286           28.942857                 9.371429   \n",
              "\n",
              "   station_max_temp_c  station_min_temp_c  station_precip_mm  \n",
              "0                29.4                20.0               16.0  \n",
              "1                31.7                22.2                8.6  \n",
              "2                32.2                22.8               41.4  \n",
              "3                33.3                23.3                4.0  \n",
              "4                35.0                23.9                5.8  \n",
              "\n",
              "[5 rows x 24 columns]"
            ],
            "text/html": [
              "\n",
              "  <div id=\"df-1712d098-3664-4e08-a023-879a98a2b27c\">\n",
              "    <div class=\"colab-df-container\">\n",
              "      <div>\n",
              "<style scoped>\n",
              "    .dataframe tbody tr th:only-of-type {\n",
              "        vertical-align: middle;\n",
              "    }\n",
              "\n",
              "    .dataframe tbody tr th {\n",
              "        vertical-align: top;\n",
              "    }\n",
              "\n",
              "    .dataframe thead th {\n",
              "        text-align: right;\n",
              "    }\n",
              "</style>\n",
              "<table border=\"1\" class=\"dataframe\">\n",
              "  <thead>\n",
              "    <tr style=\"text-align: right;\">\n",
              "      <th></th>\n",
              "      <th>city</th>\n",
              "      <th>year</th>\n",
              "      <th>weekofyear</th>\n",
              "      <th>week_start_date</th>\n",
              "      <th>ndvi_ne</th>\n",
              "      <th>ndvi_nw</th>\n",
              "      <th>ndvi_se</th>\n",
              "      <th>ndvi_sw</th>\n",
              "      <th>precipitation_amt_mm</th>\n",
              "      <th>reanalysis_air_temp_k</th>\n",
              "      <th>...</th>\n",
              "      <th>reanalysis_precip_amt_kg_per_m2</th>\n",
              "      <th>reanalysis_relative_humidity_percent</th>\n",
              "      <th>reanalysis_sat_precip_amt_mm</th>\n",
              "      <th>reanalysis_specific_humidity_g_per_kg</th>\n",
              "      <th>reanalysis_tdtr_k</th>\n",
              "      <th>station_avg_temp_c</th>\n",
              "      <th>station_diur_temp_rng_c</th>\n",
              "      <th>station_max_temp_c</th>\n",
              "      <th>station_min_temp_c</th>\n",
              "      <th>station_precip_mm</th>\n",
              "    </tr>\n",
              "  </thead>\n",
              "  <tbody>\n",
              "    <tr>\n",
              "      <th>0</th>\n",
              "      <td>sj</td>\n",
              "      <td>1990</td>\n",
              "      <td>18</td>\n",
              "      <td>1990-04-30</td>\n",
              "      <td>0.122600</td>\n",
              "      <td>0.103725</td>\n",
              "      <td>0.198483</td>\n",
              "      <td>0.177617</td>\n",
              "      <td>12.42</td>\n",
              "      <td>297.572857</td>\n",
              "      <td>...</td>\n",
              "      <td>32.00</td>\n",
              "      <td>73.365714</td>\n",
              "      <td>12.42</td>\n",
              "      <td>14.012857</td>\n",
              "      <td>2.628571</td>\n",
              "      <td>25.442857</td>\n",
              "      <td>6.900000</td>\n",
              "      <td>29.4</td>\n",
              "      <td>20.0</td>\n",
              "      <td>16.0</td>\n",
              "    </tr>\n",
              "    <tr>\n",
              "      <th>1</th>\n",
              "      <td>sj</td>\n",
              "      <td>1990</td>\n",
              "      <td>19</td>\n",
              "      <td>1990-05-07</td>\n",
              "      <td>0.169900</td>\n",
              "      <td>0.142175</td>\n",
              "      <td>0.162357</td>\n",
              "      <td>0.155486</td>\n",
              "      <td>22.82</td>\n",
              "      <td>298.211429</td>\n",
              "      <td>...</td>\n",
              "      <td>17.94</td>\n",
              "      <td>77.368571</td>\n",
              "      <td>22.82</td>\n",
              "      <td>15.372857</td>\n",
              "      <td>2.371429</td>\n",
              "      <td>26.714286</td>\n",
              "      <td>6.371429</td>\n",
              "      <td>31.7</td>\n",
              "      <td>22.2</td>\n",
              "      <td>8.6</td>\n",
              "    </tr>\n",
              "    <tr>\n",
              "      <th>2</th>\n",
              "      <td>sj</td>\n",
              "      <td>1990</td>\n",
              "      <td>20</td>\n",
              "      <td>1990-05-14</td>\n",
              "      <td>0.032250</td>\n",
              "      <td>0.172967</td>\n",
              "      <td>0.157200</td>\n",
              "      <td>0.170843</td>\n",
              "      <td>34.54</td>\n",
              "      <td>298.781429</td>\n",
              "      <td>...</td>\n",
              "      <td>26.10</td>\n",
              "      <td>82.052857</td>\n",
              "      <td>34.54</td>\n",
              "      <td>16.848571</td>\n",
              "      <td>2.300000</td>\n",
              "      <td>26.714286</td>\n",
              "      <td>6.485714</td>\n",
              "      <td>32.2</td>\n",
              "      <td>22.8</td>\n",
              "      <td>41.4</td>\n",
              "    </tr>\n",
              "    <tr>\n",
              "      <th>3</th>\n",
              "      <td>sj</td>\n",
              "      <td>1990</td>\n",
              "      <td>21</td>\n",
              "      <td>1990-05-21</td>\n",
              "      <td>0.128633</td>\n",
              "      <td>0.245067</td>\n",
              "      <td>0.227557</td>\n",
              "      <td>0.235886</td>\n",
              "      <td>15.36</td>\n",
              "      <td>298.987143</td>\n",
              "      <td>...</td>\n",
              "      <td>13.90</td>\n",
              "      <td>80.337143</td>\n",
              "      <td>15.36</td>\n",
              "      <td>16.672857</td>\n",
              "      <td>2.428571</td>\n",
              "      <td>27.471429</td>\n",
              "      <td>6.771429</td>\n",
              "      <td>33.3</td>\n",
              "      <td>23.3</td>\n",
              "      <td>4.0</td>\n",
              "    </tr>\n",
              "    <tr>\n",
              "      <th>4</th>\n",
              "      <td>sj</td>\n",
              "      <td>1990</td>\n",
              "      <td>22</td>\n",
              "      <td>1990-05-28</td>\n",
              "      <td>0.196200</td>\n",
              "      <td>0.262200</td>\n",
              "      <td>0.251200</td>\n",
              "      <td>0.247340</td>\n",
              "      <td>7.52</td>\n",
              "      <td>299.518571</td>\n",
              "      <td>...</td>\n",
              "      <td>12.20</td>\n",
              "      <td>80.460000</td>\n",
              "      <td>7.52</td>\n",
              "      <td>17.210000</td>\n",
              "      <td>3.014286</td>\n",
              "      <td>28.942857</td>\n",
              "      <td>9.371429</td>\n",
              "      <td>35.0</td>\n",
              "      <td>23.9</td>\n",
              "      <td>5.8</td>\n",
              "    </tr>\n",
              "  </tbody>\n",
              "</table>\n",
              "<p>5 rows × 24 columns</p>\n",
              "</div>\n",
              "      <button class=\"colab-df-convert\" onclick=\"convertToInteractive('df-1712d098-3664-4e08-a023-879a98a2b27c')\"\n",
              "              title=\"Convert this dataframe to an interactive table.\"\n",
              "              style=\"display:none;\">\n",
              "        \n",
              "  <svg xmlns=\"http://www.w3.org/2000/svg\" height=\"24px\"viewBox=\"0 0 24 24\"\n",
              "       width=\"24px\">\n",
              "    <path d=\"M0 0h24v24H0V0z\" fill=\"none\"/>\n",
              "    <path d=\"M18.56 5.44l.94 2.06.94-2.06 2.06-.94-2.06-.94-.94-2.06-.94 2.06-2.06.94zm-11 1L8.5 8.5l.94-2.06 2.06-.94-2.06-.94L8.5 2.5l-.94 2.06-2.06.94zm10 10l.94 2.06.94-2.06 2.06-.94-2.06-.94-.94-2.06-.94 2.06-2.06.94z\"/><path d=\"M17.41 7.96l-1.37-1.37c-.4-.4-.92-.59-1.43-.59-.52 0-1.04.2-1.43.59L10.3 9.45l-7.72 7.72c-.78.78-.78 2.05 0 2.83L4 21.41c.39.39.9.59 1.41.59.51 0 1.02-.2 1.41-.59l7.78-7.78 2.81-2.81c.8-.78.8-2.07 0-2.86zM5.41 20L4 18.59l7.72-7.72 1.47 1.35L5.41 20z\"/>\n",
              "  </svg>\n",
              "      </button>\n",
              "      \n",
              "  <style>\n",
              "    .colab-df-container {\n",
              "      display:flex;\n",
              "      flex-wrap:wrap;\n",
              "      gap: 12px;\n",
              "    }\n",
              "\n",
              "    .colab-df-convert {\n",
              "      background-color: #E8F0FE;\n",
              "      border: none;\n",
              "      border-radius: 50%;\n",
              "      cursor: pointer;\n",
              "      display: none;\n",
              "      fill: #1967D2;\n",
              "      height: 32px;\n",
              "      padding: 0 0 0 0;\n",
              "      width: 32px;\n",
              "    }\n",
              "\n",
              "    .colab-df-convert:hover {\n",
              "      background-color: #E2EBFA;\n",
              "      box-shadow: 0px 1px 2px rgba(60, 64, 67, 0.3), 0px 1px 3px 1px rgba(60, 64, 67, 0.15);\n",
              "      fill: #174EA6;\n",
              "    }\n",
              "\n",
              "    [theme=dark] .colab-df-convert {\n",
              "      background-color: #3B4455;\n",
              "      fill: #D2E3FC;\n",
              "    }\n",
              "\n",
              "    [theme=dark] .colab-df-convert:hover {\n",
              "      background-color: #434B5C;\n",
              "      box-shadow: 0px 1px 3px 1px rgba(0, 0, 0, 0.15);\n",
              "      filter: drop-shadow(0px 1px 2px rgba(0, 0, 0, 0.3));\n",
              "      fill: #FFFFFF;\n",
              "    }\n",
              "  </style>\n",
              "\n",
              "      <script>\n",
              "        const buttonEl =\n",
              "          document.querySelector('#df-1712d098-3664-4e08-a023-879a98a2b27c button.colab-df-convert');\n",
              "        buttonEl.style.display =\n",
              "          google.colab.kernel.accessAllowed ? 'block' : 'none';\n",
              "\n",
              "        async function convertToInteractive(key) {\n",
              "          const element = document.querySelector('#df-1712d098-3664-4e08-a023-879a98a2b27c');\n",
              "          const dataTable =\n",
              "            await google.colab.kernel.invokeFunction('convertToInteractive',\n",
              "                                                     [key], {});\n",
              "          if (!dataTable) return;\n",
              "\n",
              "          const docLinkHtml = 'Like what you see? Visit the ' +\n",
              "            '<a target=\"_blank\" href=https://colab.research.google.com/notebooks/data_table.ipynb>data table notebook</a>'\n",
              "            + ' to learn more about interactive tables.';\n",
              "          element.innerHTML = '';\n",
              "          dataTable['output_type'] = 'display_data';\n",
              "          await google.colab.output.renderOutput(dataTable, element);\n",
              "          const docLink = document.createElement('div');\n",
              "          docLink.innerHTML = docLinkHtml;\n",
              "          element.appendChild(docLink);\n",
              "        }\n",
              "      </script>\n",
              "    </div>\n",
              "  </div>\n",
              "  "
            ]
          },
          "metadata": {},
          "execution_count": 2
        }
      ]
    },
    {
      "cell_type": "code",
      "metadata": {
        "id": "GE8BnvDD7olL",
        "colab": {
          "base_uri": "https://localhost:8080/",
          "height": 390
        },
        "outputId": "0dc22bd3-1c08-49b3-984c-83724edd2fc8"
      },
      "source": [
        "# Subir la variable objetivo total_cases del conjunto de entrenamiento (dengue_labels_train.csv)\n",
        "train_labels = upload_files()\n",
        "\n",
        "# Unificar el conjunto de entrenamiento (características + variable objetivo)\n",
        "train = pd.merge(train_feat,train_labels,on=['city', 'year', 'weekofyear'])\n",
        "print(train.shape)\n",
        "train.head()"
      ],
      "execution_count": null,
      "outputs": [
        {
          "output_type": "display_data",
          "data": {
            "text/plain": [
              "<IPython.core.display.HTML object>"
            ],
            "text/html": [
              "\n",
              "     <input type=\"file\" id=\"files-8010889d-c149-4f5d-96e2-4cf62774364b\" name=\"files[]\" multiple disabled\n",
              "        style=\"border:none\" />\n",
              "     <output id=\"result-8010889d-c149-4f5d-96e2-4cf62774364b\">\n",
              "      Upload widget is only available when the cell has been executed in the\n",
              "      current browser session. Please rerun this cell to enable.\n",
              "      </output>\n",
              "      <script>// Copyright 2017 Google LLC\n",
              "//\n",
              "// Licensed under the Apache License, Version 2.0 (the \"License\");\n",
              "// you may not use this file except in compliance with the License.\n",
              "// You may obtain a copy of the License at\n",
              "//\n",
              "//      http://www.apache.org/licenses/LICENSE-2.0\n",
              "//\n",
              "// Unless required by applicable law or agreed to in writing, software\n",
              "// distributed under the License is distributed on an \"AS IS\" BASIS,\n",
              "// WITHOUT WARRANTIES OR CONDITIONS OF ANY KIND, either express or implied.\n",
              "// See the License for the specific language governing permissions and\n",
              "// limitations under the License.\n",
              "\n",
              "/**\n",
              " * @fileoverview Helpers for google.colab Python module.\n",
              " */\n",
              "(function(scope) {\n",
              "function span(text, styleAttributes = {}) {\n",
              "  const element = document.createElement('span');\n",
              "  element.textContent = text;\n",
              "  for (const key of Object.keys(styleAttributes)) {\n",
              "    element.style[key] = styleAttributes[key];\n",
              "  }\n",
              "  return element;\n",
              "}\n",
              "\n",
              "// Max number of bytes which will be uploaded at a time.\n",
              "const MAX_PAYLOAD_SIZE = 100 * 1024;\n",
              "\n",
              "function _uploadFiles(inputId, outputId) {\n",
              "  const steps = uploadFilesStep(inputId, outputId);\n",
              "  const outputElement = document.getElementById(outputId);\n",
              "  // Cache steps on the outputElement to make it available for the next call\n",
              "  // to uploadFilesContinue from Python.\n",
              "  outputElement.steps = steps;\n",
              "\n",
              "  return _uploadFilesContinue(outputId);\n",
              "}\n",
              "\n",
              "// This is roughly an async generator (not supported in the browser yet),\n",
              "// where there are multiple asynchronous steps and the Python side is going\n",
              "// to poll for completion of each step.\n",
              "// This uses a Promise to block the python side on completion of each step,\n",
              "// then passes the result of the previous step as the input to the next step.\n",
              "function _uploadFilesContinue(outputId) {\n",
              "  const outputElement = document.getElementById(outputId);\n",
              "  const steps = outputElement.steps;\n",
              "\n",
              "  const next = steps.next(outputElement.lastPromiseValue);\n",
              "  return Promise.resolve(next.value.promise).then((value) => {\n",
              "    // Cache the last promise value to make it available to the next\n",
              "    // step of the generator.\n",
              "    outputElement.lastPromiseValue = value;\n",
              "    return next.value.response;\n",
              "  });\n",
              "}\n",
              "\n",
              "/**\n",
              " * Generator function which is called between each async step of the upload\n",
              " * process.\n",
              " * @param {string} inputId Element ID of the input file picker element.\n",
              " * @param {string} outputId Element ID of the output display.\n",
              " * @return {!Iterable<!Object>} Iterable of next steps.\n",
              " */\n",
              "function* uploadFilesStep(inputId, outputId) {\n",
              "  const inputElement = document.getElementById(inputId);\n",
              "  inputElement.disabled = false;\n",
              "\n",
              "  const outputElement = document.getElementById(outputId);\n",
              "  outputElement.innerHTML = '';\n",
              "\n",
              "  const pickedPromise = new Promise((resolve) => {\n",
              "    inputElement.addEventListener('change', (e) => {\n",
              "      resolve(e.target.files);\n",
              "    });\n",
              "  });\n",
              "\n",
              "  const cancel = document.createElement('button');\n",
              "  inputElement.parentElement.appendChild(cancel);\n",
              "  cancel.textContent = 'Cancel upload';\n",
              "  const cancelPromise = new Promise((resolve) => {\n",
              "    cancel.onclick = () => {\n",
              "      resolve(null);\n",
              "    };\n",
              "  });\n",
              "\n",
              "  // Wait for the user to pick the files.\n",
              "  const files = yield {\n",
              "    promise: Promise.race([pickedPromise, cancelPromise]),\n",
              "    response: {\n",
              "      action: 'starting',\n",
              "    }\n",
              "  };\n",
              "\n",
              "  cancel.remove();\n",
              "\n",
              "  // Disable the input element since further picks are not allowed.\n",
              "  inputElement.disabled = true;\n",
              "\n",
              "  if (!files) {\n",
              "    return {\n",
              "      response: {\n",
              "        action: 'complete',\n",
              "      }\n",
              "    };\n",
              "  }\n",
              "\n",
              "  for (const file of files) {\n",
              "    const li = document.createElement('li');\n",
              "    li.append(span(file.name, {fontWeight: 'bold'}));\n",
              "    li.append(span(\n",
              "        `(${file.type || 'n/a'}) - ${file.size} bytes, ` +\n",
              "        `last modified: ${\n",
              "            file.lastModifiedDate ? file.lastModifiedDate.toLocaleDateString() :\n",
              "                                    'n/a'} - `));\n",
              "    const percent = span('0% done');\n",
              "    li.appendChild(percent);\n",
              "\n",
              "    outputElement.appendChild(li);\n",
              "\n",
              "    const fileDataPromise = new Promise((resolve) => {\n",
              "      const reader = new FileReader();\n",
              "      reader.onload = (e) => {\n",
              "        resolve(e.target.result);\n",
              "      };\n",
              "      reader.readAsArrayBuffer(file);\n",
              "    });\n",
              "    // Wait for the data to be ready.\n",
              "    let fileData = yield {\n",
              "      promise: fileDataPromise,\n",
              "      response: {\n",
              "        action: 'continue',\n",
              "      }\n",
              "    };\n",
              "\n",
              "    // Use a chunked sending to avoid message size limits. See b/62115660.\n",
              "    let position = 0;\n",
              "    do {\n",
              "      const length = Math.min(fileData.byteLength - position, MAX_PAYLOAD_SIZE);\n",
              "      const chunk = new Uint8Array(fileData, position, length);\n",
              "      position += length;\n",
              "\n",
              "      const base64 = btoa(String.fromCharCode.apply(null, chunk));\n",
              "      yield {\n",
              "        response: {\n",
              "          action: 'append',\n",
              "          file: file.name,\n",
              "          data: base64,\n",
              "        },\n",
              "      };\n",
              "\n",
              "      let percentDone = fileData.byteLength === 0 ?\n",
              "          100 :\n",
              "          Math.round((position / fileData.byteLength) * 100);\n",
              "      percent.textContent = `${percentDone}% done`;\n",
              "\n",
              "    } while (position < fileData.byteLength);\n",
              "  }\n",
              "\n",
              "  // All done.\n",
              "  yield {\n",
              "    response: {\n",
              "      action: 'complete',\n",
              "    }\n",
              "  };\n",
              "}\n",
              "\n",
              "scope.google = scope.google || {};\n",
              "scope.google.colab = scope.google.colab || {};\n",
              "scope.google.colab._files = {\n",
              "  _uploadFiles,\n",
              "  _uploadFilesContinue,\n",
              "};\n",
              "})(self);\n",
              "</script> "
            ]
          },
          "metadata": {}
        },
        {
          "output_type": "stream",
          "name": "stdout",
          "text": [
            "Saving dengue_labels_train.csv to dengue_labels_train.csv\n",
            "User uploaded file \"dengue_labels_train.csv\" with length 19582 bytes\n",
            "(1456, 25)\n"
          ]
        },
        {
          "output_type": "execute_result",
          "data": {
            "text/plain": [
              "  city  year  weekofyear week_start_date   ndvi_ne   ndvi_nw   ndvi_se  \\\n",
              "0   sj  1990          18      1990-04-30  0.122600  0.103725  0.198483   \n",
              "1   sj  1990          19      1990-05-07  0.169900  0.142175  0.162357   \n",
              "2   sj  1990          20      1990-05-14  0.032250  0.172967  0.157200   \n",
              "3   sj  1990          21      1990-05-21  0.128633  0.245067  0.227557   \n",
              "4   sj  1990          22      1990-05-28  0.196200  0.262200  0.251200   \n",
              "\n",
              "    ndvi_sw  precipitation_amt_mm  reanalysis_air_temp_k  ...  \\\n",
              "0  0.177617                 12.42             297.572857  ...   \n",
              "1  0.155486                 22.82             298.211429  ...   \n",
              "2  0.170843                 34.54             298.781429  ...   \n",
              "3  0.235886                 15.36             298.987143  ...   \n",
              "4  0.247340                  7.52             299.518571  ...   \n",
              "\n",
              "   reanalysis_relative_humidity_percent  reanalysis_sat_precip_amt_mm  \\\n",
              "0                             73.365714                         12.42   \n",
              "1                             77.368571                         22.82   \n",
              "2                             82.052857                         34.54   \n",
              "3                             80.337143                         15.36   \n",
              "4                             80.460000                          7.52   \n",
              "\n",
              "   reanalysis_specific_humidity_g_per_kg  reanalysis_tdtr_k  \\\n",
              "0                              14.012857           2.628571   \n",
              "1                              15.372857           2.371429   \n",
              "2                              16.848571           2.300000   \n",
              "3                              16.672857           2.428571   \n",
              "4                              17.210000           3.014286   \n",
              "\n",
              "   station_avg_temp_c  station_diur_temp_rng_c  station_max_temp_c  \\\n",
              "0           25.442857                 6.900000                29.4   \n",
              "1           26.714286                 6.371429                31.7   \n",
              "2           26.714286                 6.485714                32.2   \n",
              "3           27.471429                 6.771429                33.3   \n",
              "4           28.942857                 9.371429                35.0   \n",
              "\n",
              "   station_min_temp_c  station_precip_mm  total_cases  \n",
              "0                20.0               16.0            4  \n",
              "1                22.2                8.6            5  \n",
              "2                22.8               41.4            4  \n",
              "3                23.3                4.0            3  \n",
              "4                23.9                5.8            6  \n",
              "\n",
              "[5 rows x 25 columns]"
            ],
            "text/html": [
              "\n",
              "  <div id=\"df-a2ca9770-5bc3-4e56-a215-f9a00d1ee69d\">\n",
              "    <div class=\"colab-df-container\">\n",
              "      <div>\n",
              "<style scoped>\n",
              "    .dataframe tbody tr th:only-of-type {\n",
              "        vertical-align: middle;\n",
              "    }\n",
              "\n",
              "    .dataframe tbody tr th {\n",
              "        vertical-align: top;\n",
              "    }\n",
              "\n",
              "    .dataframe thead th {\n",
              "        text-align: right;\n",
              "    }\n",
              "</style>\n",
              "<table border=\"1\" class=\"dataframe\">\n",
              "  <thead>\n",
              "    <tr style=\"text-align: right;\">\n",
              "      <th></th>\n",
              "      <th>city</th>\n",
              "      <th>year</th>\n",
              "      <th>weekofyear</th>\n",
              "      <th>week_start_date</th>\n",
              "      <th>ndvi_ne</th>\n",
              "      <th>ndvi_nw</th>\n",
              "      <th>ndvi_se</th>\n",
              "      <th>ndvi_sw</th>\n",
              "      <th>precipitation_amt_mm</th>\n",
              "      <th>reanalysis_air_temp_k</th>\n",
              "      <th>...</th>\n",
              "      <th>reanalysis_relative_humidity_percent</th>\n",
              "      <th>reanalysis_sat_precip_amt_mm</th>\n",
              "      <th>reanalysis_specific_humidity_g_per_kg</th>\n",
              "      <th>reanalysis_tdtr_k</th>\n",
              "      <th>station_avg_temp_c</th>\n",
              "      <th>station_diur_temp_rng_c</th>\n",
              "      <th>station_max_temp_c</th>\n",
              "      <th>station_min_temp_c</th>\n",
              "      <th>station_precip_mm</th>\n",
              "      <th>total_cases</th>\n",
              "    </tr>\n",
              "  </thead>\n",
              "  <tbody>\n",
              "    <tr>\n",
              "      <th>0</th>\n",
              "      <td>sj</td>\n",
              "      <td>1990</td>\n",
              "      <td>18</td>\n",
              "      <td>1990-04-30</td>\n",
              "      <td>0.122600</td>\n",
              "      <td>0.103725</td>\n",
              "      <td>0.198483</td>\n",
              "      <td>0.177617</td>\n",
              "      <td>12.42</td>\n",
              "      <td>297.572857</td>\n",
              "      <td>...</td>\n",
              "      <td>73.365714</td>\n",
              "      <td>12.42</td>\n",
              "      <td>14.012857</td>\n",
              "      <td>2.628571</td>\n",
              "      <td>25.442857</td>\n",
              "      <td>6.900000</td>\n",
              "      <td>29.4</td>\n",
              "      <td>20.0</td>\n",
              "      <td>16.0</td>\n",
              "      <td>4</td>\n",
              "    </tr>\n",
              "    <tr>\n",
              "      <th>1</th>\n",
              "      <td>sj</td>\n",
              "      <td>1990</td>\n",
              "      <td>19</td>\n",
              "      <td>1990-05-07</td>\n",
              "      <td>0.169900</td>\n",
              "      <td>0.142175</td>\n",
              "      <td>0.162357</td>\n",
              "      <td>0.155486</td>\n",
              "      <td>22.82</td>\n",
              "      <td>298.211429</td>\n",
              "      <td>...</td>\n",
              "      <td>77.368571</td>\n",
              "      <td>22.82</td>\n",
              "      <td>15.372857</td>\n",
              "      <td>2.371429</td>\n",
              "      <td>26.714286</td>\n",
              "      <td>6.371429</td>\n",
              "      <td>31.7</td>\n",
              "      <td>22.2</td>\n",
              "      <td>8.6</td>\n",
              "      <td>5</td>\n",
              "    </tr>\n",
              "    <tr>\n",
              "      <th>2</th>\n",
              "      <td>sj</td>\n",
              "      <td>1990</td>\n",
              "      <td>20</td>\n",
              "      <td>1990-05-14</td>\n",
              "      <td>0.032250</td>\n",
              "      <td>0.172967</td>\n",
              "      <td>0.157200</td>\n",
              "      <td>0.170843</td>\n",
              "      <td>34.54</td>\n",
              "      <td>298.781429</td>\n",
              "      <td>...</td>\n",
              "      <td>82.052857</td>\n",
              "      <td>34.54</td>\n",
              "      <td>16.848571</td>\n",
              "      <td>2.300000</td>\n",
              "      <td>26.714286</td>\n",
              "      <td>6.485714</td>\n",
              "      <td>32.2</td>\n",
              "      <td>22.8</td>\n",
              "      <td>41.4</td>\n",
              "      <td>4</td>\n",
              "    </tr>\n",
              "    <tr>\n",
              "      <th>3</th>\n",
              "      <td>sj</td>\n",
              "      <td>1990</td>\n",
              "      <td>21</td>\n",
              "      <td>1990-05-21</td>\n",
              "      <td>0.128633</td>\n",
              "      <td>0.245067</td>\n",
              "      <td>0.227557</td>\n",
              "      <td>0.235886</td>\n",
              "      <td>15.36</td>\n",
              "      <td>298.987143</td>\n",
              "      <td>...</td>\n",
              "      <td>80.337143</td>\n",
              "      <td>15.36</td>\n",
              "      <td>16.672857</td>\n",
              "      <td>2.428571</td>\n",
              "      <td>27.471429</td>\n",
              "      <td>6.771429</td>\n",
              "      <td>33.3</td>\n",
              "      <td>23.3</td>\n",
              "      <td>4.0</td>\n",
              "      <td>3</td>\n",
              "    </tr>\n",
              "    <tr>\n",
              "      <th>4</th>\n",
              "      <td>sj</td>\n",
              "      <td>1990</td>\n",
              "      <td>22</td>\n",
              "      <td>1990-05-28</td>\n",
              "      <td>0.196200</td>\n",
              "      <td>0.262200</td>\n",
              "      <td>0.251200</td>\n",
              "      <td>0.247340</td>\n",
              "      <td>7.52</td>\n",
              "      <td>299.518571</td>\n",
              "      <td>...</td>\n",
              "      <td>80.460000</td>\n",
              "      <td>7.52</td>\n",
              "      <td>17.210000</td>\n",
              "      <td>3.014286</td>\n",
              "      <td>28.942857</td>\n",
              "      <td>9.371429</td>\n",
              "      <td>35.0</td>\n",
              "      <td>23.9</td>\n",
              "      <td>5.8</td>\n",
              "      <td>6</td>\n",
              "    </tr>\n",
              "  </tbody>\n",
              "</table>\n",
              "<p>5 rows × 25 columns</p>\n",
              "</div>\n",
              "      <button class=\"colab-df-convert\" onclick=\"convertToInteractive('df-a2ca9770-5bc3-4e56-a215-f9a00d1ee69d')\"\n",
              "              title=\"Convert this dataframe to an interactive table.\"\n",
              "              style=\"display:none;\">\n",
              "        \n",
              "  <svg xmlns=\"http://www.w3.org/2000/svg\" height=\"24px\"viewBox=\"0 0 24 24\"\n",
              "       width=\"24px\">\n",
              "    <path d=\"M0 0h24v24H0V0z\" fill=\"none\"/>\n",
              "    <path d=\"M18.56 5.44l.94 2.06.94-2.06 2.06-.94-2.06-.94-.94-2.06-.94 2.06-2.06.94zm-11 1L8.5 8.5l.94-2.06 2.06-.94-2.06-.94L8.5 2.5l-.94 2.06-2.06.94zm10 10l.94 2.06.94-2.06 2.06-.94-2.06-.94-.94-2.06-.94 2.06-2.06.94z\"/><path d=\"M17.41 7.96l-1.37-1.37c-.4-.4-.92-.59-1.43-.59-.52 0-1.04.2-1.43.59L10.3 9.45l-7.72 7.72c-.78.78-.78 2.05 0 2.83L4 21.41c.39.39.9.59 1.41.59.51 0 1.02-.2 1.41-.59l7.78-7.78 2.81-2.81c.8-.78.8-2.07 0-2.86zM5.41 20L4 18.59l7.72-7.72 1.47 1.35L5.41 20z\"/>\n",
              "  </svg>\n",
              "      </button>\n",
              "      \n",
              "  <style>\n",
              "    .colab-df-container {\n",
              "      display:flex;\n",
              "      flex-wrap:wrap;\n",
              "      gap: 12px;\n",
              "    }\n",
              "\n",
              "    .colab-df-convert {\n",
              "      background-color: #E8F0FE;\n",
              "      border: none;\n",
              "      border-radius: 50%;\n",
              "      cursor: pointer;\n",
              "      display: none;\n",
              "      fill: #1967D2;\n",
              "      height: 32px;\n",
              "      padding: 0 0 0 0;\n",
              "      width: 32px;\n",
              "    }\n",
              "\n",
              "    .colab-df-convert:hover {\n",
              "      background-color: #E2EBFA;\n",
              "      box-shadow: 0px 1px 2px rgba(60, 64, 67, 0.3), 0px 1px 3px 1px rgba(60, 64, 67, 0.15);\n",
              "      fill: #174EA6;\n",
              "    }\n",
              "\n",
              "    [theme=dark] .colab-df-convert {\n",
              "      background-color: #3B4455;\n",
              "      fill: #D2E3FC;\n",
              "    }\n",
              "\n",
              "    [theme=dark] .colab-df-convert:hover {\n",
              "      background-color: #434B5C;\n",
              "      box-shadow: 0px 1px 3px 1px rgba(0, 0, 0, 0.15);\n",
              "      filter: drop-shadow(0px 1px 2px rgba(0, 0, 0, 0.3));\n",
              "      fill: #FFFFFF;\n",
              "    }\n",
              "  </style>\n",
              "\n",
              "      <script>\n",
              "        const buttonEl =\n",
              "          document.querySelector('#df-a2ca9770-5bc3-4e56-a215-f9a00d1ee69d button.colab-df-convert');\n",
              "        buttonEl.style.display =\n",
              "          google.colab.kernel.accessAllowed ? 'block' : 'none';\n",
              "\n",
              "        async function convertToInteractive(key) {\n",
              "          const element = document.querySelector('#df-a2ca9770-5bc3-4e56-a215-f9a00d1ee69d');\n",
              "          const dataTable =\n",
              "            await google.colab.kernel.invokeFunction('convertToInteractive',\n",
              "                                                     [key], {});\n",
              "          if (!dataTable) return;\n",
              "\n",
              "          const docLinkHtml = 'Like what you see? Visit the ' +\n",
              "            '<a target=\"_blank\" href=https://colab.research.google.com/notebooks/data_table.ipynb>data table notebook</a>'\n",
              "            + ' to learn more about interactive tables.';\n",
              "          element.innerHTML = '';\n",
              "          dataTable['output_type'] = 'display_data';\n",
              "          await google.colab.output.renderOutput(dataTable, element);\n",
              "          const docLink = document.createElement('div');\n",
              "          docLink.innerHTML = docLinkHtml;\n",
              "          element.appendChild(docLink);\n",
              "        }\n",
              "      </script>\n",
              "    </div>\n",
              "  </div>\n",
              "  "
            ]
          },
          "metadata": {},
          "execution_count": 3
        }
      ]
    },
    {
      "cell_type": "code",
      "metadata": {
        "id": "vUWoUirN8TQ7",
        "colab": {
          "base_uri": "https://localhost:8080/",
          "height": 390
        },
        "outputId": "5d2a5fa3-3da6-42d2-ec0d-d5aa412c504f"
      },
      "source": [
        "# Subir el conjunto de test sin variable objetivo (dengue_features_test.csv)\n",
        "test = upload_files()\n",
        "print(test.shape)\n",
        "test.head()"
      ],
      "execution_count": null,
      "outputs": [
        {
          "output_type": "display_data",
          "data": {
            "text/plain": [
              "<IPython.core.display.HTML object>"
            ],
            "text/html": [
              "\n",
              "     <input type=\"file\" id=\"files-e1a93350-7d9c-4e54-8334-50865815d167\" name=\"files[]\" multiple disabled\n",
              "        style=\"border:none\" />\n",
              "     <output id=\"result-e1a93350-7d9c-4e54-8334-50865815d167\">\n",
              "      Upload widget is only available when the cell has been executed in the\n",
              "      current browser session. Please rerun this cell to enable.\n",
              "      </output>\n",
              "      <script>// Copyright 2017 Google LLC\n",
              "//\n",
              "// Licensed under the Apache License, Version 2.0 (the \"License\");\n",
              "// you may not use this file except in compliance with the License.\n",
              "// You may obtain a copy of the License at\n",
              "//\n",
              "//      http://www.apache.org/licenses/LICENSE-2.0\n",
              "//\n",
              "// Unless required by applicable law or agreed to in writing, software\n",
              "// distributed under the License is distributed on an \"AS IS\" BASIS,\n",
              "// WITHOUT WARRANTIES OR CONDITIONS OF ANY KIND, either express or implied.\n",
              "// See the License for the specific language governing permissions and\n",
              "// limitations under the License.\n",
              "\n",
              "/**\n",
              " * @fileoverview Helpers for google.colab Python module.\n",
              " */\n",
              "(function(scope) {\n",
              "function span(text, styleAttributes = {}) {\n",
              "  const element = document.createElement('span');\n",
              "  element.textContent = text;\n",
              "  for (const key of Object.keys(styleAttributes)) {\n",
              "    element.style[key] = styleAttributes[key];\n",
              "  }\n",
              "  return element;\n",
              "}\n",
              "\n",
              "// Max number of bytes which will be uploaded at a time.\n",
              "const MAX_PAYLOAD_SIZE = 100 * 1024;\n",
              "\n",
              "function _uploadFiles(inputId, outputId) {\n",
              "  const steps = uploadFilesStep(inputId, outputId);\n",
              "  const outputElement = document.getElementById(outputId);\n",
              "  // Cache steps on the outputElement to make it available for the next call\n",
              "  // to uploadFilesContinue from Python.\n",
              "  outputElement.steps = steps;\n",
              "\n",
              "  return _uploadFilesContinue(outputId);\n",
              "}\n",
              "\n",
              "// This is roughly an async generator (not supported in the browser yet),\n",
              "// where there are multiple asynchronous steps and the Python side is going\n",
              "// to poll for completion of each step.\n",
              "// This uses a Promise to block the python side on completion of each step,\n",
              "// then passes the result of the previous step as the input to the next step.\n",
              "function _uploadFilesContinue(outputId) {\n",
              "  const outputElement = document.getElementById(outputId);\n",
              "  const steps = outputElement.steps;\n",
              "\n",
              "  const next = steps.next(outputElement.lastPromiseValue);\n",
              "  return Promise.resolve(next.value.promise).then((value) => {\n",
              "    // Cache the last promise value to make it available to the next\n",
              "    // step of the generator.\n",
              "    outputElement.lastPromiseValue = value;\n",
              "    return next.value.response;\n",
              "  });\n",
              "}\n",
              "\n",
              "/**\n",
              " * Generator function which is called between each async step of the upload\n",
              " * process.\n",
              " * @param {string} inputId Element ID of the input file picker element.\n",
              " * @param {string} outputId Element ID of the output display.\n",
              " * @return {!Iterable<!Object>} Iterable of next steps.\n",
              " */\n",
              "function* uploadFilesStep(inputId, outputId) {\n",
              "  const inputElement = document.getElementById(inputId);\n",
              "  inputElement.disabled = false;\n",
              "\n",
              "  const outputElement = document.getElementById(outputId);\n",
              "  outputElement.innerHTML = '';\n",
              "\n",
              "  const pickedPromise = new Promise((resolve) => {\n",
              "    inputElement.addEventListener('change', (e) => {\n",
              "      resolve(e.target.files);\n",
              "    });\n",
              "  });\n",
              "\n",
              "  const cancel = document.createElement('button');\n",
              "  inputElement.parentElement.appendChild(cancel);\n",
              "  cancel.textContent = 'Cancel upload';\n",
              "  const cancelPromise = new Promise((resolve) => {\n",
              "    cancel.onclick = () => {\n",
              "      resolve(null);\n",
              "    };\n",
              "  });\n",
              "\n",
              "  // Wait for the user to pick the files.\n",
              "  const files = yield {\n",
              "    promise: Promise.race([pickedPromise, cancelPromise]),\n",
              "    response: {\n",
              "      action: 'starting',\n",
              "    }\n",
              "  };\n",
              "\n",
              "  cancel.remove();\n",
              "\n",
              "  // Disable the input element since further picks are not allowed.\n",
              "  inputElement.disabled = true;\n",
              "\n",
              "  if (!files) {\n",
              "    return {\n",
              "      response: {\n",
              "        action: 'complete',\n",
              "      }\n",
              "    };\n",
              "  }\n",
              "\n",
              "  for (const file of files) {\n",
              "    const li = document.createElement('li');\n",
              "    li.append(span(file.name, {fontWeight: 'bold'}));\n",
              "    li.append(span(\n",
              "        `(${file.type || 'n/a'}) - ${file.size} bytes, ` +\n",
              "        `last modified: ${\n",
              "            file.lastModifiedDate ? file.lastModifiedDate.toLocaleDateString() :\n",
              "                                    'n/a'} - `));\n",
              "    const percent = span('0% done');\n",
              "    li.appendChild(percent);\n",
              "\n",
              "    outputElement.appendChild(li);\n",
              "\n",
              "    const fileDataPromise = new Promise((resolve) => {\n",
              "      const reader = new FileReader();\n",
              "      reader.onload = (e) => {\n",
              "        resolve(e.target.result);\n",
              "      };\n",
              "      reader.readAsArrayBuffer(file);\n",
              "    });\n",
              "    // Wait for the data to be ready.\n",
              "    let fileData = yield {\n",
              "      promise: fileDataPromise,\n",
              "      response: {\n",
              "        action: 'continue',\n",
              "      }\n",
              "    };\n",
              "\n",
              "    // Use a chunked sending to avoid message size limits. See b/62115660.\n",
              "    let position = 0;\n",
              "    do {\n",
              "      const length = Math.min(fileData.byteLength - position, MAX_PAYLOAD_SIZE);\n",
              "      const chunk = new Uint8Array(fileData, position, length);\n",
              "      position += length;\n",
              "\n",
              "      const base64 = btoa(String.fromCharCode.apply(null, chunk));\n",
              "      yield {\n",
              "        response: {\n",
              "          action: 'append',\n",
              "          file: file.name,\n",
              "          data: base64,\n",
              "        },\n",
              "      };\n",
              "\n",
              "      let percentDone = fileData.byteLength === 0 ?\n",
              "          100 :\n",
              "          Math.round((position / fileData.byteLength) * 100);\n",
              "      percent.textContent = `${percentDone}% done`;\n",
              "\n",
              "    } while (position < fileData.byteLength);\n",
              "  }\n",
              "\n",
              "  // All done.\n",
              "  yield {\n",
              "    response: {\n",
              "      action: 'complete',\n",
              "    }\n",
              "  };\n",
              "}\n",
              "\n",
              "scope.google = scope.google || {};\n",
              "scope.google.colab = scope.google.colab || {};\n",
              "scope.google.colab._files = {\n",
              "  _uploadFiles,\n",
              "  _uploadFilesContinue,\n",
              "};\n",
              "})(self);\n",
              "</script> "
            ]
          },
          "metadata": {}
        },
        {
          "output_type": "stream",
          "name": "stdout",
          "text": [
            "Saving dengue_features_test.csv to dengue_features_test.csv\n",
            "User uploaded file \"dengue_features_test.csv\" with length 82465 bytes\n",
            "(416, 24)\n"
          ]
        },
        {
          "output_type": "execute_result",
          "data": {
            "text/plain": [
              "  city  year  weekofyear week_start_date  ndvi_ne   ndvi_nw   ndvi_se  \\\n",
              "0   sj  2008          18      2008-04-29  -0.0189 -0.018900  0.102729   \n",
              "1   sj  2008          19      2008-05-06  -0.0180 -0.012400  0.082043   \n",
              "2   sj  2008          20      2008-05-13  -0.0015       NaN  0.151083   \n",
              "3   sj  2008          21      2008-05-20      NaN -0.019867  0.124329   \n",
              "4   sj  2008          22      2008-05-27   0.0568  0.039833  0.062267   \n",
              "\n",
              "    ndvi_sw  precipitation_amt_mm  reanalysis_air_temp_k  ...  \\\n",
              "0  0.091200                 78.60             298.492857  ...   \n",
              "1  0.072314                 12.56             298.475714  ...   \n",
              "2  0.091529                  3.66             299.455714  ...   \n",
              "3  0.125686                  0.00             299.690000  ...   \n",
              "4  0.075914                  0.76             299.780000  ...   \n",
              "\n",
              "   reanalysis_precip_amt_kg_per_m2  reanalysis_relative_humidity_percent  \\\n",
              "0                            25.37                             78.781429   \n",
              "1                            21.83                             78.230000   \n",
              "2                             4.12                             78.270000   \n",
              "3                             2.20                             73.015714   \n",
              "4                             4.36                             74.084286   \n",
              "\n",
              "   reanalysis_sat_precip_amt_mm  reanalysis_specific_humidity_g_per_kg  \\\n",
              "0                         78.60                              15.918571   \n",
              "1                         12.56                              15.791429   \n",
              "2                          3.66                              16.674286   \n",
              "3                          0.00                              15.775714   \n",
              "4                          0.76                              16.137143   \n",
              "\n",
              "   reanalysis_tdtr_k  station_avg_temp_c  station_diur_temp_rng_c  \\\n",
              "0           3.128571           26.528571                 7.057143   \n",
              "1           2.571429           26.071429                 5.557143   \n",
              "2           4.428571           27.928571                 7.785714   \n",
              "3           4.342857           28.057143                 6.271429   \n",
              "4           3.542857           27.614286                 7.085714   \n",
              "\n",
              "   station_max_temp_c  station_min_temp_c  station_precip_mm  \n",
              "0                33.3                21.7               75.2  \n",
              "1                30.0                22.2               34.3  \n",
              "2                32.8                22.8                3.0  \n",
              "3                33.3                24.4                0.3  \n",
              "4                33.3                23.3               84.1  \n",
              "\n",
              "[5 rows x 24 columns]"
            ],
            "text/html": [
              "\n",
              "  <div id=\"df-e1a4e6cc-475b-458b-b1fb-0285a3f63cae\">\n",
              "    <div class=\"colab-df-container\">\n",
              "      <div>\n",
              "<style scoped>\n",
              "    .dataframe tbody tr th:only-of-type {\n",
              "        vertical-align: middle;\n",
              "    }\n",
              "\n",
              "    .dataframe tbody tr th {\n",
              "        vertical-align: top;\n",
              "    }\n",
              "\n",
              "    .dataframe thead th {\n",
              "        text-align: right;\n",
              "    }\n",
              "</style>\n",
              "<table border=\"1\" class=\"dataframe\">\n",
              "  <thead>\n",
              "    <tr style=\"text-align: right;\">\n",
              "      <th></th>\n",
              "      <th>city</th>\n",
              "      <th>year</th>\n",
              "      <th>weekofyear</th>\n",
              "      <th>week_start_date</th>\n",
              "      <th>ndvi_ne</th>\n",
              "      <th>ndvi_nw</th>\n",
              "      <th>ndvi_se</th>\n",
              "      <th>ndvi_sw</th>\n",
              "      <th>precipitation_amt_mm</th>\n",
              "      <th>reanalysis_air_temp_k</th>\n",
              "      <th>...</th>\n",
              "      <th>reanalysis_precip_amt_kg_per_m2</th>\n",
              "      <th>reanalysis_relative_humidity_percent</th>\n",
              "      <th>reanalysis_sat_precip_amt_mm</th>\n",
              "      <th>reanalysis_specific_humidity_g_per_kg</th>\n",
              "      <th>reanalysis_tdtr_k</th>\n",
              "      <th>station_avg_temp_c</th>\n",
              "      <th>station_diur_temp_rng_c</th>\n",
              "      <th>station_max_temp_c</th>\n",
              "      <th>station_min_temp_c</th>\n",
              "      <th>station_precip_mm</th>\n",
              "    </tr>\n",
              "  </thead>\n",
              "  <tbody>\n",
              "    <tr>\n",
              "      <th>0</th>\n",
              "      <td>sj</td>\n",
              "      <td>2008</td>\n",
              "      <td>18</td>\n",
              "      <td>2008-04-29</td>\n",
              "      <td>-0.0189</td>\n",
              "      <td>-0.018900</td>\n",
              "      <td>0.102729</td>\n",
              "      <td>0.091200</td>\n",
              "      <td>78.60</td>\n",
              "      <td>298.492857</td>\n",
              "      <td>...</td>\n",
              "      <td>25.37</td>\n",
              "      <td>78.781429</td>\n",
              "      <td>78.60</td>\n",
              "      <td>15.918571</td>\n",
              "      <td>3.128571</td>\n",
              "      <td>26.528571</td>\n",
              "      <td>7.057143</td>\n",
              "      <td>33.3</td>\n",
              "      <td>21.7</td>\n",
              "      <td>75.2</td>\n",
              "    </tr>\n",
              "    <tr>\n",
              "      <th>1</th>\n",
              "      <td>sj</td>\n",
              "      <td>2008</td>\n",
              "      <td>19</td>\n",
              "      <td>2008-05-06</td>\n",
              "      <td>-0.0180</td>\n",
              "      <td>-0.012400</td>\n",
              "      <td>0.082043</td>\n",
              "      <td>0.072314</td>\n",
              "      <td>12.56</td>\n",
              "      <td>298.475714</td>\n",
              "      <td>...</td>\n",
              "      <td>21.83</td>\n",
              "      <td>78.230000</td>\n",
              "      <td>12.56</td>\n",
              "      <td>15.791429</td>\n",
              "      <td>2.571429</td>\n",
              "      <td>26.071429</td>\n",
              "      <td>5.557143</td>\n",
              "      <td>30.0</td>\n",
              "      <td>22.2</td>\n",
              "      <td>34.3</td>\n",
              "    </tr>\n",
              "    <tr>\n",
              "      <th>2</th>\n",
              "      <td>sj</td>\n",
              "      <td>2008</td>\n",
              "      <td>20</td>\n",
              "      <td>2008-05-13</td>\n",
              "      <td>-0.0015</td>\n",
              "      <td>NaN</td>\n",
              "      <td>0.151083</td>\n",
              "      <td>0.091529</td>\n",
              "      <td>3.66</td>\n",
              "      <td>299.455714</td>\n",
              "      <td>...</td>\n",
              "      <td>4.12</td>\n",
              "      <td>78.270000</td>\n",
              "      <td>3.66</td>\n",
              "      <td>16.674286</td>\n",
              "      <td>4.428571</td>\n",
              "      <td>27.928571</td>\n",
              "      <td>7.785714</td>\n",
              "      <td>32.8</td>\n",
              "      <td>22.8</td>\n",
              "      <td>3.0</td>\n",
              "    </tr>\n",
              "    <tr>\n",
              "      <th>3</th>\n",
              "      <td>sj</td>\n",
              "      <td>2008</td>\n",
              "      <td>21</td>\n",
              "      <td>2008-05-20</td>\n",
              "      <td>NaN</td>\n",
              "      <td>-0.019867</td>\n",
              "      <td>0.124329</td>\n",
              "      <td>0.125686</td>\n",
              "      <td>0.00</td>\n",
              "      <td>299.690000</td>\n",
              "      <td>...</td>\n",
              "      <td>2.20</td>\n",
              "      <td>73.015714</td>\n",
              "      <td>0.00</td>\n",
              "      <td>15.775714</td>\n",
              "      <td>4.342857</td>\n",
              "      <td>28.057143</td>\n",
              "      <td>6.271429</td>\n",
              "      <td>33.3</td>\n",
              "      <td>24.4</td>\n",
              "      <td>0.3</td>\n",
              "    </tr>\n",
              "    <tr>\n",
              "      <th>4</th>\n",
              "      <td>sj</td>\n",
              "      <td>2008</td>\n",
              "      <td>22</td>\n",
              "      <td>2008-05-27</td>\n",
              "      <td>0.0568</td>\n",
              "      <td>0.039833</td>\n",
              "      <td>0.062267</td>\n",
              "      <td>0.075914</td>\n",
              "      <td>0.76</td>\n",
              "      <td>299.780000</td>\n",
              "      <td>...</td>\n",
              "      <td>4.36</td>\n",
              "      <td>74.084286</td>\n",
              "      <td>0.76</td>\n",
              "      <td>16.137143</td>\n",
              "      <td>3.542857</td>\n",
              "      <td>27.614286</td>\n",
              "      <td>7.085714</td>\n",
              "      <td>33.3</td>\n",
              "      <td>23.3</td>\n",
              "      <td>84.1</td>\n",
              "    </tr>\n",
              "  </tbody>\n",
              "</table>\n",
              "<p>5 rows × 24 columns</p>\n",
              "</div>\n",
              "      <button class=\"colab-df-convert\" onclick=\"convertToInteractive('df-e1a4e6cc-475b-458b-b1fb-0285a3f63cae')\"\n",
              "              title=\"Convert this dataframe to an interactive table.\"\n",
              "              style=\"display:none;\">\n",
              "        \n",
              "  <svg xmlns=\"http://www.w3.org/2000/svg\" height=\"24px\"viewBox=\"0 0 24 24\"\n",
              "       width=\"24px\">\n",
              "    <path d=\"M0 0h24v24H0V0z\" fill=\"none\"/>\n",
              "    <path d=\"M18.56 5.44l.94 2.06.94-2.06 2.06-.94-2.06-.94-.94-2.06-.94 2.06-2.06.94zm-11 1L8.5 8.5l.94-2.06 2.06-.94-2.06-.94L8.5 2.5l-.94 2.06-2.06.94zm10 10l.94 2.06.94-2.06 2.06-.94-2.06-.94-.94-2.06-.94 2.06-2.06.94z\"/><path d=\"M17.41 7.96l-1.37-1.37c-.4-.4-.92-.59-1.43-.59-.52 0-1.04.2-1.43.59L10.3 9.45l-7.72 7.72c-.78.78-.78 2.05 0 2.83L4 21.41c.39.39.9.59 1.41.59.51 0 1.02-.2 1.41-.59l7.78-7.78 2.81-2.81c.8-.78.8-2.07 0-2.86zM5.41 20L4 18.59l7.72-7.72 1.47 1.35L5.41 20z\"/>\n",
              "  </svg>\n",
              "      </button>\n",
              "      \n",
              "  <style>\n",
              "    .colab-df-container {\n",
              "      display:flex;\n",
              "      flex-wrap:wrap;\n",
              "      gap: 12px;\n",
              "    }\n",
              "\n",
              "    .colab-df-convert {\n",
              "      background-color: #E8F0FE;\n",
              "      border: none;\n",
              "      border-radius: 50%;\n",
              "      cursor: pointer;\n",
              "      display: none;\n",
              "      fill: #1967D2;\n",
              "      height: 32px;\n",
              "      padding: 0 0 0 0;\n",
              "      width: 32px;\n",
              "    }\n",
              "\n",
              "    .colab-df-convert:hover {\n",
              "      background-color: #E2EBFA;\n",
              "      box-shadow: 0px 1px 2px rgba(60, 64, 67, 0.3), 0px 1px 3px 1px rgba(60, 64, 67, 0.15);\n",
              "      fill: #174EA6;\n",
              "    }\n",
              "\n",
              "    [theme=dark] .colab-df-convert {\n",
              "      background-color: #3B4455;\n",
              "      fill: #D2E3FC;\n",
              "    }\n",
              "\n",
              "    [theme=dark] .colab-df-convert:hover {\n",
              "      background-color: #434B5C;\n",
              "      box-shadow: 0px 1px 3px 1px rgba(0, 0, 0, 0.15);\n",
              "      filter: drop-shadow(0px 1px 2px rgba(0, 0, 0, 0.3));\n",
              "      fill: #FFFFFF;\n",
              "    }\n",
              "  </style>\n",
              "\n",
              "      <script>\n",
              "        const buttonEl =\n",
              "          document.querySelector('#df-e1a4e6cc-475b-458b-b1fb-0285a3f63cae button.colab-df-convert');\n",
              "        buttonEl.style.display =\n",
              "          google.colab.kernel.accessAllowed ? 'block' : 'none';\n",
              "\n",
              "        async function convertToInteractive(key) {\n",
              "          const element = document.querySelector('#df-e1a4e6cc-475b-458b-b1fb-0285a3f63cae');\n",
              "          const dataTable =\n",
              "            await google.colab.kernel.invokeFunction('convertToInteractive',\n",
              "                                                     [key], {});\n",
              "          if (!dataTable) return;\n",
              "\n",
              "          const docLinkHtml = 'Like what you see? Visit the ' +\n",
              "            '<a target=\"_blank\" href=https://colab.research.google.com/notebooks/data_table.ipynb>data table notebook</a>'\n",
              "            + ' to learn more about interactive tables.';\n",
              "          element.innerHTML = '';\n",
              "          dataTable['output_type'] = 'display_data';\n",
              "          await google.colab.output.renderOutput(dataTable, element);\n",
              "          const docLink = document.createElement('div');\n",
              "          docLink.innerHTML = docLinkHtml;\n",
              "          element.appendChild(docLink);\n",
              "        }\n",
              "      </script>\n",
              "    </div>\n",
              "  </div>\n",
              "  "
            ]
          },
          "metadata": {},
          "execution_count": 4
        }
      ]
    },
    {
      "cell_type": "markdown",
      "metadata": {
        "id": "dZSaoCMRAq8m"
      },
      "source": [
        "---\n",
        "# Preprocesado\n",
        "---"
      ]
    },
    {
      "cell_type": "markdown",
      "source": [
        "En primer lugar, una vez tenemos los datos en bruto, se procede a modificar variables para adecuarlas al procesado de las siguientes secciones."
      ],
      "metadata": {
        "id": "A50PG6Fi590f"
      }
    },
    {
      "cell_type": "markdown",
      "source": [
        "En primer lugar se toma la variable week_start_date y se transforma en tipo fecha, esto es para posteriormente, crear una variable basada en la estación del año.\n",
        "\n",
        "Los algoritmos de agrupamiento que se utilizarán más adelante no aceptan valores no numéricos, por lo que habrá que eliminar esta variable fecha más adelante."
      ],
      "metadata": {
        "id": "EV0s2VFm6NCG"
      }
    },
    {
      "cell_type": "code",
      "metadata": {
        "id": "bSwX3YqgsuYn"
      },
      "source": [
        "#el atributo 'week_start_date' es formato string, lo pasamos a fecha\n",
        "train['week_start_date'] = pd.to_datetime(train['week_start_date'], format='%Y-%m-%d')\n",
        "test['week_start_date'] = pd.to_datetime(test['week_start_date'], format='%Y-%m-%d')"
      ],
      "execution_count": null,
      "outputs": []
    },
    {
      "cell_type": "markdown",
      "source": [
        "Por el motivo ya comentado de que los algoritmos no aceptan valores no numéricos, procedemos a transformar los valores de las dos ciudades en 0 o 1, es decir, las binarizamos, dando lugar a la variable 'city_bin'."
      ],
      "metadata": {
        "id": "O0OSq9aI6kgd"
      }
    },
    {
      "cell_type": "code",
      "source": [
        "#Binarizador para la variable categórica city.\n",
        "from sklearn import preprocessing\n",
        "lb = preprocessing.LabelBinarizer()\n",
        "\n",
        "train['city_bin'] = lb.fit_transform(train['city'])\n",
        "test['city_bin'] = lb.fit_transform(test['city'])"
      ],
      "metadata": {
        "id": "VCTnBe1eKGQF"
      },
      "execution_count": null,
      "outputs": []
    },
    {
      "cell_type": "markdown",
      "source": [
        "Nótese que se ha ejecutado el código tanto para el set de entrenamiento como en el de test."
      ],
      "metadata": {
        "id": "WetuVUo8621R"
      }
    },
    {
      "cell_type": "markdown",
      "source": [
        "---\n",
        "# Características\n",
        "---"
      ],
      "metadata": {
        "id": "XeleKQdFnZzN"
      }
    },
    {
      "cell_type": "markdown",
      "source": [
        "En esta sección se ejecutará código de procesado de características.\n",
        "\n",
        "Se trata de creación de variables, eliminación de variables y tratamiento de nulos.\n",
        "\n",
        "No se eliminan registros con demasiados nulos o tratamiento de outliers en general, esto es porque al final de la actividad, al subir el archivo a la plataforma del concurso, el archivo debe tener el número de registros original.\n",
        "\n",
        "Respecto a los nulos, salvo en los atributos relacionados con NDVI, se ha procedido a utilizar el método ffill."
      ],
      "metadata": {
        "id": "F_U5c-io7QHE"
      }
    },
    {
      "cell_type": "markdown",
      "source": [
        "##Tratamiento de nulos"
      ],
      "metadata": {
        "id": "BIlpdBWX8_o2"
      }
    },
    {
      "cell_type": "markdown",
      "source": [
        "  * En primer lugar se tratan las variables NDVI obteniendo un promedio entre los valores anteriores y posteriores no nulos."
      ],
      "metadata": {
        "id": "DyQahU6wTWUL"
      }
    },
    {
      "cell_type": "code",
      "source": [
        "#llenamos los valores nulos de ndvi:\n",
        "\n",
        "#Train\n",
        "train = train.reset_index(drop=True)\n",
        "\n",
        "def fill_ndvi(df, columns):\n",
        "    for column in columns:\n",
        "        # Encuentra los índices de los valores nulos\n",
        "        null_indices = df[column].isnull()\n",
        "\n",
        "        # Itera a través de los índices nulos y actualiza los valores\n",
        "        for i in null_indices[null_indices==True].index:\n",
        "            # Encuentra el primer índice no nulo después del índice actual\n",
        "            next_valid_index = df[column][i:].first_valid_index()\n",
        "            if next_valid_index is None:\n",
        "                # Si no hay valores no nulos después del índice actual, no se puede hacer nada\n",
        "                break\n",
        "            elif next_valid_index >= len(df):\n",
        "                # Si el índice siguiente es mayor que la longitud del dataframe, no se puede hacer nada\n",
        "                break\n",
        "            # Calcula el promedio entre el valor anterior no nulo y el primer valor no nulo después\n",
        "            avg = (df[column][i-1] + df[column][next_valid_index]) / 2\n",
        "            # Actualiza el valor nulo con el promedio\n",
        "            df.loc[i, column] = avg\n",
        "\n",
        "    return df\n",
        "\n",
        "columns = ['ndvi_ne', 'ndvi_nw', 'ndvi_se', 'ndvi_sw'] #se aplica a estas columnas\n",
        "train = fill_ndvi(train, columns)\n",
        "\n",
        "#------------------------------------\n",
        "\n",
        "#Test\n",
        "test = test.reset_index(drop=True)\n",
        "test = fill_ndvi(test, columns)"
      ],
      "metadata": {
        "id": "_jmM9srXJYLJ"
      },
      "execution_count": null,
      "outputs": []
    },
    {
      "cell_type": "markdown",
      "source": [
        "  * A continuación se trata el resto de nulos mediante el método ffill:"
      ],
      "metadata": {
        "id": "_YBzNpX8TfCj"
      }
    },
    {
      "cell_type": "code",
      "source": [
        "#se procede a rellenar los nulos\n",
        "train.fillna(method='ffill', inplace=True)\n",
        "test.fillna(method='ffill', inplace=True)"
      ],
      "metadata": {
        "id": "3tPjn3N-J0Lv"
      },
      "execution_count": null,
      "outputs": []
    },
    {
      "cell_type": "markdown",
      "source": [
        "##Creación de variables"
      ],
      "metadata": {
        "id": "AkFsrHvi9CO8"
      }
    },
    {
      "cell_type": "markdown",
      "source": [
        "Creamos dos variables a partir de los datos que ya tenemos.\n",
        "\n",
        "Se trata de la columna 'estación' y la columna 'ndvi_avg'."
      ],
      "metadata": {
        "id": "siYC1UlJTmmB"
      }
    },
    {
      "cell_type": "code",
      "source": [
        "#Cramos la columna de estación\n",
        "train['season'] = (train['week_start_date'].dt.month % 12 + 3) // 3\n",
        "test['season'] = (test['week_start_date'].dt.month % 12 + 3) // 3\n",
        "#0: invierno, 1: primavera, 2: verano, 3: otoño\n",
        "\n",
        "#Creamos una columna que agrupe los factores ndvi en un único factor con los promedios:\n",
        "train['ndvi_avg'] = train[['ndvi_ne', 'ndvi_nw', 'ndvi_se', 'ndvi_sw']].mean(axis=1)\n",
        "test['ndvi_avg'] = test[['ndvi_ne', 'ndvi_nw', 'ndvi_se', 'ndvi_sw']].mean(axis=1)"
      ],
      "metadata": {
        "id": "alX-rSEUB-Ps"
      },
      "execution_count": null,
      "outputs": []
    },
    {
      "cell_type": "markdown",
      "source": [
        "##Eliminación de variables"
      ],
      "metadata": {
        "id": "r4hguec39EvQ"
      }
    },
    {
      "cell_type": "markdown",
      "source": [
        "Se eliminan las variables por motivos explicados anteriormente."
      ],
      "metadata": {
        "id": "SM1Z5DOkTsdJ"
      }
    },
    {
      "cell_type": "code",
      "source": [
        "#Borramos las cuatro columnas ndvi originales\n",
        "train.drop(['ndvi_ne', 'ndvi_nw', 'ndvi_se', 'ndvi_sw'], axis=1, inplace=True)\n",
        "test.drop(['ndvi_ne', 'ndvi_nw', 'ndvi_se', 'ndvi_sw'], axis=1, inplace=True)\n",
        "\n",
        "#Eliminamos la columna string 'city'\n",
        "train = train.drop('city', axis=1)\n",
        "test = test.drop('city', axis=1)\n",
        "\n",
        "#Eliminamos la columna date 'week_start_date'\n",
        "train = train.drop('week_start_date', axis=1)\n",
        "test = test.drop('week_start_date', axis=1)\n",
        "\n",
        "#Eliminamos la columna date 'reanalysis_sat_precip_amt_mm'\n",
        "train = train.drop('reanalysis_sat_precip_amt_mm', axis=1)\n",
        "test = test.drop('reanalysis_sat_precip_amt_mm', axis=1)\n",
        "\n",
        "#Eliminamos la columna date 'reanalysis_air_temp_k'\n",
        "train = train.drop('reanalysis_air_temp_k', axis=1)\n",
        "test = test.drop('reanalysis_air_temp_k', axis=1)\n",
        "\n",
        "#Eliminamos la columna date 'reanalysis_dew_point_temp_k'\n",
        "train = train.drop('reanalysis_dew_point_temp_k', axis=1)\n",
        "test = test.drop('reanalysis_dew_point_temp_k', axis=1)\n",
        "\n",
        "#Eliminamos la columna date 'reanalysis_tdtr_k'\n",
        "train = train.drop('reanalysis_tdtr_k', axis=1)\n",
        "test = test.drop('reanalysis_tdtr_k', axis=1)"
      ],
      "metadata": {
        "id": "5foWfm-lK7w-"
      },
      "execution_count": null,
      "outputs": []
    },
    {
      "cell_type": "markdown",
      "source": [
        "##Separación del conjunto de validación"
      ],
      "metadata": {
        "id": "Xa8c_bc_nwFf"
      }
    },
    {
      "cell_type": "markdown",
      "source": [
        "Adicionalmente, se separa del conjunto de entrenamiento un pequeño conjunto de validación que se empleará para tener un MAE alternativo al obtenido de la página web. Los algoritmos de entrenamiento no verán este conjunto de validación.\n",
        "\n",
        "Esto es útil puesto que contamos con datos etiquetados, a los que podemos quitar la etiqueta durante la validación y posteriormente comprobar los resultados con la misma.\n",
        "\n",
        "Se realiza esta separación en este momento puesto que ya está tratado el conjunto de entrenamiento, por lo tanto no es necesario volver a aplicar las transformaciones al de validación."
      ],
      "metadata": {
        "id": "7RP5DJioeZcv"
      }
    },
    {
      "cell_type": "code",
      "source": [
        "from sklearn.model_selection import train_test_split\n",
        "train, validation = train_test_split(train, test_size=0.2, random_state=123)"
      ],
      "metadata": {
        "id": "MSs70NwieZo7"
      },
      "execution_count": null,
      "outputs": []
    },
    {
      "cell_type": "markdown",
      "source": [
        "Estos son los conjuntos con los que contamos y sus tamaños:"
      ],
      "metadata": {
        "id": "kS32cYihJjwP"
      }
    },
    {
      "cell_type": "code",
      "source": [
        "print('Conjunto de test: ' + str(test.shape))\n",
        "print('Conjunto de entrenamiento: ' + str(train.shape))\n",
        "print('Conjunto de validación: ' + str(validation.shape))"
      ],
      "metadata": {
        "colab": {
          "base_uri": "https://localhost:8080/"
        },
        "id": "3U1jVMNdJnLf",
        "outputId": "3e2fa591-ec81-4603-d8bf-fd0e1674c70f"
      },
      "execution_count": null,
      "outputs": [
        {
          "output_type": "stream",
          "name": "stdout",
          "text": [
            "Conjunto de test: (416, 17)\n",
            "Conjunto de entrenamiento: (1164, 18)\n",
            "Conjunto de validación: (292, 18)\n"
          ]
        }
      ]
    },
    {
      "cell_type": "markdown",
      "source": [
        "##Normalización de las variables"
      ],
      "metadata": {
        "id": "_igQFLPR9H5T"
      }
    },
    {
      "cell_type": "markdown",
      "source": [
        "Previo al análisis de agrupamiento con diferentes algoritmos es necesario normalizar los valores de los atributos del set de entrenamiento.\n",
        "\n",
        "Esto se debe a que este tipo de algoritmos tiende a valorar más la aportación de una variable con un valor muy elevado por encima de otra variable que tomas valores pequeños.\n",
        "\n",
        "Para evitar este sesgo, se reescalan todos los valores del dataset:"
      ],
      "metadata": {
        "id": "uHIrOcUx9PPU"
      }
    },
    {
      "cell_type": "code",
      "source": [
        "#Normalización con MinMaxScaler\n",
        "from sklearn.preprocessing import MinMaxScaler\n",
        "scaler = MinMaxScaler()\n",
        "original_train=train\n",
        "\n",
        "train = train.drop(\"total_cases\", axis = 1)\n",
        "train = scaler.fit_transform(train)"
      ],
      "metadata": {
        "id": "PKceVWiEN6Wf"
      },
      "execution_count": null,
      "outputs": []
    },
    {
      "cell_type": "markdown",
      "source": [
        "*Esta normalización sólo se utilizará para los algoritmos de agrupamiento"
      ],
      "metadata": {
        "id": "Hd8efqrbVlm9"
      }
    },
    {
      "cell_type": "markdown",
      "metadata": {
        "id": "DHn4PMedwQwi"
      },
      "source": [
        "---\n",
        "# Predicción\n",
        "---"
      ]
    },
    {
      "cell_type": "markdown",
      "source": [
        "En esta sección emplearemos técnicas de agrupamiento para dotar los registros del dataset con etiquetas que nos permitan mejorar la capacidad de predicción del número de casos. Se utilizarán algoritmos de agrupamiento."
      ],
      "metadata": {
        "id": "yex_l5QuAMuV"
      }
    },
    {
      "cell_type": "markdown",
      "source": [
        "Fijamos la semilla de valores aleatorios para que los resultados obtenidos por mí en un primer momento se reproduzcan de igual forma siempre que sean ejecutados por cualquiera."
      ],
      "metadata": {
        "id": "9IVAlNnS95ni"
      }
    },
    {
      "cell_type": "code",
      "source": [
        "np.random.seed(123)"
      ],
      "metadata": {
        "id": "S2Vpwj2hrQ0s"
      },
      "execution_count": null,
      "outputs": []
    },
    {
      "cell_type": "markdown",
      "source": [
        "##K-Means"
      ],
      "metadata": {
        "id": "fQgU-0CE-P1B"
      }
    },
    {
      "cell_type": "markdown",
      "source": [
        "El primer algoritmo de agrupamiento que utilizamos es K-Means, pues se trata del que mejor se comportó en la actividad anterior, obteniendo un mejor resultado del índice de Davies-Bouldin."
      ],
      "metadata": {
        "id": "gPyUzY44UNha"
      }
    },
    {
      "cell_type": "markdown",
      "source": [
        "###Método del codo"
      ],
      "metadata": {
        "id": "rBR69E6W-WI8"
      }
    },
    {
      "cell_type": "markdown",
      "source": [
        "Para optimizar de forma sencilla y directa el número de clusters tenemos el método del codo. El punto de inflexión del \"codo\" nos indica el valor óptimo del número de clusters para nuestro dataset."
      ],
      "metadata": {
        "id": "qvNbyulU_b0o"
      }
    },
    {
      "cell_type": "code",
      "source": [
        "#K-means - número de clusters, método del codo\n",
        "from sklearn.cluster import KMeans\n",
        "\n",
        "ssd = []\n",
        "for k in range(1, 11):\n",
        "    kmeans = KMeans(n_clusters=k, n_init = 10, random_state=42)\n",
        "    kmeans.fit(train)\n",
        "    ssd.append(kmeans.inertia_)\n",
        "plt.plot(range(1, 11), ssd, 'bx-')\n",
        "plt.xlabel('Número de Clústeres (k)')\n",
        "plt.ylabel('Suma de Cuadrados de las Distancias')\n",
        "plt.title('Método del Codo')\n",
        "plt.show()"
      ],
      "metadata": {
        "colab": {
          "base_uri": "https://localhost:8080/",
          "height": 472
        },
        "id": "Bo5S460cOYWm",
        "outputId": "aed5b575-11c8-49d5-9778-a09bae481c8e"
      },
      "execution_count": null,
      "outputs": [
        {
          "output_type": "display_data",
          "data": {
            "text/plain": [
              "<Figure size 640x480 with 1 Axes>"
            ],
            "image/png": "[encoded data removed]"
          },
          "metadata": {}
        }
      ]
    },
    {
      "cell_type": "markdown",
      "source": [
        "A través del gráfico podemos ver que el punto de inflexión se encuentra en 3, aunque se podría valorar utilizar 2 puesto que hay gran diferencia respecto a 1 y poca respecto a 3. Se pueden probar ambos y utilizar alguna métrica para valorar cuál es mejor."
      ],
      "metadata": {
        "id": "UEMYKwRm_rY6"
      }
    },
    {
      "cell_type": "markdown",
      "source": [
        "###Parámetro n = 3"
      ],
      "metadata": {
        "id": "zKPS4vX7Eaf9"
      }
    },
    {
      "cell_type": "markdown",
      "source": [
        "Vamos a ejecutar el algoritmo para número de clusters n = 3 y a visualizar el resultado."
      ],
      "metadata": {
        "id": "6Q7KSzQKUkZ4"
      }
    },
    {
      "cell_type": "code",
      "source": [
        "#K-Means n = 3\n",
        "kmeans = KMeans(n_clusters=3, n_init=10, max_iter = 300, tol = 0.01)\n",
        "kmeans.fit(train)\n",
        "labels = kmeans.labels_\n",
        "centroids = kmeans.cluster_centers_\n",
        "\n",
        "# Reducción de dimensionalidad con PCA\n",
        "from sklearn.decomposition import PCA\n",
        "import numpy as np\n",
        "pca = PCA(n_components=2)\n",
        "X_pca = pca.fit_transform(train)\n",
        "X_pca = np.hstack((X_pca, labels.reshape(-1, 1)))\n",
        "\n",
        "#Visualizamos\n",
        "plt.scatter(x=X_pca[:, 0], y=X_pca[:, 1], c=X_pca[:, 2])\n",
        "plt.xlabel('Componente principal 1')\n",
        "plt.ylabel('Componente principal 2')\n",
        "plt.title('Clustering con Kmeans y 3 clusters')\n",
        "plt.show()\n",
        "\n",
        "#----------\n",
        "kmeans_n3 = kmeans"
      ],
      "metadata": {
        "colab": {
          "base_uri": "https://localhost:8080/",
          "height": 472
        },
        "id": "PcQwvIHmTHGL",
        "outputId": "f3dfb620-3178-469c-88f7-9235be3df05e"
      },
      "execution_count": null,
      "outputs": [
        {
          "output_type": "display_data",
          "data": {
            "text/plain": [
              "<Figure size 640x480 with 1 Axes>"
            ],
            "image/png": "[encoded data removed]"
          },
          "metadata": {}
        }
      ]
    },
    {
      "cell_type": "code",
      "source": [
        "train_kmeans_n3 = original_train\n",
        "train_kmeans_n3['etiquetas']= kmeans.labels_"
      ],
      "metadata": {
        "id": "SoDAQrSTTeB0"
      },
      "execution_count": null,
      "outputs": []
    },
    {
      "cell_type": "markdown",
      "source": [
        "####Validación"
      ],
      "metadata": {
        "id": "v5GkXW3i-aw-"
      }
    },
    {
      "cell_type": "markdown",
      "source": [
        "Para escoger un algoritmo se emplea el índice de Davies-Bouldin. Este índice mide el nivel de compactación de los clusters y el objetivo es minimizar su valor."
      ],
      "metadata": {
        "id": "Z8e6YcK2-cHo"
      }
    },
    {
      "cell_type": "code",
      "source": [
        "from sklearn.metrics import davies_bouldin_score\n",
        "db_index = davies_bouldin_score(train, labels)\n",
        "print(\"El índice de Davies-Bouldin es:\", db_index)"
      ],
      "metadata": {
        "colab": {
          "base_uri": "https://localhost:8080/"
        },
        "id": "v3gaUGhKTa6d",
        "outputId": "ba846744-e9be-4c48-d9de-274b25dd626f"
      },
      "execution_count": null,
      "outputs": [
        {
          "output_type": "stream",
          "name": "stdout",
          "text": [
            "El índice de Davies-Bouldin es: 0.9565319148612845\n"
          ]
        }
      ]
    },
    {
      "cell_type": "markdown",
      "source": [
        "###Parámetro n = 2"
      ],
      "metadata": {
        "id": "xLzM0mu3Efrj"
      }
    },
    {
      "cell_type": "markdown",
      "source": [
        "Por completitud vamos a analizar el caso con número de clusters n = 2, puesto que en el método del codo también sale bien parado este valor. Es necesario hacer esta comparación para optimizar este hiperparámetro."
      ],
      "metadata": {
        "id": "USkNL1VPUxjs"
      }
    },
    {
      "cell_type": "code",
      "source": [
        "#K-Means n = 2\n",
        "kmeans = KMeans(n_clusters=2, n_init=10, max_iter = 300, tol = 0.01)\n",
        "kmeans.fit(train)\n",
        "labels = kmeans.labels_\n",
        "centroids = kmeans.cluster_centers_\n",
        "\n",
        "# Reducción de dimensionalidad con PCA\n",
        "from sklearn.decomposition import PCA\n",
        "import numpy as np\n",
        "pca = PCA(n_components=2)\n",
        "X_pca = pca.fit_transform(train)\n",
        "X_pca = np.hstack((X_pca, labels.reshape(-1, 1)))\n",
        "\n",
        "#Visualizamos\n",
        "plt.scatter(x=X_pca[:, 0], y=X_pca[:, 1], c=X_pca[:, 2])\n",
        "plt.xlabel('Componente principal 1')\n",
        "plt.ylabel('Componente principal 2')\n",
        "plt.title('Clustering con Kmeans y 3 clusters')\n",
        "plt.show()\n",
        "\n",
        "#-------------\n",
        "kmeans_n2 = kmeans"
      ],
      "metadata": {
        "id": "qa9Wij-lEkEC",
        "colab": {
          "base_uri": "https://localhost:8080/",
          "height": 472
        },
        "outputId": "077cea3b-1e7e-4aba-85b5-45c18a93e79a"
      },
      "execution_count": null,
      "outputs": [
        {
          "output_type": "display_data",
          "data": {
            "text/plain": [
              "<Figure size 640x480 with 1 Axes>"
            ],
            "image/png": "[encoded data removed]"
          },
          "metadata": {}
        }
      ]
    },
    {
      "cell_type": "code",
      "source": [
        "train_kmeans_n2 = original_train\n",
        "train_kmeans_n2['etiquetas']= kmeans.labels_"
      ],
      "metadata": {
        "id": "2CcBn9OiEwN3"
      },
      "execution_count": null,
      "outputs": []
    },
    {
      "cell_type": "markdown",
      "source": [
        "####Validación"
      ],
      "metadata": {
        "id": "UPOcoBqx_A5s"
      }
    },
    {
      "cell_type": "code",
      "source": [
        "from sklearn.metrics import davies_bouldin_score\n",
        "db_index = davies_bouldin_score(train, labels)\n",
        "print(\"El índice de Davies-Bouldin es:\", db_index)"
      ],
      "metadata": {
        "id": "ZZrA8gLHTk6u",
        "colab": {
          "base_uri": "https://localhost:8080/"
        },
        "outputId": "aa82134e-b666-46dc-ae6c-3267c71d561e"
      },
      "execution_count": null,
      "outputs": [
        {
          "output_type": "stream",
          "name": "stdout",
          "text": [
            "El índice de Davies-Bouldin es: 1.0386687890735002\n"
          ]
        }
      ]
    },
    {
      "cell_type": "markdown",
      "source": [
        "El resultado es algo peor que el anterior, parece que el mejor resultado lo sustenta n = 3."
      ],
      "metadata": {
        "id": "LhhlWUZ4VB_r"
      }
    },
    {
      "cell_type": "markdown",
      "source": [
        "##Análisis basado en densidad"
      ],
      "metadata": {
        "id": "ER10KEu5uhpK"
      }
    },
    {
      "cell_type": "markdown",
      "source": [
        "En esta sección se emplea la alternativa a K-Means, pese a que fue el mejor resultado de la actividad anterior vamos a añadir variedad empleando DBSCAN. Es importante añadir variedad para aumentar las posibilidades de hallar el mejor resultado."
      ],
      "metadata": {
        "id": "RYCaXboWVLqS"
      }
    },
    {
      "cell_type": "code",
      "source": [
        "#DBSCAN\n",
        "\n",
        "#PCA\n",
        "from sklearn.preprocessing import StandardScaler\n",
        "import numpy as np\n",
        "scaler = StandardScaler()\n",
        "X = scaler.fit_transform(train)\n",
        "\n",
        "from sklearn.decomposition import PCA\n",
        "PCA = PCA(n_components=2)\n",
        "components = PCA.fit_transform(X)\n",
        "\n",
        "cumVar = pd.DataFrame(np.cumsum(PCA.explained_variance_ratio_)*100,\n",
        "                      columns=[\"cumVarPerc\"])\n",
        "expVar = pd.DataFrame(PCA.explained_variance_ratio_*100, columns=[\"VarPerc\"])\n",
        "pd.concat([expVar, cumVar], axis=1)\\\n",
        "    .rename(index={0: \"PC1\", 1: \"PC2\"})\n",
        "\n",
        "#---------------\n",
        "\n",
        "#Algoritmo\n",
        "from sklearn.cluster import DBSCAN\n",
        "dbscan = DBSCAN(eps=0.7, min_samples = 3)\n",
        "clusters = dbscan.fit_predict(components)\n",
        "#plot the cluster assignments\n",
        "plt.scatter(components[:, 0], components[:, 1], c=clusters, cmap='jet')\n",
        "plt.xlabel(\"PC1\")\n",
        "plt.ylabel(\"PC2\")"
      ],
      "metadata": {
        "colab": {
          "base_uri": "https://localhost:8080/",
          "height": 466
        },
        "id": "lze2HVJcu1Gd",
        "outputId": "597c121e-1280-4e4a-c78b-e5d6ac7d6039"
      },
      "execution_count": null,
      "outputs": [
        {
          "output_type": "execute_result",
          "data": {
            "text/plain": [
              "Text(0, 0.5, 'PC2')"
            ]
          },
          "metadata": {},
          "execution_count": 22
        },
        {
          "output_type": "display_data",
          "data": {
            "text/plain": [
              "<Figure size 640x480 with 1 Axes>"
            ],
            "image/png": "[encoded data removed]"
          },
          "metadata": {}
        }
      ]
    },
    {
      "cell_type": "code",
      "source": [
        "train_dbscan = original_train\n",
        "train_dbscan['etiquetas'] = clusters"
      ],
      "metadata": {
        "id": "XjR1C57uvZ6E"
      },
      "execution_count": null,
      "outputs": []
    },
    {
      "cell_type": "markdown",
      "source": [
        "###Validación"
      ],
      "metadata": {
        "id": "v5iKmF5xvykH"
      }
    },
    {
      "cell_type": "code",
      "source": [
        "#Índice Davies-Bouldin (DB)\n",
        "from sklearn.metrics import davies_bouldin_score\n",
        "score= davies_bouldin_score(components, clusters)\n",
        "score"
      ],
      "metadata": {
        "colab": {
          "base_uri": "https://localhost:8080/"
        },
        "id": "HW9gFs6Hv0Cs",
        "outputId": "820caf47-b940-4d50-d50a-fb87a518eec4"
      },
      "execution_count": null,
      "outputs": [
        {
          "output_type": "execute_result",
          "data": {
            "text/plain": [
              "2.5056350732678134"
            ]
          },
          "metadata": {},
          "execution_count": 24
        }
      ]
    },
    {
      "cell_type": "markdown",
      "source": [
        "Se obtiene un resultado bastante peor que los anteriores resultados de K-Means."
      ],
      "metadata": {
        "id": "QjUuvPxRVgYH"
      }
    },
    {
      "cell_type": "markdown",
      "source": [
        "---\n",
        "#Creación de distintos modelos\n",
        "---"
      ],
      "metadata": {
        "id": "Y4baKnxyGHsR"
      }
    },
    {
      "cell_type": "markdown",
      "source": [
        "En esta sección crearemos varios modelos de aprendizaje supervisado para el resultado final. No tenemos a priori ninguna pista de cual es el mejor algoritmo por lo que probaremos varios de ellos.\n",
        "\n",
        "Entrenaremos los modelos con los datos etiquetados resultantes del clustering K-Means de tres clusters, pues es el que mejor resultado ha dado."
      ],
      "metadata": {
        "id": "z8mZ65PDVvV3"
      }
    },
    {
      "cell_type": "markdown",
      "source": [
        "##SVM"
      ],
      "metadata": {
        "id": "Pv4Z348jBQbn"
      }
    },
    {
      "cell_type": "markdown",
      "source": [
        "El primer modelo será basado en Máquinas de Vectores de Soporte (SVMs)."
      ],
      "metadata": {
        "id": "IQkobdZuVm9x"
      }
    },
    {
      "cell_type": "code",
      "source": [
        "X_train = train_kmeans_n3\n",
        "X_train = X_train.drop(\"total_cases\", axis=1)\n",
        "Y_train = train_kmeans_n3[\"total_cases\"]\n",
        "\n",
        "from sklearn import svm\n",
        "svm_kmeans_n3 = svm.SVR()\n",
        "svm_kmeans_n3.fit(X_train, Y_train)"
      ],
      "metadata": {
        "colab": {
          "base_uri": "https://localhost:8080/",
          "height": 75
        },
        "id": "_SRlY3CHBRsE",
        "outputId": "5c3883f6-a123-4a2b-ecb4-e9904ce3ffaf"
      },
      "execution_count": null,
      "outputs": [
        {
          "output_type": "execute_result",
          "data": {
            "text/plain": [
              "SVR()"
            ],
            "text/html": [
              "<style>#sk-container-id-1 {color: black;background-color: white;}#sk-container-id-1 pre{padding: 0;}#sk-container-id-1 div.sk-toggleable {background-color: white;}#sk-container-id-1 label.sk-toggleable__label {cursor: pointer;display: block;width: 100%;margin-bottom: 0;padding: 0.3em;box-sizing: border-box;text-align: center;}#sk-container-id-1 label.sk-toggleable__label-arrow:before {content: \"▸\";float: left;margin-right: 0.25em;color: #696969;}#sk-container-id-1 label.sk-toggleable__label-arrow:hover:before {color: black;}#sk-container-id-1 div.sk-estimator:hover label.sk-toggleable__label-arrow:before {color: black;}#sk-container-id-1 div.sk-toggleable__content {max-height: 0;max-width: 0;overflow: hidden;text-align: left;background-color: #f0f8ff;}#sk-container-id-1 div.sk-toggleable__content pre {margin: 0.2em;color: black;border-radius: 0.25em;background-color: #f0f8ff;}#sk-container-id-1 input.sk-toggleable__control:checked~div.sk-toggleable__content {max-height: 200px;max-width: 100%;overflow: auto;}#sk-container-id-1 input.sk-toggleable__control:checked~label.sk-toggleable__label-arrow:before {content: \"▾\";}#sk-container-id-1 div.sk-estimator input.sk-toggleable__control:checked~label.sk-toggleable__label {background-color: #d4ebff;}#sk-container-id-1 div.sk-label input.sk-toggleable__control:checked~label.sk-toggleable__label {background-color: #d4ebff;}#sk-container-id-1 input.sk-hidden--visually {border: 0;clip: rect(1px 1px 1px 1px);clip: rect(1px, 1px, 1px, 1px);height: 1px;margin: -1px;overflow: hidden;padding: 0;position: absolute;width: 1px;}#sk-container-id-1 div.sk-estimator {font-family: monospace;background-color: #f0f8ff;border: 1px dotted black;border-radius: 0.25em;box-sizing: border-box;margin-bottom: 0.5em;}#sk-container-id-1 div.sk-estimator:hover {background-color: #d4ebff;}#sk-container-id-1 div.sk-parallel-item::after {content: \"\";width: 100%;border-bottom: 1px solid gray;flex-grow: 1;}#sk-container-id-1 div.sk-label:hover label.sk-toggleable__label {background-color: #d4ebff;}#sk-container-id-1 div.sk-serial::before {content: \"\";position: absolute;border-left: 1px solid gray;box-sizing: border-box;top: 0;bottom: 0;left: 50%;z-index: 0;}#sk-container-id-1 div.sk-serial {display: flex;flex-direction: column;align-items: center;background-color: white;padding-right: 0.2em;padding-left: 0.2em;position: relative;}#sk-container-id-1 div.sk-item {position: relative;z-index: 1;}#sk-container-id-1 div.sk-parallel {display: flex;align-items: stretch;justify-content: center;background-color: white;position: relative;}#sk-container-id-1 div.sk-item::before, #sk-container-id-1 div.sk-parallel-item::before {content: \"\";position: absolute;border-left: 1px solid gray;box-sizing: border-box;top: 0;bottom: 0;left: 50%;z-index: -1;}#sk-container-id-1 div.sk-parallel-item {display: flex;flex-direction: column;z-index: 1;position: relative;background-color: white;}#sk-container-id-1 div.sk-parallel-item:first-child::after {align-self: flex-end;width: 50%;}#sk-container-id-1 div.sk-parallel-item:last-child::after {align-self: flex-start;width: 50%;}#sk-container-id-1 div.sk-parallel-item:only-child::after {width: 0;}#sk-container-id-1 div.sk-dashed-wrapped {border: 1px dashed gray;margin: 0 0.4em 0.5em 0.4em;box-sizing: border-box;padding-bottom: 0.4em;background-color: white;}#sk-container-id-1 div.sk-label label {font-family: monospace;font-weight: bold;display: inline-block;line-height: 1.2em;}#sk-container-id-1 div.sk-label-container {text-align: center;}#sk-container-id-1 div.sk-container {/* jupyter's `normalize.less` sets `[hidden] { display: none; }` but bootstrap.min.css set `[hidden] { display: none !important; }` so we also need the `!important` here to be able to override the default hidden behavior on the sphinx rendered scikit-learn.org. See: https://github.com/scikit-learn/scikit-learn/issues/21755 */display: inline-block !important;position: relative;}#sk-container-id-1 div.sk-text-repr-fallback {display: none;}</style><div id=\"sk-container-id-1\" class=\"sk-top-container\"><div class=\"sk-text-repr-fallback\"><pre>SVR()</pre><b>In a Jupyter environment, please rerun this cell to show the HTML representation or trust the notebook. <br />On GitHub, the HTML representation is unable to render, please try loading this page with nbviewer.org.</b></div><div class=\"sk-container\" hidden><div class=\"sk-item\"><div class=\"sk-estimator sk-toggleable\"><input class=\"sk-toggleable__control sk-hidden--visually\" id=\"sk-estimator-id-1\" type=\"checkbox\" checked><label for=\"sk-estimator-id-1\" class=\"sk-toggleable__label sk-toggleable__label-arrow\">SVR</label><div class=\"sk-toggleable__content\"><pre>SVR()</pre></div></div></div></div></div>"
            ]
          },
          "metadata": {},
          "execution_count": 25
        }
      ]
    },
    {
      "cell_type": "markdown",
      "source": [
        "##KNN"
      ],
      "metadata": {
        "id": "IoBEDJ7nE_bk"
      }
    },
    {
      "cell_type": "markdown",
      "source": [
        "El segundo modelo es el de K-Vecinos más cercanos. Probaremos con un valor de K = 5."
      ],
      "metadata": {
        "id": "l_DLBL-LcWJ1"
      }
    },
    {
      "cell_type": "code",
      "source": [
        "X_train = train_kmeans_n3\n",
        "X_train = X_train.drop(\"total_cases\", axis=1)\n",
        "Y_train = train_kmeans_n3[\"total_cases\"]\n",
        "\n",
        "from sklearn.neighbors import KNeighborsRegressor\n",
        "knn_kmeans_n5 = KNeighborsRegressor(n_neighbors=5)\n",
        "knn_kmeans_n5.fit(X_train, Y_train)"
      ],
      "metadata": {
        "colab": {
          "base_uri": "https://localhost:8080/",
          "height": 75
        },
        "id": "8GXa-wL9FAik",
        "outputId": "7c9c5ad0-2f08-4569-a9a8-ac77b367ae94"
      },
      "execution_count": null,
      "outputs": [
        {
          "output_type": "execute_result",
          "data": {
            "text/plain": [
              "KNeighborsRegressor()"
            ],
            "text/html": [
              "<style>#sk-container-id-2 {color: black;background-color: white;}#sk-container-id-2 pre{padding: 0;}#sk-container-id-2 div.sk-toggleable {background-color: white;}#sk-container-id-2 label.sk-toggleable__label {cursor: pointer;display: block;width: 100%;margin-bottom: 0;padding: 0.3em;box-sizing: border-box;text-align: center;}#sk-container-id-2 label.sk-toggleable__label-arrow:before {content: \"▸\";float: left;margin-right: 0.25em;color: #696969;}#sk-container-id-2 label.sk-toggleable__label-arrow:hover:before {color: black;}#sk-container-id-2 div.sk-estimator:hover label.sk-toggleable__label-arrow:before {color: black;}#sk-container-id-2 div.sk-toggleable__content {max-height: 0;max-width: 0;overflow: hidden;text-align: left;background-color: #f0f8ff;}#sk-container-id-2 div.sk-toggleable__content pre {margin: 0.2em;color: black;border-radius: 0.25em;background-color: #f0f8ff;}#sk-container-id-2 input.sk-toggleable__control:checked~div.sk-toggleable__content {max-height: 200px;max-width: 100%;overflow: auto;}#sk-container-id-2 input.sk-toggleable__control:checked~label.sk-toggleable__label-arrow:before {content: \"▾\";}#sk-container-id-2 div.sk-estimator input.sk-toggleable__control:checked~label.sk-toggleable__label {background-color: #d4ebff;}#sk-container-id-2 div.sk-label input.sk-toggleable__control:checked~label.sk-toggleable__label {background-color: #d4ebff;}#sk-container-id-2 input.sk-hidden--visually {border: 0;clip: rect(1px 1px 1px 1px);clip: rect(1px, 1px, 1px, 1px);height: 1px;margin: -1px;overflow: hidden;padding: 0;position: absolute;width: 1px;}#sk-container-id-2 div.sk-estimator {font-family: monospace;background-color: #f0f8ff;border: 1px dotted black;border-radius: 0.25em;box-sizing: border-box;margin-bottom: 0.5em;}#sk-container-id-2 div.sk-estimator:hover {background-color: #d4ebff;}#sk-container-id-2 div.sk-parallel-item::after {content: \"\";width: 100%;border-bottom: 1px solid gray;flex-grow: 1;}#sk-container-id-2 div.sk-label:hover label.sk-toggleable__label {background-color: #d4ebff;}#sk-container-id-2 div.sk-serial::before {content: \"\";position: absolute;border-left: 1px solid gray;box-sizing: border-box;top: 0;bottom: 0;left: 50%;z-index: 0;}#sk-container-id-2 div.sk-serial {display: flex;flex-direction: column;align-items: center;background-color: white;padding-right: 0.2em;padding-left: 0.2em;position: relative;}#sk-container-id-2 div.sk-item {position: relative;z-index: 1;}#sk-container-id-2 div.sk-parallel {display: flex;align-items: stretch;justify-content: center;background-color: white;position: relative;}#sk-container-id-2 div.sk-item::before, #sk-container-id-2 div.sk-parallel-item::before {content: \"\";position: absolute;border-left: 1px solid gray;box-sizing: border-box;top: 0;bottom: 0;left: 50%;z-index: -1;}#sk-container-id-2 div.sk-parallel-item {display: flex;flex-direction: column;z-index: 1;position: relative;background-color: white;}#sk-container-id-2 div.sk-parallel-item:first-child::after {align-self: flex-end;width: 50%;}#sk-container-id-2 div.sk-parallel-item:last-child::after {align-self: flex-start;width: 50%;}#sk-container-id-2 div.sk-parallel-item:only-child::after {width: 0;}#sk-container-id-2 div.sk-dashed-wrapped {border: 1px dashed gray;margin: 0 0.4em 0.5em 0.4em;box-sizing: border-box;padding-bottom: 0.4em;background-color: white;}#sk-container-id-2 div.sk-label label {font-family: monospace;font-weight: bold;display: inline-block;line-height: 1.2em;}#sk-container-id-2 div.sk-label-container {text-align: center;}#sk-container-id-2 div.sk-container {/* jupyter's `normalize.less` sets `[hidden] { display: none; }` but bootstrap.min.css set `[hidden] { display: none !important; }` so we also need the `!important` here to be able to override the default hidden behavior on the sphinx rendered scikit-learn.org. See: https://github.com/scikit-learn/scikit-learn/issues/21755 */display: inline-block !important;position: relative;}#sk-container-id-2 div.sk-text-repr-fallback {display: none;}</style><div id=\"sk-container-id-2\" class=\"sk-top-container\"><div class=\"sk-text-repr-fallback\"><pre>KNeighborsRegressor()</pre><b>In a Jupyter environment, please rerun this cell to show the HTML representation or trust the notebook. <br />On GitHub, the HTML representation is unable to render, please try loading this page with nbviewer.org.</b></div><div class=\"sk-container\" hidden><div class=\"sk-item\"><div class=\"sk-estimator sk-toggleable\"><input class=\"sk-toggleable__control sk-hidden--visually\" id=\"sk-estimator-id-2\" type=\"checkbox\" checked><label for=\"sk-estimator-id-2\" class=\"sk-toggleable__label sk-toggleable__label-arrow\">KNeighborsRegressor</label><div class=\"sk-toggleable__content\"><pre>KNeighborsRegressor()</pre></div></div></div></div></div>"
            ]
          },
          "metadata": {},
          "execution_count": 26
        }
      ]
    },
    {
      "cell_type": "markdown",
      "source": [
        "##Árbol de decisión"
      ],
      "metadata": {
        "id": "Ukv0Y4FUHC0y"
      }
    },
    {
      "cell_type": "markdown",
      "source": [
        "A continuación entrenamos un modelo de árbol de decisión."
      ],
      "metadata": {
        "id": "5iErlDQIceCq"
      }
    },
    {
      "cell_type": "code",
      "source": [
        "X_train = train_kmeans_n3\n",
        "X_train = X_train.drop(\"total_cases\", axis=1)\n",
        "Y_train = train_kmeans_n3[\"total_cases\"]\n",
        "\n",
        "from sklearn.tree import DecisionTreeRegressor\n",
        "tree_kmeans_n3 = DecisionTreeRegressor(random_state=0)\n",
        "tree_kmeans_n3.fit(X_train, Y_train)"
      ],
      "metadata": {
        "colab": {
          "base_uri": "https://localhost:8080/",
          "height": 75
        },
        "id": "XxsJMvmKHF2B",
        "outputId": "bf001d48-6440-420d-fd87-1bec20dfbe62"
      },
      "execution_count": null,
      "outputs": [
        {
          "output_type": "execute_result",
          "data": {
            "text/plain": [
              "DecisionTreeRegressor(random_state=0)"
            ],
            "text/html": [
              "<style>#sk-container-id-3 {color: black;background-color: white;}#sk-container-id-3 pre{padding: 0;}#sk-container-id-3 div.sk-toggleable {background-color: white;}#sk-container-id-3 label.sk-toggleable__label {cursor: pointer;display: block;width: 100%;margin-bottom: 0;padding: 0.3em;box-sizing: border-box;text-align: center;}#sk-container-id-3 label.sk-toggleable__label-arrow:before {content: \"▸\";float: left;margin-right: 0.25em;color: #696969;}#sk-container-id-3 label.sk-toggleable__label-arrow:hover:before {color: black;}#sk-container-id-3 div.sk-estimator:hover label.sk-toggleable__label-arrow:before {color: black;}#sk-container-id-3 div.sk-toggleable__content {max-height: 0;max-width: 0;overflow: hidden;text-align: left;background-color: #f0f8ff;}#sk-container-id-3 div.sk-toggleable__content pre {margin: 0.2em;color: black;border-radius: 0.25em;background-color: #f0f8ff;}#sk-container-id-3 input.sk-toggleable__control:checked~div.sk-toggleable__content {max-height: 200px;max-width: 100%;overflow: auto;}#sk-container-id-3 input.sk-toggleable__control:checked~label.sk-toggleable__label-arrow:before {content: \"▾\";}#sk-container-id-3 div.sk-estimator input.sk-toggleable__control:checked~label.sk-toggleable__label {background-color: #d4ebff;}#sk-container-id-3 div.sk-label input.sk-toggleable__control:checked~label.sk-toggleable__label {background-color: #d4ebff;}#sk-container-id-3 input.sk-hidden--visually {border: 0;clip: rect(1px 1px 1px 1px);clip: rect(1px, 1px, 1px, 1px);height: 1px;margin: -1px;overflow: hidden;padding: 0;position: absolute;width: 1px;}#sk-container-id-3 div.sk-estimator {font-family: monospace;background-color: #f0f8ff;border: 1px dotted black;border-radius: 0.25em;box-sizing: border-box;margin-bottom: 0.5em;}#sk-container-id-3 div.sk-estimator:hover {background-color: #d4ebff;}#sk-container-id-3 div.sk-parallel-item::after {content: \"\";width: 100%;border-bottom: 1px solid gray;flex-grow: 1;}#sk-container-id-3 div.sk-label:hover label.sk-toggleable__label {background-color: #d4ebff;}#sk-container-id-3 div.sk-serial::before {content: \"\";position: absolute;border-left: 1px solid gray;box-sizing: border-box;top: 0;bottom: 0;left: 50%;z-index: 0;}#sk-container-id-3 div.sk-serial {display: flex;flex-direction: column;align-items: center;background-color: white;padding-right: 0.2em;padding-left: 0.2em;position: relative;}#sk-container-id-3 div.sk-item {position: relative;z-index: 1;}#sk-container-id-3 div.sk-parallel {display: flex;align-items: stretch;justify-content: center;background-color: white;position: relative;}#sk-container-id-3 div.sk-item::before, #sk-container-id-3 div.sk-parallel-item::before {content: \"\";position: absolute;border-left: 1px solid gray;box-sizing: border-box;top: 0;bottom: 0;left: 50%;z-index: -1;}#sk-container-id-3 div.sk-parallel-item {display: flex;flex-direction: column;z-index: 1;position: relative;background-color: white;}#sk-container-id-3 div.sk-parallel-item:first-child::after {align-self: flex-end;width: 50%;}#sk-container-id-3 div.sk-parallel-item:last-child::after {align-self: flex-start;width: 50%;}#sk-container-id-3 div.sk-parallel-item:only-child::after {width: 0;}#sk-container-id-3 div.sk-dashed-wrapped {border: 1px dashed gray;margin: 0 0.4em 0.5em 0.4em;box-sizing: border-box;padding-bottom: 0.4em;background-color: white;}#sk-container-id-3 div.sk-label label {font-family: monospace;font-weight: bold;display: inline-block;line-height: 1.2em;}#sk-container-id-3 div.sk-label-container {text-align: center;}#sk-container-id-3 div.sk-container {/* jupyter's `normalize.less` sets `[hidden] { display: none; }` but bootstrap.min.css set `[hidden] { display: none !important; }` so we also need the `!important` here to be able to override the default hidden behavior on the sphinx rendered scikit-learn.org. See: https://github.com/scikit-learn/scikit-learn/issues/21755 */display: inline-block !important;position: relative;}#sk-container-id-3 div.sk-text-repr-fallback {display: none;}</style><div id=\"sk-container-id-3\" class=\"sk-top-container\"><div class=\"sk-text-repr-fallback\"><pre>DecisionTreeRegressor(random_state=0)</pre><b>In a Jupyter environment, please rerun this cell to show the HTML representation or trust the notebook. <br />On GitHub, the HTML representation is unable to render, please try loading this page with nbviewer.org.</b></div><div class=\"sk-container\" hidden><div class=\"sk-item\"><div class=\"sk-estimator sk-toggleable\"><input class=\"sk-toggleable__control sk-hidden--visually\" id=\"sk-estimator-id-3\" type=\"checkbox\" checked><label for=\"sk-estimator-id-3\" class=\"sk-toggleable__label sk-toggleable__label-arrow\">DecisionTreeRegressor</label><div class=\"sk-toggleable__content\"><pre>DecisionTreeRegressor(random_state=0)</pre></div></div></div></div></div>"
            ]
          },
          "metadata": {},
          "execution_count": 27
        }
      ]
    },
    {
      "cell_type": "markdown",
      "source": [
        "##Regresión lineal"
      ],
      "metadata": {
        "id": "GJKfXdsP_IQ_"
      }
    },
    {
      "cell_type": "markdown",
      "source": [
        "Finalmente entrenamos un modelo de Regresión lineal."
      ],
      "metadata": {
        "id": "3rFJBIIRckPk"
      }
    },
    {
      "cell_type": "code",
      "source": [
        "X_train = train_kmeans_n3\n",
        "X_train = X_train.drop(\"total_cases\", axis=1)\n",
        "Y_train = train_kmeans_n3[\"total_cases\"]\n",
        "\n",
        "from sklearn import linear_model\n",
        "regres_kmeans_n3 = linear_model.LinearRegression()\n",
        "regres_kmeans_n3.fit(X_train, Y_train)"
      ],
      "metadata": {
        "id": "hATHHN_cUo1o",
        "colab": {
          "base_uri": "https://localhost:8080/",
          "height": 75
        },
        "outputId": "7ca128ad-ea4b-4679-fcdb-75ab62fe7b08"
      },
      "execution_count": null,
      "outputs": [
        {
          "output_type": "execute_result",
          "data": {
            "text/plain": [
              "LinearRegression()"
            ],
            "text/html": [
              "<style>#sk-container-id-4 {color: black;background-color: white;}#sk-container-id-4 pre{padding: 0;}#sk-container-id-4 div.sk-toggleable {background-color: white;}#sk-container-id-4 label.sk-toggleable__label {cursor: pointer;display: block;width: 100%;margin-bottom: 0;padding: 0.3em;box-sizing: border-box;text-align: center;}#sk-container-id-4 label.sk-toggleable__label-arrow:before {content: \"▸\";float: left;margin-right: 0.25em;color: #696969;}#sk-container-id-4 label.sk-toggleable__label-arrow:hover:before {color: black;}#sk-container-id-4 div.sk-estimator:hover label.sk-toggleable__label-arrow:before {color: black;}#sk-container-id-4 div.sk-toggleable__content {max-height: 0;max-width: 0;overflow: hidden;text-align: left;background-color: #f0f8ff;}#sk-container-id-4 div.sk-toggleable__content pre {margin: 0.2em;color: black;border-radius: 0.25em;background-color: #f0f8ff;}#sk-container-id-4 input.sk-toggleable__control:checked~div.sk-toggleable__content {max-height: 200px;max-width: 100%;overflow: auto;}#sk-container-id-4 input.sk-toggleable__control:checked~label.sk-toggleable__label-arrow:before {content: \"▾\";}#sk-container-id-4 div.sk-estimator input.sk-toggleable__control:checked~label.sk-toggleable__label {background-color: #d4ebff;}#sk-container-id-4 div.sk-label input.sk-toggleable__control:checked~label.sk-toggleable__label {background-color: #d4ebff;}#sk-container-id-4 input.sk-hidden--visually {border: 0;clip: rect(1px 1px 1px 1px);clip: rect(1px, 1px, 1px, 1px);height: 1px;margin: -1px;overflow: hidden;padding: 0;position: absolute;width: 1px;}#sk-container-id-4 div.sk-estimator {font-family: monospace;background-color: #f0f8ff;border: 1px dotted black;border-radius: 0.25em;box-sizing: border-box;margin-bottom: 0.5em;}#sk-container-id-4 div.sk-estimator:hover {background-color: #d4ebff;}#sk-container-id-4 div.sk-parallel-item::after {content: \"\";width: 100%;border-bottom: 1px solid gray;flex-grow: 1;}#sk-container-id-4 div.sk-label:hover label.sk-toggleable__label {background-color: #d4ebff;}#sk-container-id-4 div.sk-serial::before {content: \"\";position: absolute;border-left: 1px solid gray;box-sizing: border-box;top: 0;bottom: 0;left: 50%;z-index: 0;}#sk-container-id-4 div.sk-serial {display: flex;flex-direction: column;align-items: center;background-color: white;padding-right: 0.2em;padding-left: 0.2em;position: relative;}#sk-container-id-4 div.sk-item {position: relative;z-index: 1;}#sk-container-id-4 div.sk-parallel {display: flex;align-items: stretch;justify-content: center;background-color: white;position: relative;}#sk-container-id-4 div.sk-item::before, #sk-container-id-4 div.sk-parallel-item::before {content: \"\";position: absolute;border-left: 1px solid gray;box-sizing: border-box;top: 0;bottom: 0;left: 50%;z-index: -1;}#sk-container-id-4 div.sk-parallel-item {display: flex;flex-direction: column;z-index: 1;position: relative;background-color: white;}#sk-container-id-4 div.sk-parallel-item:first-child::after {align-self: flex-end;width: 50%;}#sk-container-id-4 div.sk-parallel-item:last-child::after {align-self: flex-start;width: 50%;}#sk-container-id-4 div.sk-parallel-item:only-child::after {width: 0;}#sk-container-id-4 div.sk-dashed-wrapped {border: 1px dashed gray;margin: 0 0.4em 0.5em 0.4em;box-sizing: border-box;padding-bottom: 0.4em;background-color: white;}#sk-container-id-4 div.sk-label label {font-family: monospace;font-weight: bold;display: inline-block;line-height: 1.2em;}#sk-container-id-4 div.sk-label-container {text-align: center;}#sk-container-id-4 div.sk-container {/* jupyter's `normalize.less` sets `[hidden] { display: none; }` but bootstrap.min.css set `[hidden] { display: none !important; }` so we also need the `!important` here to be able to override the default hidden behavior on the sphinx rendered scikit-learn.org. See: https://github.com/scikit-learn/scikit-learn/issues/21755 */display: inline-block !important;position: relative;}#sk-container-id-4 div.sk-text-repr-fallback {display: none;}</style><div id=\"sk-container-id-4\" class=\"sk-top-container\"><div class=\"sk-text-repr-fallback\"><pre>LinearRegression()</pre><b>In a Jupyter environment, please rerun this cell to show the HTML representation or trust the notebook. <br />On GitHub, the HTML representation is unable to render, please try loading this page with nbviewer.org.</b></div><div class=\"sk-container\" hidden><div class=\"sk-item\"><div class=\"sk-estimator sk-toggleable\"><input class=\"sk-toggleable__control sk-hidden--visually\" id=\"sk-estimator-id-4\" type=\"checkbox\" checked><label for=\"sk-estimator-id-4\" class=\"sk-toggleable__label sk-toggleable__label-arrow\">LinearRegression</label><div class=\"sk-toggleable__content\"><pre>LinearRegression()</pre></div></div></div></div></div>"
            ]
          },
          "metadata": {},
          "execution_count": 28
        }
      ]
    },
    {
      "cell_type": "markdown",
      "metadata": {
        "id": "2qbkQc-ztqIS"
      },
      "source": [
        "---\n",
        "# Generación del Resultado Final\n",
        "---"
      ]
    },
    {
      "cell_type": "markdown",
      "metadata": {
        "id": "HSXVdRUa--ZX"
      },
      "source": [
        "Generamos el fichero de salida de los diferentes modelos según el Submission format."
      ]
    },
    {
      "cell_type": "markdown",
      "metadata": {
        "id": "F88F_Otb-lEu"
      },
      "source": [
        "Realizamos las predicciones sobre el test."
      ]
    },
    {
      "cell_type": "markdown",
      "source": [
        "Se emplearán todos los modeloes entrenados y posteriormente se optimizará el mejor de ellos."
      ],
      "metadata": {
        "id": "VCa6WraGdpRT"
      }
    },
    {
      "cell_type": "markdown",
      "source": [
        "##SVM"
      ],
      "metadata": {
        "id": "xPW6uWgEBswo"
      }
    },
    {
      "cell_type": "code",
      "metadata": {
        "colab": {
          "base_uri": "https://localhost:8080/"
        },
        "outputId": "c609cda8-e23f-48d2-9523-a37c66b8a118",
        "id": "RMlDKPdDB2il"
      },
      "source": [
        "X_test = test\n",
        "#X_test = X_test.drop('etiquetas', axis=1)  #Si se vuelve a ejecutar esta parte del código, se puede necesitar esta línea\n",
        "X_test[\"etiquetas\"] = kmeans_n3.predict(X_test)\n",
        "y_pred = svm_kmeans_n3.predict(X_test)"
      ],
      "execution_count": null,
      "outputs": [
        {
          "output_type": "stream",
          "name": "stderr",
          "text": [
            "/usr/local/lib/python3.9/dist-packages/sklearn/base.py:432: UserWarning: X has feature names, but KMeans was fitted without feature names\n",
            "  warnings.warn(\n"
          ]
        }
      ]
    },
    {
      "cell_type": "markdown",
      "metadata": {
        "id": "PPwWSCl5B2im"
      },
      "source": [
        "* Redondeamos el resultado"
      ]
    },
    {
      "cell_type": "code",
      "metadata": {
        "id": "bSFMNWsRB2im"
      },
      "source": [
        "# round the result and cast to int\n",
        "import numpy as np\n",
        "y = np.rint(y_pred) # round\n",
        "y = y.astype(int) # cast to int\n",
        "res = np.hstack(y)"
      ],
      "execution_count": null,
      "outputs": []
    },
    {
      "cell_type": "code",
      "metadata": {
        "id": "WhHjyvVRB2im"
      },
      "source": [
        "y_pred_no_neg = res.copy()"
      ],
      "execution_count": null,
      "outputs": []
    },
    {
      "cell_type": "code",
      "metadata": {
        "id": "I0TlHLsYB2im"
      },
      "source": [
        "y_pred_no_neg[y_pred < 0] = 0"
      ],
      "execution_count": null,
      "outputs": []
    },
    {
      "cell_type": "markdown",
      "metadata": {
        "id": "eoiEPkvGB2im"
      },
      "source": [
        "* Generamos el fichero de salida"
      ]
    },
    {
      "cell_type": "code",
      "metadata": {
        "colab": {
          "base_uri": "https://localhost:8080/",
          "height": 206
        },
        "outputId": "fcafd424-0c60-4479-f20a-f81357a3c468",
        "id": "dKlNWbYxB2im"
      },
      "source": [
        "#Generar output\n",
        "output = pd.DataFrame({ 'city': test['city_bin'], 'year': test['year'], 'weekofyear': test['weekofyear'],\n",
        "                       'total_cases': y_pred_no_neg})\n",
        "\n",
        "output['city'] = output['city'].replace({0: 'iq', 1: 'sj'})\n",
        "\n",
        "\n",
        "from google.colab import files\n",
        "\n",
        "with open('svm_kmeans_n3.csv', 'w') as f:\n",
        "  output.to_csv(f,  index = False)\n",
        "\n",
        "\n",
        "files.download('svm_kmeans_n3.csv')\n",
        "\n",
        "output.head()"
      ],
      "execution_count": null,
      "outputs": [
        {
          "output_type": "display_data",
          "data": {
            "text/plain": [
              "<IPython.core.display.Javascript object>"
            ],
            "application/javascript": [
              "\n",
              "    async function download(id, filename, size) {\n",
              "      if (!google.colab.kernel.accessAllowed) {\n",
              "        return;\n",
              "      }\n",
              "      const div = document.createElement('div');\n",
              "      const label = document.createElement('label');\n",
              "      label.textContent = `Downloading \"${filename}\": `;\n",
              "      div.appendChild(label);\n",
              "      const progress = document.createElement('progress');\n",
              "      progress.max = size;\n",
              "      div.appendChild(progress);\n",
              "      document.body.appendChild(div);\n",
              "\n",
              "      const buffers = [];\n",
              "      let downloaded = 0;\n",
              "\n",
              "      const channel = await google.colab.kernel.comms.open(id);\n",
              "      // Send a message to notify the kernel that we're ready.\n",
              "      channel.send({})\n",
              "\n",
              "      for await (const message of channel.messages) {\n",
              "        // Send a message to notify the kernel that we're ready.\n",
              "        channel.send({})\n",
              "        if (message.buffers) {\n",
              "          for (const buffer of message.buffers) {\n",
              "            buffers.push(buffer);\n",
              "            downloaded += buffer.byteLength;\n",
              "            progress.value = downloaded;\n",
              "          }\n",
              "        }\n",
              "      }\n",
              "      const blob = new Blob(buffers, {type: 'application/binary'});\n",
              "      const a = document.createElement('a');\n",
              "      a.href = window.URL.createObjectURL(blob);\n",
              "      a.download = filename;\n",
              "      div.appendChild(a);\n",
              "      a.click();\n",
              "      div.remove();\n",
              "    }\n",
              "  "
            ]
          },
          "metadata": {}
        },
        {
          "output_type": "display_data",
          "data": {
            "text/plain": [
              "<IPython.core.display.Javascript object>"
            ],
            "application/javascript": [
              "download(\"download_aca8570b-ffdb-4e48-b600-6255325c3f48\", \"svm_kmeans_n3.csv\", 5785)"
            ]
          },
          "metadata": {}
        },
        {
          "output_type": "execute_result",
          "data": {
            "text/plain": [
              "  city  year  weekofyear  total_cases\n",
              "0   sj  2008          18           12\n",
              "1   sj  2008          19           12\n",
              "2   sj  2008          20           12\n",
              "3   sj  2008          21           12\n",
              "4   sj  2008          22           12"
            ],
            "text/html": [
              "\n",
              "  <div id=\"df-62258dac-1c07-4d2a-ab5e-1f5e61f7f110\">\n",
              "    <div class=\"colab-df-container\">\n",
              "      <div>\n",
              "<style scoped>\n",
              "    .dataframe tbody tr th:only-of-type {\n",
              "        vertical-align: middle;\n",
              "    }\n",
              "\n",
              "    .dataframe tbody tr th {\n",
              "        vertical-align: top;\n",
              "    }\n",
              "\n",
              "    .dataframe thead th {\n",
              "        text-align: right;\n",
              "    }\n",
              "</style>\n",
              "<table border=\"1\" class=\"dataframe\">\n",
              "  <thead>\n",
              "    <tr style=\"text-align: right;\">\n",
              "      <th></th>\n",
              "      <th>city</th>\n",
              "      <th>year</th>\n",
              "      <th>weekofyear</th>\n",
              "      <th>total_cases</th>\n",
              "    </tr>\n",
              "  </thead>\n",
              "  <tbody>\n",
              "    <tr>\n",
              "      <th>0</th>\n",
              "      <td>sj</td>\n",
              "      <td>2008</td>\n",
              "      <td>18</td>\n",
              "      <td>12</td>\n",
              "    </tr>\n",
              "    <tr>\n",
              "      <th>1</th>\n",
              "      <td>sj</td>\n",
              "      <td>2008</td>\n",
              "      <td>19</td>\n",
              "      <td>12</td>\n",
              "    </tr>\n",
              "    <tr>\n",
              "      <th>2</th>\n",
              "      <td>sj</td>\n",
              "      <td>2008</td>\n",
              "      <td>20</td>\n",
              "      <td>12</td>\n",
              "    </tr>\n",
              "    <tr>\n",
              "      <th>3</th>\n",
              "      <td>sj</td>\n",
              "      <td>2008</td>\n",
              "      <td>21</td>\n",
              "      <td>12</td>\n",
              "    </tr>\n",
              "    <tr>\n",
              "      <th>4</th>\n",
              "      <td>sj</td>\n",
              "      <td>2008</td>\n",
              "      <td>22</td>\n",
              "      <td>12</td>\n",
              "    </tr>\n",
              "  </tbody>\n",
              "</table>\n",
              "</div>\n",
              "      <button class=\"colab-df-convert\" onclick=\"convertToInteractive('df-62258dac-1c07-4d2a-ab5e-1f5e61f7f110')\"\n",
              "              title=\"Convert this dataframe to an interactive table.\"\n",
              "              style=\"display:none;\">\n",
              "        \n",
              "  <svg xmlns=\"http://www.w3.org/2000/svg\" height=\"24px\"viewBox=\"0 0 24 24\"\n",
              "       width=\"24px\">\n",
              "    <path d=\"M0 0h24v24H0V0z\" fill=\"none\"/>\n",
              "    <path d=\"M18.56 5.44l.94 2.06.94-2.06 2.06-.94-2.06-.94-.94-2.06-.94 2.06-2.06.94zm-11 1L8.5 8.5l.94-2.06 2.06-.94-2.06-.94L8.5 2.5l-.94 2.06-2.06.94zm10 10l.94 2.06.94-2.06 2.06-.94-2.06-.94-.94-2.06-.94 2.06-2.06.94z\"/><path d=\"M17.41 7.96l-1.37-1.37c-.4-.4-.92-.59-1.43-.59-.52 0-1.04.2-1.43.59L10.3 9.45l-7.72 7.72c-.78.78-.78 2.05 0 2.83L4 21.41c.39.39.9.59 1.41.59.51 0 1.02-.2 1.41-.59l7.78-7.78 2.81-2.81c.8-.78.8-2.07 0-2.86zM5.41 20L4 18.59l7.72-7.72 1.47 1.35L5.41 20z\"/>\n",
              "  </svg>\n",
              "      </button>\n",
              "      \n",
              "  <style>\n",
              "    .colab-df-container {\n",
              "      display:flex;\n",
              "      flex-wrap:wrap;\n",
              "      gap: 12px;\n",
              "    }\n",
              "\n",
              "    .colab-df-convert {\n",
              "      background-color: #E8F0FE;\n",
              "      border: none;\n",
              "      border-radius: 50%;\n",
              "      cursor: pointer;\n",
              "      display: none;\n",
              "      fill: #1967D2;\n",
              "      height: 32px;\n",
              "      padding: 0 0 0 0;\n",
              "      width: 32px;\n",
              "    }\n",
              "\n",
              "    .colab-df-convert:hover {\n",
              "      background-color: #E2EBFA;\n",
              "      box-shadow: 0px 1px 2px rgba(60, 64, 67, 0.3), 0px 1px 3px 1px rgba(60, 64, 67, 0.15);\n",
              "      fill: #174EA6;\n",
              "    }\n",
              "\n",
              "    [theme=dark] .colab-df-convert {\n",
              "      background-color: #3B4455;\n",
              "      fill: #D2E3FC;\n",
              "    }\n",
              "\n",
              "    [theme=dark] .colab-df-convert:hover {\n",
              "      background-color: #434B5C;\n",
              "      box-shadow: 0px 1px 3px 1px rgba(0, 0, 0, 0.15);\n",
              "      filter: drop-shadow(0px 1px 2px rgba(0, 0, 0, 0.3));\n",
              "      fill: #FFFFFF;\n",
              "    }\n",
              "  </style>\n",
              "\n",
              "      <script>\n",
              "        const buttonEl =\n",
              "          document.querySelector('#df-62258dac-1c07-4d2a-ab5e-1f5e61f7f110 button.colab-df-convert');\n",
              "        buttonEl.style.display =\n",
              "          google.colab.kernel.accessAllowed ? 'block' : 'none';\n",
              "\n",
              "        async function convertToInteractive(key) {\n",
              "          const element = document.querySelector('#df-62258dac-1c07-4d2a-ab5e-1f5e61f7f110');\n",
              "          const dataTable =\n",
              "            await google.colab.kernel.invokeFunction('convertToInteractive',\n",
              "                                                     [key], {});\n",
              "          if (!dataTable) return;\n",
              "\n",
              "          const docLinkHtml = 'Like what you see? Visit the ' +\n",
              "            '<a target=\"_blank\" href=https://colab.research.google.com/notebooks/data_table.ipynb>data table notebook</a>'\n",
              "            + ' to learn more about interactive tables.';\n",
              "          element.innerHTML = '';\n",
              "          dataTable['output_type'] = 'display_data';\n",
              "          await google.colab.output.renderOutput(dataTable, element);\n",
              "          const docLink = document.createElement('div');\n",
              "          docLink.innerHTML = docLinkHtml;\n",
              "          element.appendChild(docLink);\n",
              "        }\n",
              "      </script>\n",
              "    </div>\n",
              "  </div>\n",
              "  "
            ]
          },
          "metadata": {},
          "execution_count": 33
        }
      ]
    },
    {
      "cell_type": "markdown",
      "source": [
        "En la web de la competición se obtiene un MAE de 32.6130.\n",
        "\n",
        "Se puede considerer como un resultado malo debido a que supera el 30. Para tener un buen resultado consideramos que debemos bajar al menos de 28."
      ],
      "metadata": {
        "id": "PQhp22Eod4tP"
      }
    },
    {
      "cell_type": "markdown",
      "source": [
        "###Calculamos el MAE de validación"
      ],
      "metadata": {
        "id": "ZJBNC0A2B2im"
      }
    },
    {
      "cell_type": "markdown",
      "source": [
        "Este MAE es el calculado utilizando un conjunto de datos de validación que ha sido separado del conjunto de enrenamiento para este propósito."
      ],
      "metadata": {
        "id": "H3sejUEveHh4"
      }
    },
    {
      "cell_type": "code",
      "source": [
        "real = validation['total_cases']\n",
        "validation_svm_kmeans_n3 = validation\n",
        "validation_svm_kmeans_n3 = validation_svm_kmeans_n3.drop('total_cases', axis=1)\n",
        "validation_svm_kmeans_n3[\"etiquetas\"] = kmeans_n3.predict(validation_svm_kmeans_n3)\n",
        "\n",
        "y_pred = svm_kmeans_n3.predict(validation_svm_kmeans_n3)\n",
        "y = np.rint(y_pred) # round\n",
        "y = y.astype(int) # cast to int\n",
        "res = np.hstack(y)\n",
        "y_pred_no_neg = res.copy()\n",
        "y_pred_no_neg[y_pred < 0] = 0\n",
        "\n",
        "from sklearn.metrics import mean_absolute_error\n",
        "mae = mean_absolute_error(real, y_pred_no_neg)\n",
        "print('MAE de validación: ' + str(mae))\n",
        "print(\"\")"
      ],
      "metadata": {
        "colab": {
          "base_uri": "https://localhost:8080/"
        },
        "outputId": "c627267b-bba7-46a3-bf07-e54c9596907e",
        "id": "ScsfQhT4B2in"
      },
      "execution_count": null,
      "outputs": [
        {
          "output_type": "stream",
          "name": "stdout",
          "text": [
            "MAE de validación: 16.767123287671232\n",
            "\n"
          ]
        },
        {
          "output_type": "stream",
          "name": "stderr",
          "text": [
            "/usr/local/lib/python3.9/dist-packages/sklearn/base.py:432: UserWarning: X has feature names, but KMeans was fitted without feature names\n",
            "  warnings.warn(\n"
          ]
        }
      ]
    },
    {
      "cell_type": "markdown",
      "source": [
        "El MAE de validación es sustancialmente menor al obtenido de la web de la competición."
      ],
      "metadata": {
        "id": "tOY92LPee6wM"
      }
    },
    {
      "cell_type": "markdown",
      "source": [
        "##KNN"
      ],
      "metadata": {
        "id": "v8aS-KEBFi-Y"
      }
    },
    {
      "cell_type": "code",
      "metadata": {
        "colab": {
          "base_uri": "https://localhost:8080/"
        },
        "outputId": "5cfdc3a6-8ecf-400b-d3f9-4b2d9c8e2d87",
        "id": "-M1n4ev8Fn5A"
      },
      "source": [
        "X_test = test\n",
        "X_test = X_test.drop('etiquetas', axis=1)\n",
        "X_test[\"etiquetas\"] = kmeans_n3.predict(X_test)\n",
        "y_pred = knn_kmeans_n5.predict(X_test)"
      ],
      "execution_count": null,
      "outputs": [
        {
          "output_type": "stream",
          "name": "stderr",
          "text": [
            "/usr/local/lib/python3.9/dist-packages/sklearn/base.py:432: UserWarning: X has feature names, but KMeans was fitted without feature names\n",
            "  warnings.warn(\n"
          ]
        }
      ]
    },
    {
      "cell_type": "markdown",
      "metadata": {
        "id": "qnxu67BmFn5A"
      },
      "source": [
        "* Redondeamos el resultado"
      ]
    },
    {
      "cell_type": "code",
      "metadata": {
        "id": "W7edZzNVFn5A"
      },
      "source": [
        "# round the result and cast to int\n",
        "import numpy as np\n",
        "y = np.rint(y_pred) # round\n",
        "y = y.astype(int) # cast to int\n",
        "res = np.hstack(y)"
      ],
      "execution_count": null,
      "outputs": []
    },
    {
      "cell_type": "code",
      "metadata": {
        "id": "RVZddWJVFn5A"
      },
      "source": [
        "y_pred_no_neg = res.copy()"
      ],
      "execution_count": null,
      "outputs": []
    },
    {
      "cell_type": "code",
      "metadata": {
        "id": "MUUsGbjQFn5B"
      },
      "source": [
        "y_pred_no_neg[y_pred < 0] = 0"
      ],
      "execution_count": null,
      "outputs": []
    },
    {
      "cell_type": "markdown",
      "metadata": {
        "id": "MEx_bJ1uFn5B"
      },
      "source": [
        "* Generamos el fichero de salida"
      ]
    },
    {
      "cell_type": "code",
      "metadata": {
        "colab": {
          "base_uri": "https://localhost:8080/",
          "height": 206
        },
        "outputId": "9602a7ff-bd3d-4be9-fb21-e1cb35094dcd",
        "id": "0HPolVndFn5B"
      },
      "source": [
        "#Generar output\n",
        "output = pd.DataFrame({ 'city': test['city_bin'], 'year': test['year'], 'weekofyear': test['weekofyear'],\n",
        "                       'total_cases': y_pred_no_neg})\n",
        "\n",
        "output['city'] = output['city'].replace({0: 'iq', 1: 'sj'})\n",
        "\n",
        "\n",
        "from google.colab import files\n",
        "\n",
        "with open('knn_kmeans_n5.csv', 'w') as f:\n",
        "  output.to_csv(f,  index = False)\n",
        "\n",
        "\n",
        "files.download('knn_kmeans_n5.csv')\n",
        "\n",
        "output.head()"
      ],
      "execution_count": null,
      "outputs": [
        {
          "output_type": "display_data",
          "data": {
            "text/plain": [
              "<IPython.core.display.Javascript object>"
            ],
            "application/javascript": [
              "\n",
              "    async function download(id, filename, size) {\n",
              "      if (!google.colab.kernel.accessAllowed) {\n",
              "        return;\n",
              "      }\n",
              "      const div = document.createElement('div');\n",
              "      const label = document.createElement('label');\n",
              "      label.textContent = `Downloading \"${filename}\": `;\n",
              "      div.appendChild(label);\n",
              "      const progress = document.createElement('progress');\n",
              "      progress.max = size;\n",
              "      div.appendChild(progress);\n",
              "      document.body.appendChild(div);\n",
              "\n",
              "      const buffers = [];\n",
              "      let downloaded = 0;\n",
              "\n",
              "      const channel = await google.colab.kernel.comms.open(id);\n",
              "      // Send a message to notify the kernel that we're ready.\n",
              "      channel.send({})\n",
              "\n",
              "      for await (const message of channel.messages) {\n",
              "        // Send a message to notify the kernel that we're ready.\n",
              "        channel.send({})\n",
              "        if (message.buffers) {\n",
              "          for (const buffer of message.buffers) {\n",
              "            buffers.push(buffer);\n",
              "            downloaded += buffer.byteLength;\n",
              "            progress.value = downloaded;\n",
              "          }\n",
              "        }\n",
              "      }\n",
              "      const blob = new Blob(buffers, {type: 'application/binary'});\n",
              "      const a = document.createElement('a');\n",
              "      a.href = window.URL.createObjectURL(blob);\n",
              "      a.download = filename;\n",
              "      div.appendChild(a);\n",
              "      a.click();\n",
              "      div.remove();\n",
              "    }\n",
              "  "
            ]
          },
          "metadata": {}
        },
        {
          "output_type": "display_data",
          "data": {
            "text/plain": [
              "<IPython.core.display.Javascript object>"
            ],
            "application/javascript": [
              "download(\"download_5aa2be68-8c61-4b02-a8f5-df22ac43ec92\", \"knn_kmeans_n5.csv\", 5622)"
            ]
          },
          "metadata": {}
        },
        {
          "output_type": "execute_result",
          "data": {
            "text/plain": [
              "  city  year  weekofyear  total_cases\n",
              "0   sj  2008          18           11\n",
              "1   sj  2008          19            8\n",
              "2   sj  2008          20            9\n",
              "3   sj  2008          21            7\n",
              "4   sj  2008          22            6"
            ],
            "text/html": [
              "\n",
              "  <div id=\"df-17e2d727-08ba-4939-9753-12d348552337\">\n",
              "    <div class=\"colab-df-container\">\n",
              "      <div>\n",
              "<style scoped>\n",
              "    .dataframe tbody tr th:only-of-type {\n",
              "        vertical-align: middle;\n",
              "    }\n",
              "\n",
              "    .dataframe tbody tr th {\n",
              "        vertical-align: top;\n",
              "    }\n",
              "\n",
              "    .dataframe thead th {\n",
              "        text-align: right;\n",
              "    }\n",
              "</style>\n",
              "<table border=\"1\" class=\"dataframe\">\n",
              "  <thead>\n",
              "    <tr style=\"text-align: right;\">\n",
              "      <th></th>\n",
              "      <th>city</th>\n",
              "      <th>year</th>\n",
              "      <th>weekofyear</th>\n",
              "      <th>total_cases</th>\n",
              "    </tr>\n",
              "  </thead>\n",
              "  <tbody>\n",
              "    <tr>\n",
              "      <th>0</th>\n",
              "      <td>sj</td>\n",
              "      <td>2008</td>\n",
              "      <td>18</td>\n",
              "      <td>11</td>\n",
              "    </tr>\n",
              "    <tr>\n",
              "      <th>1</th>\n",
              "      <td>sj</td>\n",
              "      <td>2008</td>\n",
              "      <td>19</td>\n",
              "      <td>8</td>\n",
              "    </tr>\n",
              "    <tr>\n",
              "      <th>2</th>\n",
              "      <td>sj</td>\n",
              "      <td>2008</td>\n",
              "      <td>20</td>\n",
              "      <td>9</td>\n",
              "    </tr>\n",
              "    <tr>\n",
              "      <th>3</th>\n",
              "      <td>sj</td>\n",
              "      <td>2008</td>\n",
              "      <td>21</td>\n",
              "      <td>7</td>\n",
              "    </tr>\n",
              "    <tr>\n",
              "      <th>4</th>\n",
              "      <td>sj</td>\n",
              "      <td>2008</td>\n",
              "      <td>22</td>\n",
              "      <td>6</td>\n",
              "    </tr>\n",
              "  </tbody>\n",
              "</table>\n",
              "</div>\n",
              "      <button class=\"colab-df-convert\" onclick=\"convertToInteractive('df-17e2d727-08ba-4939-9753-12d348552337')\"\n",
              "              title=\"Convert this dataframe to an interactive table.\"\n",
              "              style=\"display:none;\">\n",
              "        \n",
              "  <svg xmlns=\"http://www.w3.org/2000/svg\" height=\"24px\"viewBox=\"0 0 24 24\"\n",
              "       width=\"24px\">\n",
              "    <path d=\"M0 0h24v24H0V0z\" fill=\"none\"/>\n",
              "    <path d=\"M18.56 5.44l.94 2.06.94-2.06 2.06-.94-2.06-.94-.94-2.06-.94 2.06-2.06.94zm-11 1L8.5 8.5l.94-2.06 2.06-.94-2.06-.94L8.5 2.5l-.94 2.06-2.06.94zm10 10l.94 2.06.94-2.06 2.06-.94-2.06-.94-.94-2.06-.94 2.06-2.06.94z\"/><path d=\"M17.41 7.96l-1.37-1.37c-.4-.4-.92-.59-1.43-.59-.52 0-1.04.2-1.43.59L10.3 9.45l-7.72 7.72c-.78.78-.78 2.05 0 2.83L4 21.41c.39.39.9.59 1.41.59.51 0 1.02-.2 1.41-.59l7.78-7.78 2.81-2.81c.8-.78.8-2.07 0-2.86zM5.41 20L4 18.59l7.72-7.72 1.47 1.35L5.41 20z\"/>\n",
              "  </svg>\n",
              "      </button>\n",
              "      \n",
              "  <style>\n",
              "    .colab-df-container {\n",
              "      display:flex;\n",
              "      flex-wrap:wrap;\n",
              "      gap: 12px;\n",
              "    }\n",
              "\n",
              "    .colab-df-convert {\n",
              "      background-color: #E8F0FE;\n",
              "      border: none;\n",
              "      border-radius: 50%;\n",
              "      cursor: pointer;\n",
              "      display: none;\n",
              "      fill: #1967D2;\n",
              "      height: 32px;\n",
              "      padding: 0 0 0 0;\n",
              "      width: 32px;\n",
              "    }\n",
              "\n",
              "    .colab-df-convert:hover {\n",
              "      background-color: #E2EBFA;\n",
              "      box-shadow: 0px 1px 2px rgba(60, 64, 67, 0.3), 0px 1px 3px 1px rgba(60, 64, 67, 0.15);\n",
              "      fill: #174EA6;\n",
              "    }\n",
              "\n",
              "    [theme=dark] .colab-df-convert {\n",
              "      background-color: #3B4455;\n",
              "      fill: #D2E3FC;\n",
              "    }\n",
              "\n",
              "    [theme=dark] .colab-df-convert:hover {\n",
              "      background-color: #434B5C;\n",
              "      box-shadow: 0px 1px 3px 1px rgba(0, 0, 0, 0.15);\n",
              "      filter: drop-shadow(0px 1px 2px rgba(0, 0, 0, 0.3));\n",
              "      fill: #FFFFFF;\n",
              "    }\n",
              "  </style>\n",
              "\n",
              "      <script>\n",
              "        const buttonEl =\n",
              "          document.querySelector('#df-17e2d727-08ba-4939-9753-12d348552337 button.colab-df-convert');\n",
              "        buttonEl.style.display =\n",
              "          google.colab.kernel.accessAllowed ? 'block' : 'none';\n",
              "\n",
              "        async function convertToInteractive(key) {\n",
              "          const element = document.querySelector('#df-17e2d727-08ba-4939-9753-12d348552337');\n",
              "          const dataTable =\n",
              "            await google.colab.kernel.invokeFunction('convertToInteractive',\n",
              "                                                     [key], {});\n",
              "          if (!dataTable) return;\n",
              "\n",
              "          const docLinkHtml = 'Like what you see? Visit the ' +\n",
              "            '<a target=\"_blank\" href=https://colab.research.google.com/notebooks/data_table.ipynb>data table notebook</a>'\n",
              "            + ' to learn more about interactive tables.';\n",
              "          element.innerHTML = '';\n",
              "          dataTable['output_type'] = 'display_data';\n",
              "          await google.colab.output.renderOutput(dataTable, element);\n",
              "          const docLink = document.createElement('div');\n",
              "          docLink.innerHTML = docLinkHtml;\n",
              "          element.appendChild(docLink);\n",
              "        }\n",
              "      </script>\n",
              "    </div>\n",
              "  </div>\n",
              "  "
            ]
          },
          "metadata": {},
          "execution_count": 39
        }
      ]
    },
    {
      "cell_type": "markdown",
      "source": [
        "En la web del concurso hemos obtenido un MAE de 30.7981.\n",
        "\n",
        "Este resultado es mejor que el obtenido mediante SVM pero aún estamos fuera del umbral que buscamos."
      ],
      "metadata": {
        "id": "JpWvxpNyfKeh"
      }
    },
    {
      "cell_type": "markdown",
      "source": [
        "###Calculamos el MAE de validación"
      ],
      "metadata": {
        "id": "lyBu6UQrFn5B"
      }
    },
    {
      "cell_type": "code",
      "source": [
        "real = validation['total_cases']\n",
        "validation_knn_kmeans_n5 = validation\n",
        "validation_knn_kmeans_n5 = validation_knn_kmeans_n5.drop('total_cases', axis=1)\n",
        "validation_knn_kmeans_n5[\"etiquetas\"] = kmeans_n3.predict(validation_knn_kmeans_n5)\n",
        "\n",
        "y_pred = knn_kmeans_n5.predict(validation_knn_kmeans_n5)\n",
        "y = np.rint(y_pred) # round\n",
        "y = y.astype(int) # cast to int\n",
        "res = np.hstack(y)\n",
        "y_pred_no_neg = res.copy()\n",
        "y_pred_no_neg[y_pred < 0] = 0\n",
        "\n",
        "from sklearn.metrics import mean_absolute_error\n",
        "mae = mean_absolute_error(real, y_pred_no_neg)\n",
        "print('MAE de validación: ' + str(mae))\n",
        "print(\"\")"
      ],
      "metadata": {
        "colab": {
          "base_uri": "https://localhost:8080/"
        },
        "outputId": "1337de05-a511-4910-8597-9bc3e5481de3",
        "id": "cEcNa7JuFn5B"
      },
      "execution_count": null,
      "outputs": [
        {
          "output_type": "stream",
          "name": "stdout",
          "text": [
            "MAE de validación: 16.565068493150687\n",
            "\n"
          ]
        },
        {
          "output_type": "stream",
          "name": "stderr",
          "text": [
            "/usr/local/lib/python3.9/dist-packages/sklearn/base.py:432: UserWarning: X has feature names, but KMeans was fitted without feature names\n",
            "  warnings.warn(\n"
          ]
        }
      ]
    },
    {
      "cell_type": "markdown",
      "source": [
        "En este caso el MAE de validación es incluso inferior."
      ],
      "metadata": {
        "id": "1YMOzD5xftLn"
      }
    },
    {
      "cell_type": "markdown",
      "source": [
        "##Árbol de decisión"
      ],
      "metadata": {
        "id": "UQoitHtoG3jk"
      }
    },
    {
      "cell_type": "code",
      "metadata": {
        "colab": {
          "base_uri": "https://localhost:8080/"
        },
        "outputId": "0cfd30b2-8942-4b51-983f-d6a1883c36b3",
        "id": "rJoomRwAG-cA"
      },
      "source": [
        "X_test = test\n",
        "X_test = X_test.drop('etiquetas', axis=1)\n",
        "X_test[\"etiquetas\"] = kmeans_n3.predict(X_test)\n",
        "y_pred = tree_kmeans_n3.predict(X_test)"
      ],
      "execution_count": null,
      "outputs": [
        {
          "output_type": "stream",
          "name": "stderr",
          "text": [
            "/usr/local/lib/python3.9/dist-packages/sklearn/base.py:432: UserWarning: X has feature names, but KMeans was fitted without feature names\n",
            "  warnings.warn(\n"
          ]
        }
      ]
    },
    {
      "cell_type": "markdown",
      "metadata": {
        "id": "Tndrb1BPG-cB"
      },
      "source": [
        "* Redondeamos el resultado"
      ]
    },
    {
      "cell_type": "code",
      "metadata": {
        "id": "bwHmCCV7G-cB"
      },
      "source": [
        "# round the result and cast to int\n",
        "import numpy as np\n",
        "y = np.rint(y_pred) # round\n",
        "y = y.astype(int) # cast to int\n",
        "res = np.hstack(y)"
      ],
      "execution_count": null,
      "outputs": []
    },
    {
      "cell_type": "code",
      "metadata": {
        "id": "ZFqUudcDG-cB"
      },
      "source": [
        "y_pred_no_neg = res.copy()"
      ],
      "execution_count": null,
      "outputs": []
    },
    {
      "cell_type": "code",
      "metadata": {
        "id": "kXQKySUHG-cB"
      },
      "source": [
        "y_pred_no_neg[y_pred < 0] = 0"
      ],
      "execution_count": null,
      "outputs": []
    },
    {
      "cell_type": "markdown",
      "metadata": {
        "id": "GZHG6OD8G-cB"
      },
      "source": [
        "* Generamos el fichero de salida"
      ]
    },
    {
      "cell_type": "code",
      "metadata": {
        "colab": {
          "base_uri": "https://localhost:8080/",
          "height": 206
        },
        "outputId": "5f8138a0-1973-4b6d-d835-02da56aefb7c",
        "id": "IQOJtCzLG-cC"
      },
      "source": [
        "#Generar output\n",
        "output = pd.DataFrame({ 'city': test['city_bin'], 'year': test['year'], 'weekofyear': test['weekofyear'],\n",
        "                       'total_cases': y_pred_no_neg})\n",
        "\n",
        "output['city'] = output['city'].replace({0: 'iq', 1: 'sj'})\n",
        "\n",
        "\n",
        "from google.colab import files\n",
        "\n",
        "with open('tree_kmeans_n3.csv', 'w') as f:\n",
        "  output.to_csv(f,  index = False)\n",
        "\n",
        "\n",
        "files.download('tree_kmeans_n3.csv')\n",
        "\n",
        "output.head()"
      ],
      "execution_count": null,
      "outputs": [
        {
          "output_type": "display_data",
          "data": {
            "text/plain": [
              "<IPython.core.display.Javascript object>"
            ],
            "application/javascript": [
              "\n",
              "    async function download(id, filename, size) {\n",
              "      if (!google.colab.kernel.accessAllowed) {\n",
              "        return;\n",
              "      }\n",
              "      const div = document.createElement('div');\n",
              "      const label = document.createElement('label');\n",
              "      label.textContent = `Downloading \"${filename}\": `;\n",
              "      div.appendChild(label);\n",
              "      const progress = document.createElement('progress');\n",
              "      progress.max = size;\n",
              "      div.appendChild(progress);\n",
              "      document.body.appendChild(div);\n",
              "\n",
              "      const buffers = [];\n",
              "      let downloaded = 0;\n",
              "\n",
              "      const channel = await google.colab.kernel.comms.open(id);\n",
              "      // Send a message to notify the kernel that we're ready.\n",
              "      channel.send({})\n",
              "\n",
              "      for await (const message of channel.messages) {\n",
              "        // Send a message to notify the kernel that we're ready.\n",
              "        channel.send({})\n",
              "        if (message.buffers) {\n",
              "          for (const buffer of message.buffers) {\n",
              "            buffers.push(buffer);\n",
              "            downloaded += buffer.byteLength;\n",
              "            progress.value = downloaded;\n",
              "          }\n",
              "        }\n",
              "      }\n",
              "      const blob = new Blob(buffers, {type: 'application/binary'});\n",
              "      const a = document.createElement('a');\n",
              "      a.href = window.URL.createObjectURL(blob);\n",
              "      a.download = filename;\n",
              "      div.appendChild(a);\n",
              "      a.click();\n",
              "      div.remove();\n",
              "    }\n",
              "  "
            ]
          },
          "metadata": {}
        },
        {
          "output_type": "display_data",
          "data": {
            "text/plain": [
              "<IPython.core.display.Javascript object>"
            ],
            "application/javascript": [
              "download(\"download_ec2a3022-fa35-48a7-83ba-8ddb6a05e888\", \"tree_kmeans_n3.csv\", 5628)"
            ]
          },
          "metadata": {}
        },
        {
          "output_type": "execute_result",
          "data": {
            "text/plain": [
              "  city  year  weekofyear  total_cases\n",
              "0   sj  2008          18            1\n",
              "1   sj  2008          19            2\n",
              "2   sj  2008          20            1\n",
              "3   sj  2008          21            5\n",
              "4   sj  2008          22            8"
            ],
            "text/html": [
              "\n",
              "  <div id=\"df-15415ca0-a7d0-4c79-8471-80dbbb10016b\">\n",
              "    <div class=\"colab-df-container\">\n",
              "      <div>\n",
              "<style scoped>\n",
              "    .dataframe tbody tr th:only-of-type {\n",
              "        vertical-align: middle;\n",
              "    }\n",
              "\n",
              "    .dataframe tbody tr th {\n",
              "        vertical-align: top;\n",
              "    }\n",
              "\n",
              "    .dataframe thead th {\n",
              "        text-align: right;\n",
              "    }\n",
              "</style>\n",
              "<table border=\"1\" class=\"dataframe\">\n",
              "  <thead>\n",
              "    <tr style=\"text-align: right;\">\n",
              "      <th></th>\n",
              "      <th>city</th>\n",
              "      <th>year</th>\n",
              "      <th>weekofyear</th>\n",
              "      <th>total_cases</th>\n",
              "    </tr>\n",
              "  </thead>\n",
              "  <tbody>\n",
              "    <tr>\n",
              "      <th>0</th>\n",
              "      <td>sj</td>\n",
              "      <td>2008</td>\n",
              "      <td>18</td>\n",
              "      <td>1</td>\n",
              "    </tr>\n",
              "    <tr>\n",
              "      <th>1</th>\n",
              "      <td>sj</td>\n",
              "      <td>2008</td>\n",
              "      <td>19</td>\n",
              "      <td>2</td>\n",
              "    </tr>\n",
              "    <tr>\n",
              "      <th>2</th>\n",
              "      <td>sj</td>\n",
              "      <td>2008</td>\n",
              "      <td>20</td>\n",
              "      <td>1</td>\n",
              "    </tr>\n",
              "    <tr>\n",
              "      <th>3</th>\n",
              "      <td>sj</td>\n",
              "      <td>2008</td>\n",
              "      <td>21</td>\n",
              "      <td>5</td>\n",
              "    </tr>\n",
              "    <tr>\n",
              "      <th>4</th>\n",
              "      <td>sj</td>\n",
              "      <td>2008</td>\n",
              "      <td>22</td>\n",
              "      <td>8</td>\n",
              "    </tr>\n",
              "  </tbody>\n",
              "</table>\n",
              "</div>\n",
              "      <button class=\"colab-df-convert\" onclick=\"convertToInteractive('df-15415ca0-a7d0-4c79-8471-80dbbb10016b')\"\n",
              "              title=\"Convert this dataframe to an interactive table.\"\n",
              "              style=\"display:none;\">\n",
              "        \n",
              "  <svg xmlns=\"http://www.w3.org/2000/svg\" height=\"24px\"viewBox=\"0 0 24 24\"\n",
              "       width=\"24px\">\n",
              "    <path d=\"M0 0h24v24H0V0z\" fill=\"none\"/>\n",
              "    <path d=\"M18.56 5.44l.94 2.06.94-2.06 2.06-.94-2.06-.94-.94-2.06-.94 2.06-2.06.94zm-11 1L8.5 8.5l.94-2.06 2.06-.94-2.06-.94L8.5 2.5l-.94 2.06-2.06.94zm10 10l.94 2.06.94-2.06 2.06-.94-2.06-.94-.94-2.06-.94 2.06-2.06.94z\"/><path d=\"M17.41 7.96l-1.37-1.37c-.4-.4-.92-.59-1.43-.59-.52 0-1.04.2-1.43.59L10.3 9.45l-7.72 7.72c-.78.78-.78 2.05 0 2.83L4 21.41c.39.39.9.59 1.41.59.51 0 1.02-.2 1.41-.59l7.78-7.78 2.81-2.81c.8-.78.8-2.07 0-2.86zM5.41 20L4 18.59l7.72-7.72 1.47 1.35L5.41 20z\"/>\n",
              "  </svg>\n",
              "      </button>\n",
              "      \n",
              "  <style>\n",
              "    .colab-df-container {\n",
              "      display:flex;\n",
              "      flex-wrap:wrap;\n",
              "      gap: 12px;\n",
              "    }\n",
              "\n",
              "    .colab-df-convert {\n",
              "      background-color: #E8F0FE;\n",
              "      border: none;\n",
              "      border-radius: 50%;\n",
              "      cursor: pointer;\n",
              "      display: none;\n",
              "      fill: #1967D2;\n",
              "      height: 32px;\n",
              "      padding: 0 0 0 0;\n",
              "      width: 32px;\n",
              "    }\n",
              "\n",
              "    .colab-df-convert:hover {\n",
              "      background-color: #E2EBFA;\n",
              "      box-shadow: 0px 1px 2px rgba(60, 64, 67, 0.3), 0px 1px 3px 1px rgba(60, 64, 67, 0.15);\n",
              "      fill: #174EA6;\n",
              "    }\n",
              "\n",
              "    [theme=dark] .colab-df-convert {\n",
              "      background-color: #3B4455;\n",
              "      fill: #D2E3FC;\n",
              "    }\n",
              "\n",
              "    [theme=dark] .colab-df-convert:hover {\n",
              "      background-color: #434B5C;\n",
              "      box-shadow: 0px 1px 3px 1px rgba(0, 0, 0, 0.15);\n",
              "      filter: drop-shadow(0px 1px 2px rgba(0, 0, 0, 0.3));\n",
              "      fill: #FFFFFF;\n",
              "    }\n",
              "  </style>\n",
              "\n",
              "      <script>\n",
              "        const buttonEl =\n",
              "          document.querySelector('#df-15415ca0-a7d0-4c79-8471-80dbbb10016b button.colab-df-convert');\n",
              "        buttonEl.style.display =\n",
              "          google.colab.kernel.accessAllowed ? 'block' : 'none';\n",
              "\n",
              "        async function convertToInteractive(key) {\n",
              "          const element = document.querySelector('#df-15415ca0-a7d0-4c79-8471-80dbbb10016b');\n",
              "          const dataTable =\n",
              "            await google.colab.kernel.invokeFunction('convertToInteractive',\n",
              "                                                     [key], {});\n",
              "          if (!dataTable) return;\n",
              "\n",
              "          const docLinkHtml = 'Like what you see? Visit the ' +\n",
              "            '<a target=\"_blank\" href=https://colab.research.google.com/notebooks/data_table.ipynb>data table notebook</a>'\n",
              "            + ' to learn more about interactive tables.';\n",
              "          element.innerHTML = '';\n",
              "          dataTable['output_type'] = 'display_data';\n",
              "          await google.colab.output.renderOutput(dataTable, element);\n",
              "          const docLink = document.createElement('div');\n",
              "          docLink.innerHTML = docLinkHtml;\n",
              "          element.appendChild(docLink);\n",
              "        }\n",
              "      </script>\n",
              "    </div>\n",
              "  </div>\n",
              "  "
            ]
          },
          "metadata": {},
          "execution_count": 45
        }
      ]
    },
    {
      "cell_type": "markdown",
      "source": [
        "En la web de la competición se obtiene un MAE de 30.9351.\n",
        "\n",
        "De nuevo es un mal resultado."
      ],
      "metadata": {
        "id": "s4T6iacSfz9J"
      }
    },
    {
      "cell_type": "markdown",
      "source": [
        "###Calculamos el MAE de validación"
      ],
      "metadata": {
        "id": "_sG2x8FMG-cC"
      }
    },
    {
      "cell_type": "code",
      "source": [
        "real = validation['total_cases']\n",
        "validation_tree_kmeans_n3 = validation\n",
        "validation_tree_kmeans_n3 = validation_tree_kmeans_n3.drop('total_cases', axis=1)\n",
        "validation_tree_kmeans_n3[\"etiquetas\"] = kmeans_n3.predict(validation_tree_kmeans_n3)\n",
        "\n",
        "y_pred = tree_kmeans_n3.predict(validation_tree_kmeans_n3)\n",
        "y = np.rint(y_pred) # round\n",
        "y = y.astype(int) # cast to int\n",
        "res = np.hstack(y)\n",
        "y_pred_no_neg = res.copy()\n",
        "y_pred_no_neg[y_pred < 0] = 0\n",
        "\n",
        "from sklearn.metrics import mean_absolute_error\n",
        "mae = mean_absolute_error(real, y_pred_no_neg)\n",
        "print('MAE de validación: ' + str(mae))\n",
        "print(\"\")"
      ],
      "metadata": {
        "colab": {
          "base_uri": "https://localhost:8080/"
        },
        "outputId": "71919854-929f-49d1-955d-c6ed3e30bf61",
        "id": "4Adki-v5G-cC"
      },
      "execution_count": null,
      "outputs": [
        {
          "output_type": "stream",
          "name": "stdout",
          "text": [
            "MAE de validación: 13.852739726027398\n",
            "\n"
          ]
        },
        {
          "output_type": "stream",
          "name": "stderr",
          "text": [
            "/usr/local/lib/python3.9/dist-packages/sklearn/base.py:432: UserWarning: X has feature names, but KMeans was fitted without feature names\n",
            "  warnings.warn(\n"
          ]
        }
      ]
    },
    {
      "cell_type": "markdown",
      "source": [
        "Este es el más bajo de los MAE de validación de los hallados hasta ahora, no parecen estar en consonancia con los valores de la página web."
      ],
      "metadata": {
        "id": "z2Lj8ryAf6h3"
      }
    },
    {
      "cell_type": "markdown",
      "source": [
        "##Regresión"
      ],
      "metadata": {
        "id": "4mp1H4FoBo5B"
      }
    },
    {
      "cell_type": "code",
      "metadata": {
        "id": "K7vljp6nts7P",
        "colab": {
          "base_uri": "https://localhost:8080/"
        },
        "outputId": "07f45f60-4c78-4ca0-91e2-50c476ced253"
      },
      "source": [
        "X_test = test\n",
        "X_test = X_test.drop('etiquetas', axis=1)\n",
        "X_test[\"etiquetas\"] = kmeans_n3.predict(X_test)\n",
        "y_pred = regres_kmeans_n3.predict(X_test)"
      ],
      "execution_count": null,
      "outputs": [
        {
          "output_type": "stream",
          "name": "stderr",
          "text": [
            "/usr/local/lib/python3.9/dist-packages/sklearn/base.py:432: UserWarning: X has feature names, but KMeans was fitted without feature names\n",
            "  warnings.warn(\n"
          ]
        }
      ]
    },
    {
      "cell_type": "markdown",
      "metadata": {
        "id": "rayDprr6DVNf"
      },
      "source": [
        "* Redondeamos el resultado"
      ]
    },
    {
      "cell_type": "code",
      "metadata": {
        "id": "QR9j8aQI-9yc"
      },
      "source": [
        "# round the result and cast to int\n",
        "import numpy as np\n",
        "y = np.rint(y_pred) # round\n",
        "y = y.astype(int) # cast to int\n",
        "res = np.hstack(y)"
      ],
      "execution_count": null,
      "outputs": []
    },
    {
      "cell_type": "code",
      "metadata": {
        "id": "Q5gq2SYr7Cqz"
      },
      "source": [
        "y_pred_no_neg = res.copy()"
      ],
      "execution_count": null,
      "outputs": []
    },
    {
      "cell_type": "code",
      "metadata": {
        "id": "YQKAQ1unDVNf"
      },
      "source": [
        "y_pred_no_neg[y_pred < 0] = 0"
      ],
      "execution_count": null,
      "outputs": []
    },
    {
      "cell_type": "markdown",
      "metadata": {
        "id": "3cflSivlIflO"
      },
      "source": [
        "* Generamos el fichero de salida"
      ]
    },
    {
      "cell_type": "code",
      "metadata": {
        "colab": {
          "base_uri": "https://localhost:8080/",
          "height": 206
        },
        "outputId": "e3d93ec9-c108-465d-83a9-01334594d4c9",
        "id": "YTG_61nqIflP"
      },
      "source": [
        "# generate output\n",
        "output = pd.DataFrame({ 'city': test['city_bin'], 'year': test['year'], 'weekofyear': test['weekofyear'],\n",
        "                       'total_cases': y_pred_no_neg})\n",
        "\n",
        "#Para adecuar el resultado al formato del concurso\n",
        "output['city'] = output['city'].replace({0: 'iq', 1: 'sj'})\n",
        "\n",
        "\n",
        "from google.colab import files\n",
        "\n",
        "with open('kmeans_n3.csv', 'w') as f:\n",
        "  output.to_csv(f,  index = False)\n",
        "\n",
        "\n",
        "files.download('kmeans_n3.csv')\n",
        "\n",
        "output.head()"
      ],
      "execution_count": null,
      "outputs": [
        {
          "output_type": "display_data",
          "data": {
            "text/plain": [
              "<IPython.core.display.Javascript object>"
            ],
            "application/javascript": [
              "\n",
              "    async function download(id, filename, size) {\n",
              "      if (!google.colab.kernel.accessAllowed) {\n",
              "        return;\n",
              "      }\n",
              "      const div = document.createElement('div');\n",
              "      const label = document.createElement('label');\n",
              "      label.textContent = `Downloading \"${filename}\": `;\n",
              "      div.appendChild(label);\n",
              "      const progress = document.createElement('progress');\n",
              "      progress.max = size;\n",
              "      div.appendChild(progress);\n",
              "      document.body.appendChild(div);\n",
              "\n",
              "      const buffers = [];\n",
              "      let downloaded = 0;\n",
              "\n",
              "      const channel = await google.colab.kernel.comms.open(id);\n",
              "      // Send a message to notify the kernel that we're ready.\n",
              "      channel.send({})\n",
              "\n",
              "      for await (const message of channel.messages) {\n",
              "        // Send a message to notify the kernel that we're ready.\n",
              "        channel.send({})\n",
              "        if (message.buffers) {\n",
              "          for (const buffer of message.buffers) {\n",
              "            buffers.push(buffer);\n",
              "            downloaded += buffer.byteLength;\n",
              "            progress.value = downloaded;\n",
              "          }\n",
              "        }\n",
              "      }\n",
              "      const blob = new Blob(buffers, {type: 'application/binary'});\n",
              "      const a = document.createElement('a');\n",
              "      a.href = window.URL.createObjectURL(blob);\n",
              "      a.download = filename;\n",
              "      div.appendChild(a);\n",
              "      a.click();\n",
              "      div.remove();\n",
              "    }\n",
              "  "
            ]
          },
          "metadata": {}
        },
        {
          "output_type": "display_data",
          "data": {
            "text/plain": [
              "<IPython.core.display.Javascript object>"
            ],
            "application/javascript": [
              "download(\"download_4c01ec7e-e8a1-423a-9294-7f8545876ade\", \"kmeans_n3.csv\", 5558)"
            ]
          },
          "metadata": {}
        },
        {
          "output_type": "execute_result",
          "data": {
            "text/plain": [
              "  city  year  weekofyear  total_cases\n",
              "0   sj  2008          18           14\n",
              "1   sj  2008          19           12\n",
              "2   sj  2008          20           16\n",
              "3   sj  2008          21           12\n",
              "4   sj  2008          22           19"
            ],
            "text/html": [
              "\n",
              "  <div id=\"df-de3650e8-8990-4b73-82bf-47903cafd999\">\n",
              "    <div class=\"colab-df-container\">\n",
              "      <div>\n",
              "<style scoped>\n",
              "    .dataframe tbody tr th:only-of-type {\n",
              "        vertical-align: middle;\n",
              "    }\n",
              "\n",
              "    .dataframe tbody tr th {\n",
              "        vertical-align: top;\n",
              "    }\n",
              "\n",
              "    .dataframe thead th {\n",
              "        text-align: right;\n",
              "    }\n",
              "</style>\n",
              "<table border=\"1\" class=\"dataframe\">\n",
              "  <thead>\n",
              "    <tr style=\"text-align: right;\">\n",
              "      <th></th>\n",
              "      <th>city</th>\n",
              "      <th>year</th>\n",
              "      <th>weekofyear</th>\n",
              "      <th>total_cases</th>\n",
              "    </tr>\n",
              "  </thead>\n",
              "  <tbody>\n",
              "    <tr>\n",
              "      <th>0</th>\n",
              "      <td>sj</td>\n",
              "      <td>2008</td>\n",
              "      <td>18</td>\n",
              "      <td>14</td>\n",
              "    </tr>\n",
              "    <tr>\n",
              "      <th>1</th>\n",
              "      <td>sj</td>\n",
              "      <td>2008</td>\n",
              "      <td>19</td>\n",
              "      <td>12</td>\n",
              "    </tr>\n",
              "    <tr>\n",
              "      <th>2</th>\n",
              "      <td>sj</td>\n",
              "      <td>2008</td>\n",
              "      <td>20</td>\n",
              "      <td>16</td>\n",
              "    </tr>\n",
              "    <tr>\n",
              "      <th>3</th>\n",
              "      <td>sj</td>\n",
              "      <td>2008</td>\n",
              "      <td>21</td>\n",
              "      <td>12</td>\n",
              "    </tr>\n",
              "    <tr>\n",
              "      <th>4</th>\n",
              "      <td>sj</td>\n",
              "      <td>2008</td>\n",
              "      <td>22</td>\n",
              "      <td>19</td>\n",
              "    </tr>\n",
              "  </tbody>\n",
              "</table>\n",
              "</div>\n",
              "      <button class=\"colab-df-convert\" onclick=\"convertToInteractive('df-de3650e8-8990-4b73-82bf-47903cafd999')\"\n",
              "              title=\"Convert this dataframe to an interactive table.\"\n",
              "              style=\"display:none;\">\n",
              "        \n",
              "  <svg xmlns=\"http://www.w3.org/2000/svg\" height=\"24px\"viewBox=\"0 0 24 24\"\n",
              "       width=\"24px\">\n",
              "    <path d=\"M0 0h24v24H0V0z\" fill=\"none\"/>\n",
              "    <path d=\"M18.56 5.44l.94 2.06.94-2.06 2.06-.94-2.06-.94-.94-2.06-.94 2.06-2.06.94zm-11 1L8.5 8.5l.94-2.06 2.06-.94-2.06-.94L8.5 2.5l-.94 2.06-2.06.94zm10 10l.94 2.06.94-2.06 2.06-.94-2.06-.94-.94-2.06-.94 2.06-2.06.94z\"/><path d=\"M17.41 7.96l-1.37-1.37c-.4-.4-.92-.59-1.43-.59-.52 0-1.04.2-1.43.59L10.3 9.45l-7.72 7.72c-.78.78-.78 2.05 0 2.83L4 21.41c.39.39.9.59 1.41.59.51 0 1.02-.2 1.41-.59l7.78-7.78 2.81-2.81c.8-.78.8-2.07 0-2.86zM5.41 20L4 18.59l7.72-7.72 1.47 1.35L5.41 20z\"/>\n",
              "  </svg>\n",
              "      </button>\n",
              "      \n",
              "  <style>\n",
              "    .colab-df-container {\n",
              "      display:flex;\n",
              "      flex-wrap:wrap;\n",
              "      gap: 12px;\n",
              "    }\n",
              "\n",
              "    .colab-df-convert {\n",
              "      background-color: #E8F0FE;\n",
              "      border: none;\n",
              "      border-radius: 50%;\n",
              "      cursor: pointer;\n",
              "      display: none;\n",
              "      fill: #1967D2;\n",
              "      height: 32px;\n",
              "      padding: 0 0 0 0;\n",
              "      width: 32px;\n",
              "    }\n",
              "\n",
              "    .colab-df-convert:hover {\n",
              "      background-color: #E2EBFA;\n",
              "      box-shadow: 0px 1px 2px rgba(60, 64, 67, 0.3), 0px 1px 3px 1px rgba(60, 64, 67, 0.15);\n",
              "      fill: #174EA6;\n",
              "    }\n",
              "\n",
              "    [theme=dark] .colab-df-convert {\n",
              "      background-color: #3B4455;\n",
              "      fill: #D2E3FC;\n",
              "    }\n",
              "\n",
              "    [theme=dark] .colab-df-convert:hover {\n",
              "      background-color: #434B5C;\n",
              "      box-shadow: 0px 1px 3px 1px rgba(0, 0, 0, 0.15);\n",
              "      filter: drop-shadow(0px 1px 2px rgba(0, 0, 0, 0.3));\n",
              "      fill: #FFFFFF;\n",
              "    }\n",
              "  </style>\n",
              "\n",
              "      <script>\n",
              "        const buttonEl =\n",
              "          document.querySelector('#df-de3650e8-8990-4b73-82bf-47903cafd999 button.colab-df-convert');\n",
              "        buttonEl.style.display =\n",
              "          google.colab.kernel.accessAllowed ? 'block' : 'none';\n",
              "\n",
              "        async function convertToInteractive(key) {\n",
              "          const element = document.querySelector('#df-de3650e8-8990-4b73-82bf-47903cafd999');\n",
              "          const dataTable =\n",
              "            await google.colab.kernel.invokeFunction('convertToInteractive',\n",
              "                                                     [key], {});\n",
              "          if (!dataTable) return;\n",
              "\n",
              "          const docLinkHtml = 'Like what you see? Visit the ' +\n",
              "            '<a target=\"_blank\" href=https://colab.research.google.com/notebooks/data_table.ipynb>data table notebook</a>'\n",
              "            + ' to learn more about interactive tables.';\n",
              "          element.innerHTML = '';\n",
              "          dataTable['output_type'] = 'display_data';\n",
              "          await google.colab.output.renderOutput(dataTable, element);\n",
              "          const docLink = document.createElement('div');\n",
              "          docLink.innerHTML = docLinkHtml;\n",
              "          element.appendChild(docLink);\n",
              "        }\n",
              "      </script>\n",
              "    </div>\n",
              "  </div>\n",
              "  "
            ]
          },
          "metadata": {},
          "execution_count": 51
        }
      ]
    },
    {
      "cell_type": "markdown",
      "source": [
        "En esta ocasión hemos obtenido en la web un MAE de 27.4543.\n",
        "\n",
        "Por primera vez hemos superado el umbral de mejora situándonos por debajo de 28."
      ],
      "metadata": {
        "id": "oepEJLHCgHQW"
      }
    },
    {
      "cell_type": "markdown",
      "source": [
        "####Calculamos el MAE de validación"
      ],
      "metadata": {
        "id": "OvPTmYaAM3r9"
      }
    },
    {
      "cell_type": "code",
      "source": [
        "real = validation['total_cases']\n",
        "validation_kmeans_n3 = validation\n",
        "validation_kmeans_n3 = validation_kmeans_n3.drop('total_cases', axis=1)\n",
        "validation_kmeans_n3[\"etiquetas\"] = kmeans_n3.predict(validation_kmeans_n3)\n",
        "\n",
        "y_pred = regres_kmeans_n3.predict(validation_kmeans_n3)\n",
        "y = np.rint(y_pred) # round\n",
        "y = y.astype(int) # cast to int\n",
        "res = np.hstack(y)\n",
        "y_pred_no_neg = res.copy()\n",
        "y_pred_no_neg[y_pred < 0] = 0\n",
        "\n",
        "from sklearn.metrics import mean_absolute_error\n",
        "mae = mean_absolute_error(real, y_pred_no_neg)\n",
        "print('MAE de validación: ' + str(mae))\n",
        "print(\"\")"
      ],
      "metadata": {
        "colab": {
          "base_uri": "https://localhost:8080/"
        },
        "id": "FcSM0ETjMkgf",
        "outputId": "649dc434-6985-4f07-86f7-7ce4743739f6"
      },
      "execution_count": null,
      "outputs": [
        {
          "output_type": "stream",
          "name": "stdout",
          "text": [
            "MAE de validación: 18.46917808219178\n",
            "\n"
          ]
        },
        {
          "output_type": "stream",
          "name": "stderr",
          "text": [
            "/usr/local/lib/python3.9/dist-packages/sklearn/base.py:432: UserWarning: X has feature names, but KMeans was fitted without feature names\n",
            "  warnings.warn(\n"
          ]
        }
      ]
    },
    {
      "cell_type": "markdown",
      "source": [
        "El MAE de validación es de nuevo sustancialmente inferior al de la página web."
      ],
      "metadata": {
        "id": "DH1F9y9VgcCm"
      }
    },
    {
      "cell_type": "markdown",
      "source": [
        "El modelo de regresión Lineal ha resultado sin duda el mejor de los algoritmos utilizados.\n",
        "Llegados a este punto vamos a optimizar el modelo de regresión."
      ],
      "metadata": {
        "id": "M8DYi9ABgcOF"
      }
    },
    {
      "cell_type": "markdown",
      "source": [
        "##Optimización del modelo"
      ],
      "metadata": {
        "id": "mvPwSSKOcyGE"
      }
    },
    {
      "cell_type": "markdown",
      "source": [
        "Tomando el modelo de regresión como el mejor hasta el momento una de las cosas que podemos hacer es cambiar el parámetro de número de clusters de k-means a 2, de manera que cambiamos una de las características del mdoelo y obtenemos un modelo nuevo:"
      ],
      "metadata": {
        "id": "X3gM5nCti6IC"
      }
    },
    {
      "cell_type": "code",
      "metadata": {
        "id": "SeFitaCqEJGS",
        "colab": {
          "base_uri": "https://localhost:8080/",
          "height": 75
        },
        "outputId": "f9f1ba1d-e808-454b-81f8-1b71c9111cf0"
      },
      "source": [
        "X_train = train_kmeans_n2\n",
        "X_train = X_train.drop(\"total_cases\", axis=1)\n",
        "Y_train = train_kmeans_n3[\"total_cases\"]\n",
        "\n",
        "from sklearn import linear_model\n",
        "regres_kmeans_n2 = linear_model.LinearRegression()\n",
        "regres_kmeans_n2.fit(X_train, Y_train)"
      ],
      "execution_count": null,
      "outputs": [
        {
          "output_type": "execute_result",
          "data": {
            "text/plain": [
              "LinearRegression()"
            ],
            "text/html": [
              "<style>#sk-container-id-5 {color: black;background-color: white;}#sk-container-id-5 pre{padding: 0;}#sk-container-id-5 div.sk-toggleable {background-color: white;}#sk-container-id-5 label.sk-toggleable__label {cursor: pointer;display: block;width: 100%;margin-bottom: 0;padding: 0.3em;box-sizing: border-box;text-align: center;}#sk-container-id-5 label.sk-toggleable__label-arrow:before {content: \"▸\";float: left;margin-right: 0.25em;color: #696969;}#sk-container-id-5 label.sk-toggleable__label-arrow:hover:before {color: black;}#sk-container-id-5 div.sk-estimator:hover label.sk-toggleable__label-arrow:before {color: black;}#sk-container-id-5 div.sk-toggleable__content {max-height: 0;max-width: 0;overflow: hidden;text-align: left;background-color: #f0f8ff;}#sk-container-id-5 div.sk-toggleable__content pre {margin: 0.2em;color: black;border-radius: 0.25em;background-color: #f0f8ff;}#sk-container-id-5 input.sk-toggleable__control:checked~div.sk-toggleable__content {max-height: 200px;max-width: 100%;overflow: auto;}#sk-container-id-5 input.sk-toggleable__control:checked~label.sk-toggleable__label-arrow:before {content: \"▾\";}#sk-container-id-5 div.sk-estimator input.sk-toggleable__control:checked~label.sk-toggleable__label {background-color: #d4ebff;}#sk-container-id-5 div.sk-label input.sk-toggleable__control:checked~label.sk-toggleable__label {background-color: #d4ebff;}#sk-container-id-5 input.sk-hidden--visually {border: 0;clip: rect(1px 1px 1px 1px);clip: rect(1px, 1px, 1px, 1px);height: 1px;margin: -1px;overflow: hidden;padding: 0;position: absolute;width: 1px;}#sk-container-id-5 div.sk-estimator {font-family: monospace;background-color: #f0f8ff;border: 1px dotted black;border-radius: 0.25em;box-sizing: border-box;margin-bottom: 0.5em;}#sk-container-id-5 div.sk-estimator:hover {background-color: #d4ebff;}#sk-container-id-5 div.sk-parallel-item::after {content: \"\";width: 100%;border-bottom: 1px solid gray;flex-grow: 1;}#sk-container-id-5 div.sk-label:hover label.sk-toggleable__label {background-color: #d4ebff;}#sk-container-id-5 div.sk-serial::before {content: \"\";position: absolute;border-left: 1px solid gray;box-sizing: border-box;top: 0;bottom: 0;left: 50%;z-index: 0;}#sk-container-id-5 div.sk-serial {display: flex;flex-direction: column;align-items: center;background-color: white;padding-right: 0.2em;padding-left: 0.2em;position: relative;}#sk-container-id-5 div.sk-item {position: relative;z-index: 1;}#sk-container-id-5 div.sk-parallel {display: flex;align-items: stretch;justify-content: center;background-color: white;position: relative;}#sk-container-id-5 div.sk-item::before, #sk-container-id-5 div.sk-parallel-item::before {content: \"\";position: absolute;border-left: 1px solid gray;box-sizing: border-box;top: 0;bottom: 0;left: 50%;z-index: -1;}#sk-container-id-5 div.sk-parallel-item {display: flex;flex-direction: column;z-index: 1;position: relative;background-color: white;}#sk-container-id-5 div.sk-parallel-item:first-child::after {align-self: flex-end;width: 50%;}#sk-container-id-5 div.sk-parallel-item:last-child::after {align-self: flex-start;width: 50%;}#sk-container-id-5 div.sk-parallel-item:only-child::after {width: 0;}#sk-container-id-5 div.sk-dashed-wrapped {border: 1px dashed gray;margin: 0 0.4em 0.5em 0.4em;box-sizing: border-box;padding-bottom: 0.4em;background-color: white;}#sk-container-id-5 div.sk-label label {font-family: monospace;font-weight: bold;display: inline-block;line-height: 1.2em;}#sk-container-id-5 div.sk-label-container {text-align: center;}#sk-container-id-5 div.sk-container {/* jupyter's `normalize.less` sets `[hidden] { display: none; }` but bootstrap.min.css set `[hidden] { display: none !important; }` so we also need the `!important` here to be able to override the default hidden behavior on the sphinx rendered scikit-learn.org. See: https://github.com/scikit-learn/scikit-learn/issues/21755 */display: inline-block !important;position: relative;}#sk-container-id-5 div.sk-text-repr-fallback {display: none;}</style><div id=\"sk-container-id-5\" class=\"sk-top-container\"><div class=\"sk-text-repr-fallback\"><pre>LinearRegression()</pre><b>In a Jupyter environment, please rerun this cell to show the HTML representation or trust the notebook. <br />On GitHub, the HTML representation is unable to render, please try loading this page with nbviewer.org.</b></div><div class=\"sk-container\" hidden><div class=\"sk-item\"><div class=\"sk-estimator sk-toggleable\"><input class=\"sk-toggleable__control sk-hidden--visually\" id=\"sk-estimator-id-5\" type=\"checkbox\" checked><label for=\"sk-estimator-id-5\" class=\"sk-toggleable__label sk-toggleable__label-arrow\">LinearRegression</label><div class=\"sk-toggleable__content\"><pre>LinearRegression()</pre></div></div></div></div></div>"
            ]
          },
          "metadata": {},
          "execution_count": 53
        }
      ]
    },
    {
      "cell_type": "markdown",
      "source": [
        "Podemos hacer lo mismo aprovechando los clusters generados por DBSCAN en el análisis de agrupamiento por densidad y generar otro modelo:"
      ],
      "metadata": {
        "id": "fBbVNUBijOuN"
      }
    },
    {
      "cell_type": "code",
      "source": [
        "X_train = train_dbscan\n",
        "X_train = X_train.drop(\"total_cases\", axis=1)\n",
        "Y_train = train_dbscan[\"total_cases\"]\n",
        "\n",
        "from sklearn import linear_model\n",
        "regres_dbscan = linear_model.LinearRegression()\n",
        "regres_dbscan.fit(X_train, Y_train)"
      ],
      "metadata": {
        "colab": {
          "base_uri": "https://localhost:8080/",
          "height": 75
        },
        "id": "l5oYUrOT1W4z",
        "outputId": "a0e32827-d50c-4210-823e-8298045ad6fb"
      },
      "execution_count": null,
      "outputs": [
        {
          "output_type": "execute_result",
          "data": {
            "text/plain": [
              "LinearRegression()"
            ],
            "text/html": [
              "<style>#sk-container-id-6 {color: black;background-color: white;}#sk-container-id-6 pre{padding: 0;}#sk-container-id-6 div.sk-toggleable {background-color: white;}#sk-container-id-6 label.sk-toggleable__label {cursor: pointer;display: block;width: 100%;margin-bottom: 0;padding: 0.3em;box-sizing: border-box;text-align: center;}#sk-container-id-6 label.sk-toggleable__label-arrow:before {content: \"▸\";float: left;margin-right: 0.25em;color: #696969;}#sk-container-id-6 label.sk-toggleable__label-arrow:hover:before {color: black;}#sk-container-id-6 div.sk-estimator:hover label.sk-toggleable__label-arrow:before {color: black;}#sk-container-id-6 div.sk-toggleable__content {max-height: 0;max-width: 0;overflow: hidden;text-align: left;background-color: #f0f8ff;}#sk-container-id-6 div.sk-toggleable__content pre {margin: 0.2em;color: black;border-radius: 0.25em;background-color: #f0f8ff;}#sk-container-id-6 input.sk-toggleable__control:checked~div.sk-toggleable__content {max-height: 200px;max-width: 100%;overflow: auto;}#sk-container-id-6 input.sk-toggleable__control:checked~label.sk-toggleable__label-arrow:before {content: \"▾\";}#sk-container-id-6 div.sk-estimator input.sk-toggleable__control:checked~label.sk-toggleable__label {background-color: #d4ebff;}#sk-container-id-6 div.sk-label input.sk-toggleable__control:checked~label.sk-toggleable__label {background-color: #d4ebff;}#sk-container-id-6 input.sk-hidden--visually {border: 0;clip: rect(1px 1px 1px 1px);clip: rect(1px, 1px, 1px, 1px);height: 1px;margin: -1px;overflow: hidden;padding: 0;position: absolute;width: 1px;}#sk-container-id-6 div.sk-estimator {font-family: monospace;background-color: #f0f8ff;border: 1px dotted black;border-radius: 0.25em;box-sizing: border-box;margin-bottom: 0.5em;}#sk-container-id-6 div.sk-estimator:hover {background-color: #d4ebff;}#sk-container-id-6 div.sk-parallel-item::after {content: \"\";width: 100%;border-bottom: 1px solid gray;flex-grow: 1;}#sk-container-id-6 div.sk-label:hover label.sk-toggleable__label {background-color: #d4ebff;}#sk-container-id-6 div.sk-serial::before {content: \"\";position: absolute;border-left: 1px solid gray;box-sizing: border-box;top: 0;bottom: 0;left: 50%;z-index: 0;}#sk-container-id-6 div.sk-serial {display: flex;flex-direction: column;align-items: center;background-color: white;padding-right: 0.2em;padding-left: 0.2em;position: relative;}#sk-container-id-6 div.sk-item {position: relative;z-index: 1;}#sk-container-id-6 div.sk-parallel {display: flex;align-items: stretch;justify-content: center;background-color: white;position: relative;}#sk-container-id-6 div.sk-item::before, #sk-container-id-6 div.sk-parallel-item::before {content: \"\";position: absolute;border-left: 1px solid gray;box-sizing: border-box;top: 0;bottom: 0;left: 50%;z-index: -1;}#sk-container-id-6 div.sk-parallel-item {display: flex;flex-direction: column;z-index: 1;position: relative;background-color: white;}#sk-container-id-6 div.sk-parallel-item:first-child::after {align-self: flex-end;width: 50%;}#sk-container-id-6 div.sk-parallel-item:last-child::after {align-self: flex-start;width: 50%;}#sk-container-id-6 div.sk-parallel-item:only-child::after {width: 0;}#sk-container-id-6 div.sk-dashed-wrapped {border: 1px dashed gray;margin: 0 0.4em 0.5em 0.4em;box-sizing: border-box;padding-bottom: 0.4em;background-color: white;}#sk-container-id-6 div.sk-label label {font-family: monospace;font-weight: bold;display: inline-block;line-height: 1.2em;}#sk-container-id-6 div.sk-label-container {text-align: center;}#sk-container-id-6 div.sk-container {/* jupyter's `normalize.less` sets `[hidden] { display: none; }` but bootstrap.min.css set `[hidden] { display: none !important; }` so we also need the `!important` here to be able to override the default hidden behavior on the sphinx rendered scikit-learn.org. See: https://github.com/scikit-learn/scikit-learn/issues/21755 */display: inline-block !important;position: relative;}#sk-container-id-6 div.sk-text-repr-fallback {display: none;}</style><div id=\"sk-container-id-6\" class=\"sk-top-container\"><div class=\"sk-text-repr-fallback\"><pre>LinearRegression()</pre><b>In a Jupyter environment, please rerun this cell to show the HTML representation or trust the notebook. <br />On GitHub, the HTML representation is unable to render, please try loading this page with nbviewer.org.</b></div><div class=\"sk-container\" hidden><div class=\"sk-item\"><div class=\"sk-estimator sk-toggleable\"><input class=\"sk-toggleable__control sk-hidden--visually\" id=\"sk-estimator-id-6\" type=\"checkbox\" checked><label for=\"sk-estimator-id-6\" class=\"sk-toggleable__label sk-toggleable__label-arrow\">LinearRegression</label><div class=\"sk-toggleable__content\"><pre>LinearRegression()</pre></div></div></div></div></div>"
            ]
          },
          "metadata": {},
          "execution_count": 54
        }
      ]
    },
    {
      "cell_type": "markdown",
      "source": [
        "###kmeans n = 2"
      ],
      "metadata": {
        "id": "3ZDC4nIAHkba"
      }
    },
    {
      "cell_type": "code",
      "metadata": {
        "colab": {
          "base_uri": "https://localhost:8080/"
        },
        "outputId": "ee2a57c9-2ec6-4e62-fe81-471e4c2f9de1",
        "id": "7CRI4EwiHo7P"
      },
      "source": [
        "X_test = test\n",
        "X_test = X_test.drop('etiquetas', axis=1)\n",
        "X_test[\"etiquetas\"] = kmeans_n2.predict(X_test)\n",
        "y_pred = regres_kmeans_n2.predict(X_test)"
      ],
      "execution_count": null,
      "outputs": [
        {
          "output_type": "stream",
          "name": "stderr",
          "text": [
            "/usr/local/lib/python3.9/dist-packages/sklearn/base.py:432: UserWarning: X has feature names, but KMeans was fitted without feature names\n",
            "  warnings.warn(\n"
          ]
        }
      ]
    },
    {
      "cell_type": "markdown",
      "metadata": {
        "id": "ju3VOnyNHo7Q"
      },
      "source": [
        "* Redondeamos el resultado"
      ]
    },
    {
      "cell_type": "code",
      "metadata": {
        "id": "s5XVnULvHo7Q"
      },
      "source": [
        "# round the result and cast to int\n",
        "import numpy as np\n",
        "y = np.rint(y_pred) # round\n",
        "y = y.astype(int) # cast to int\n",
        "res = np.hstack(y)"
      ],
      "execution_count": null,
      "outputs": []
    },
    {
      "cell_type": "code",
      "metadata": {
        "id": "FjjV5U1tHo7Q"
      },
      "source": [
        "y_pred_no_neg = res.copy()"
      ],
      "execution_count": null,
      "outputs": []
    },
    {
      "cell_type": "code",
      "metadata": {
        "id": "TplDKjUlHo7Q"
      },
      "source": [
        "y_pred_no_neg[y_pred < 0] = 0"
      ],
      "execution_count": null,
      "outputs": []
    },
    {
      "cell_type": "markdown",
      "metadata": {
        "id": "NqiWtFm6ImA9"
      },
      "source": [
        "* Generamos el fichero de salida"
      ]
    },
    {
      "cell_type": "code",
      "metadata": {
        "id": "b4tSsUpDDNbJ",
        "colab": {
          "base_uri": "https://localhost:8080/",
          "height": 206
        },
        "outputId": "7e962ca2-982d-4833-87a8-ee43bfb3c76f"
      },
      "source": [
        "#Generar output\n",
        "output = pd.DataFrame({ 'city': test['city_bin'], 'year': test['year'], 'weekofyear': test['weekofyear'],\n",
        "                       'total_cases': y_pred_no_neg})\n",
        "\n",
        "output['city'] = output['city'].replace({0: 'iq', 1: 'sj'})\n",
        "\n",
        "\n",
        "from google.colab import files\n",
        "\n",
        "with open('kmeans_n2.csv', 'w') as f:\n",
        "  output.to_csv(f,  index = False)\n",
        "\n",
        "\n",
        "files.download('kmeans_n2.csv')\n",
        "\n",
        "output.head()"
      ],
      "execution_count": null,
      "outputs": [
        {
          "output_type": "display_data",
          "data": {
            "text/plain": [
              "<IPython.core.display.Javascript object>"
            ],
            "application/javascript": [
              "\n",
              "    async function download(id, filename, size) {\n",
              "      if (!google.colab.kernel.accessAllowed) {\n",
              "        return;\n",
              "      }\n",
              "      const div = document.createElement('div');\n",
              "      const label = document.createElement('label');\n",
              "      label.textContent = `Downloading \"${filename}\": `;\n",
              "      div.appendChild(label);\n",
              "      const progress = document.createElement('progress');\n",
              "      progress.max = size;\n",
              "      div.appendChild(progress);\n",
              "      document.body.appendChild(div);\n",
              "\n",
              "      const buffers = [];\n",
              "      let downloaded = 0;\n",
              "\n",
              "      const channel = await google.colab.kernel.comms.open(id);\n",
              "      // Send a message to notify the kernel that we're ready.\n",
              "      channel.send({})\n",
              "\n",
              "      for await (const message of channel.messages) {\n",
              "        // Send a message to notify the kernel that we're ready.\n",
              "        channel.send({})\n",
              "        if (message.buffers) {\n",
              "          for (const buffer of message.buffers) {\n",
              "            buffers.push(buffer);\n",
              "            downloaded += buffer.byteLength;\n",
              "            progress.value = downloaded;\n",
              "          }\n",
              "        }\n",
              "      }\n",
              "      const blob = new Blob(buffers, {type: 'application/binary'});\n",
              "      const a = document.createElement('a');\n",
              "      a.href = window.URL.createObjectURL(blob);\n",
              "      a.download = filename;\n",
              "      div.appendChild(a);\n",
              "      a.click();\n",
              "      div.remove();\n",
              "    }\n",
              "  "
            ]
          },
          "metadata": {}
        },
        {
          "output_type": "display_data",
          "data": {
            "text/plain": [
              "<IPython.core.display.Javascript object>"
            ],
            "application/javascript": [
              "download(\"download_3536e715-fe55-428a-9712-a2b23a4a8619\", \"kmeans_n2.csv\", 5568)"
            ]
          },
          "metadata": {}
        },
        {
          "output_type": "execute_result",
          "data": {
            "text/plain": [
              "  city  year  weekofyear  total_cases\n",
              "0   sj  2008          18           16\n",
              "1   sj  2008          19           13\n",
              "2   sj  2008          20           17\n",
              "3   sj  2008          21           14\n",
              "4   sj  2008          22           21"
            ],
            "text/html": [
              "\n",
              "  <div id=\"df-e7539965-5543-4af8-99ba-edcae84b3b7b\">\n",
              "    <div class=\"colab-df-container\">\n",
              "      <div>\n",
              "<style scoped>\n",
              "    .dataframe tbody tr th:only-of-type {\n",
              "        vertical-align: middle;\n",
              "    }\n",
              "\n",
              "    .dataframe tbody tr th {\n",
              "        vertical-align: top;\n",
              "    }\n",
              "\n",
              "    .dataframe thead th {\n",
              "        text-align: right;\n",
              "    }\n",
              "</style>\n",
              "<table border=\"1\" class=\"dataframe\">\n",
              "  <thead>\n",
              "    <tr style=\"text-align: right;\">\n",
              "      <th></th>\n",
              "      <th>city</th>\n",
              "      <th>year</th>\n",
              "      <th>weekofyear</th>\n",
              "      <th>total_cases</th>\n",
              "    </tr>\n",
              "  </thead>\n",
              "  <tbody>\n",
              "    <tr>\n",
              "      <th>0</th>\n",
              "      <td>sj</td>\n",
              "      <td>2008</td>\n",
              "      <td>18</td>\n",
              "      <td>16</td>\n",
              "    </tr>\n",
              "    <tr>\n",
              "      <th>1</th>\n",
              "      <td>sj</td>\n",
              "      <td>2008</td>\n",
              "      <td>19</td>\n",
              "      <td>13</td>\n",
              "    </tr>\n",
              "    <tr>\n",
              "      <th>2</th>\n",
              "      <td>sj</td>\n",
              "      <td>2008</td>\n",
              "      <td>20</td>\n",
              "      <td>17</td>\n",
              "    </tr>\n",
              "    <tr>\n",
              "      <th>3</th>\n",
              "      <td>sj</td>\n",
              "      <td>2008</td>\n",
              "      <td>21</td>\n",
              "      <td>14</td>\n",
              "    </tr>\n",
              "    <tr>\n",
              "      <th>4</th>\n",
              "      <td>sj</td>\n",
              "      <td>2008</td>\n",
              "      <td>22</td>\n",
              "      <td>21</td>\n",
              "    </tr>\n",
              "  </tbody>\n",
              "</table>\n",
              "</div>\n",
              "      <button class=\"colab-df-convert\" onclick=\"convertToInteractive('df-e7539965-5543-4af8-99ba-edcae84b3b7b')\"\n",
              "              title=\"Convert this dataframe to an interactive table.\"\n",
              "              style=\"display:none;\">\n",
              "        \n",
              "  <svg xmlns=\"http://www.w3.org/2000/svg\" height=\"24px\"viewBox=\"0 0 24 24\"\n",
              "       width=\"24px\">\n",
              "    <path d=\"M0 0h24v24H0V0z\" fill=\"none\"/>\n",
              "    <path d=\"M18.56 5.44l.94 2.06.94-2.06 2.06-.94-2.06-.94-.94-2.06-.94 2.06-2.06.94zm-11 1L8.5 8.5l.94-2.06 2.06-.94-2.06-.94L8.5 2.5l-.94 2.06-2.06.94zm10 10l.94 2.06.94-2.06 2.06-.94-2.06-.94-.94-2.06-.94 2.06-2.06.94z\"/><path d=\"M17.41 7.96l-1.37-1.37c-.4-.4-.92-.59-1.43-.59-.52 0-1.04.2-1.43.59L10.3 9.45l-7.72 7.72c-.78.78-.78 2.05 0 2.83L4 21.41c.39.39.9.59 1.41.59.51 0 1.02-.2 1.41-.59l7.78-7.78 2.81-2.81c.8-.78.8-2.07 0-2.86zM5.41 20L4 18.59l7.72-7.72 1.47 1.35L5.41 20z\"/>\n",
              "  </svg>\n",
              "      </button>\n",
              "      \n",
              "  <style>\n",
              "    .colab-df-container {\n",
              "      display:flex;\n",
              "      flex-wrap:wrap;\n",
              "      gap: 12px;\n",
              "    }\n",
              "\n",
              "    .colab-df-convert {\n",
              "      background-color: #E8F0FE;\n",
              "      border: none;\n",
              "      border-radius: 50%;\n",
              "      cursor: pointer;\n",
              "      display: none;\n",
              "      fill: #1967D2;\n",
              "      height: 32px;\n",
              "      padding: 0 0 0 0;\n",
              "      width: 32px;\n",
              "    }\n",
              "\n",
              "    .colab-df-convert:hover {\n",
              "      background-color: #E2EBFA;\n",
              "      box-shadow: 0px 1px 2px rgba(60, 64, 67, 0.3), 0px 1px 3px 1px rgba(60, 64, 67, 0.15);\n",
              "      fill: #174EA6;\n",
              "    }\n",
              "\n",
              "    [theme=dark] .colab-df-convert {\n",
              "      background-color: #3B4455;\n",
              "      fill: #D2E3FC;\n",
              "    }\n",
              "\n",
              "    [theme=dark] .colab-df-convert:hover {\n",
              "      background-color: #434B5C;\n",
              "      box-shadow: 0px 1px 3px 1px rgba(0, 0, 0, 0.15);\n",
              "      filter: drop-shadow(0px 1px 2px rgba(0, 0, 0, 0.3));\n",
              "      fill: #FFFFFF;\n",
              "    }\n",
              "  </style>\n",
              "\n",
              "      <script>\n",
              "        const buttonEl =\n",
              "          document.querySelector('#df-e7539965-5543-4af8-99ba-edcae84b3b7b button.colab-df-convert');\n",
              "        buttonEl.style.display =\n",
              "          google.colab.kernel.accessAllowed ? 'block' : 'none';\n",
              "\n",
              "        async function convertToInteractive(key) {\n",
              "          const element = document.querySelector('#df-e7539965-5543-4af8-99ba-edcae84b3b7b');\n",
              "          const dataTable =\n",
              "            await google.colab.kernel.invokeFunction('convertToInteractive',\n",
              "                                                     [key], {});\n",
              "          if (!dataTable) return;\n",
              "\n",
              "          const docLinkHtml = 'Like what you see? Visit the ' +\n",
              "            '<a target=\"_blank\" href=https://colab.research.google.com/notebooks/data_table.ipynb>data table notebook</a>'\n",
              "            + ' to learn more about interactive tables.';\n",
              "          element.innerHTML = '';\n",
              "          dataTable['output_type'] = 'display_data';\n",
              "          await google.colab.output.renderOutput(dataTable, element);\n",
              "          const docLink = document.createElement('div');\n",
              "          docLink.innerHTML = docLinkHtml;\n",
              "          element.appendChild(docLink);\n",
              "        }\n",
              "      </script>\n",
              "    </div>\n",
              "  </div>\n",
              "  "
            ]
          },
          "metadata": {},
          "execution_count": 59
        }
      ]
    },
    {
      "cell_type": "markdown",
      "source": [
        "En esta ocasión se obtiene de la web de la competición un MAE de 29.5697.\n",
        "\n",
        "No se ha conseguido mejorar el resultado mediante este cambio."
      ],
      "metadata": {
        "id": "Wtopcg6GjvD7"
      }
    },
    {
      "cell_type": "markdown",
      "source": [
        "####Calculamos el MAE de validación"
      ],
      "metadata": {
        "id": "FgbifrdG8zyb"
      }
    },
    {
      "cell_type": "code",
      "source": [
        "real = validation['total_cases']\n",
        "validation_kmeans_n2 = validation\n",
        "validation_kmeans_n2 = validation_kmeans_n2.drop('total_cases', axis=1)\n",
        "validation_kmeans_n2[\"etiquetas\"] = kmeans_n2.predict(validation_kmeans_n2)\n",
        "\n",
        "y_pred = regres_kmeans_n2.predict(validation_kmeans_n2)\n",
        "y = np.rint(y_pred) # round\n",
        "y = y.astype(int) # cast to int\n",
        "res = np.hstack(y)\n",
        "y_pred_no_neg = res.copy()\n",
        "y_pred_no_neg[y_pred < 0] = 0\n",
        "\n",
        "from sklearn.metrics import mean_absolute_error\n",
        "mae = mean_absolute_error(real, y_pred_no_neg)\n",
        "print('MAE de validación: ' + str(mae))\n",
        "print(\"\")"
      ],
      "metadata": {
        "colab": {
          "base_uri": "https://localhost:8080/"
        },
        "id": "V5rI47Up8s49",
        "outputId": "80d4c841-0512-405d-fd61-417796284e36"
      },
      "execution_count": null,
      "outputs": [
        {
          "output_type": "stream",
          "name": "stdout",
          "text": [
            "MAE de validación: 19.17808219178082\n",
            "\n"
          ]
        },
        {
          "output_type": "stream",
          "name": "stderr",
          "text": [
            "/usr/local/lib/python3.9/dist-packages/sklearn/base.py:432: UserWarning: X has feature names, but KMeans was fitted without feature names\n",
            "  warnings.warn(\n"
          ]
        }
      ]
    },
    {
      "cell_type": "markdown",
      "source": [
        "También se empeora el resultado respecto a la versión con 3 clusters."
      ],
      "metadata": {
        "id": "TCtSsXqJj5eH"
      }
    },
    {
      "cell_type": "markdown",
      "source": [
        "###DBSCAN"
      ],
      "metadata": {
        "id": "RLqIUxt63Hv-"
      }
    },
    {
      "cell_type": "code",
      "metadata": {
        "id": "fVZhj0nJ3Hv_"
      },
      "source": [
        "X_test = test\n",
        "X_test = X_test.drop('etiquetas', axis=1)\n",
        "\n",
        "components = PCA.fit_transform(X_test)\n",
        "\n",
        "X_test[\"etiquetas\"] = dbscan.fit_predict(components)\n",
        "y_pred = regres_dbscan.predict(X_test)"
      ],
      "execution_count": null,
      "outputs": []
    },
    {
      "cell_type": "markdown",
      "metadata": {
        "id": "cWyk47JZ3Hv_"
      },
      "source": [
        "* Redondeamos el resultado"
      ]
    },
    {
      "cell_type": "code",
      "metadata": {
        "id": "msPixpjc3Hv_"
      },
      "source": [
        "# round the result and cast to int\n",
        "import numpy as np\n",
        "y = np.rint(y_pred) # round\n",
        "y = y.astype(int) # cast to int\n",
        "res = np.hstack(y)"
      ],
      "execution_count": null,
      "outputs": []
    },
    {
      "cell_type": "code",
      "metadata": {
        "id": "6hHfNop63Hv_"
      },
      "source": [
        "y_pred_no_neg = res.copy()"
      ],
      "execution_count": null,
      "outputs": []
    },
    {
      "cell_type": "code",
      "metadata": {
        "id": "QEMszmaa3Hv_"
      },
      "source": [
        "y_pred_no_neg[y_pred < 0] = 0"
      ],
      "execution_count": null,
      "outputs": []
    },
    {
      "cell_type": "markdown",
      "metadata": {
        "id": "QAd8ABAV3Hv_"
      },
      "source": [
        "* Generamos el fichero de salida"
      ]
    },
    {
      "cell_type": "code",
      "metadata": {
        "colab": {
          "base_uri": "https://localhost:8080/",
          "height": 206
        },
        "outputId": "0d44c514-7703-4991-f474-72379955bcaa",
        "id": "de6r0FuR3Hv_"
      },
      "source": [
        "#Generar output\n",
        "output = pd.DataFrame({ 'city': test['city_bin'], 'year': test['year'], 'weekofyear': test['weekofyear'],\n",
        "                       'total_cases': y_pred_no_neg})\n",
        "\n",
        "output['city'] = output['city'].replace({0: 'iq', 1: 'sj'})\n",
        "\n",
        "\n",
        "from google.colab import files\n",
        "\n",
        "with open('dbscan.csv', 'w') as f:\n",
        "  output.to_csv(f,  index = False)\n",
        "\n",
        "\n",
        "files.download('dbscan.csv')\n",
        "\n",
        "output.head()"
      ],
      "execution_count": null,
      "outputs": [
        {
          "output_type": "display_data",
          "data": {
            "text/plain": [
              "<IPython.core.display.Javascript object>"
            ],
            "application/javascript": [
              "\n",
              "    async function download(id, filename, size) {\n",
              "      if (!google.colab.kernel.accessAllowed) {\n",
              "        return;\n",
              "      }\n",
              "      const div = document.createElement('div');\n",
              "      const label = document.createElement('label');\n",
              "      label.textContent = `Downloading \"${filename}\": `;\n",
              "      div.appendChild(label);\n",
              "      const progress = document.createElement('progress');\n",
              "      progress.max = size;\n",
              "      div.appendChild(progress);\n",
              "      document.body.appendChild(div);\n",
              "\n",
              "      const buffers = [];\n",
              "      let downloaded = 0;\n",
              "\n",
              "      const channel = await google.colab.kernel.comms.open(id);\n",
              "      // Send a message to notify the kernel that we're ready.\n",
              "      channel.send({})\n",
              "\n",
              "      for await (const message of channel.messages) {\n",
              "        // Send a message to notify the kernel that we're ready.\n",
              "        channel.send({})\n",
              "        if (message.buffers) {\n",
              "          for (const buffer of message.buffers) {\n",
              "            buffers.push(buffer);\n",
              "            downloaded += buffer.byteLength;\n",
              "            progress.value = downloaded;\n",
              "          }\n",
              "        }\n",
              "      }\n",
              "      const blob = new Blob(buffers, {type: 'application/binary'});\n",
              "      const a = document.createElement('a');\n",
              "      a.href = window.URL.createObjectURL(blob);\n",
              "      a.download = filename;\n",
              "      div.appendChild(a);\n",
              "      a.click();\n",
              "      div.remove();\n",
              "    }\n",
              "  "
            ]
          },
          "metadata": {}
        },
        {
          "output_type": "display_data",
          "data": {
            "text/plain": [
              "<IPython.core.display.Javascript object>"
            ],
            "application/javascript": [
              "download(\"download_3bb15ff6-76ae-4687-b784-2890f3df928a\", \"dbscan.csv\", 5548)"
            ]
          },
          "metadata": {}
        },
        {
          "output_type": "execute_result",
          "data": {
            "text/plain": [
              "  city  year  weekofyear  total_cases\n",
              "0   sj  2008          18           12\n",
              "1   sj  2008          19           10\n",
              "2   sj  2008          20           14\n",
              "3   sj  2008          21           10\n",
              "4   sj  2008          22           17"
            ],
            "text/html": [
              "\n",
              "  <div id=\"df-b726c52f-944b-4ea3-aa7a-b224b398d27e\">\n",
              "    <div class=\"colab-df-container\">\n",
              "      <div>\n",
              "<style scoped>\n",
              "    .dataframe tbody tr th:only-of-type {\n",
              "        vertical-align: middle;\n",
              "    }\n",
              "\n",
              "    .dataframe tbody tr th {\n",
              "        vertical-align: top;\n",
              "    }\n",
              "\n",
              "    .dataframe thead th {\n",
              "        text-align: right;\n",
              "    }\n",
              "</style>\n",
              "<table border=\"1\" class=\"dataframe\">\n",
              "  <thead>\n",
              "    <tr style=\"text-align: right;\">\n",
              "      <th></th>\n",
              "      <th>city</th>\n",
              "      <th>year</th>\n",
              "      <th>weekofyear</th>\n",
              "      <th>total_cases</th>\n",
              "    </tr>\n",
              "  </thead>\n",
              "  <tbody>\n",
              "    <tr>\n",
              "      <th>0</th>\n",
              "      <td>sj</td>\n",
              "      <td>2008</td>\n",
              "      <td>18</td>\n",
              "      <td>12</td>\n",
              "    </tr>\n",
              "    <tr>\n",
              "      <th>1</th>\n",
              "      <td>sj</td>\n",
              "      <td>2008</td>\n",
              "      <td>19</td>\n",
              "      <td>10</td>\n",
              "    </tr>\n",
              "    <tr>\n",
              "      <th>2</th>\n",
              "      <td>sj</td>\n",
              "      <td>2008</td>\n",
              "      <td>20</td>\n",
              "      <td>14</td>\n",
              "    </tr>\n",
              "    <tr>\n",
              "      <th>3</th>\n",
              "      <td>sj</td>\n",
              "      <td>2008</td>\n",
              "      <td>21</td>\n",
              "      <td>10</td>\n",
              "    </tr>\n",
              "    <tr>\n",
              "      <th>4</th>\n",
              "      <td>sj</td>\n",
              "      <td>2008</td>\n",
              "      <td>22</td>\n",
              "      <td>17</td>\n",
              "    </tr>\n",
              "  </tbody>\n",
              "</table>\n",
              "</div>\n",
              "      <button class=\"colab-df-convert\" onclick=\"convertToInteractive('df-b726c52f-944b-4ea3-aa7a-b224b398d27e')\"\n",
              "              title=\"Convert this dataframe to an interactive table.\"\n",
              "              style=\"display:none;\">\n",
              "        \n",
              "  <svg xmlns=\"http://www.w3.org/2000/svg\" height=\"24px\"viewBox=\"0 0 24 24\"\n",
              "       width=\"24px\">\n",
              "    <path d=\"M0 0h24v24H0V0z\" fill=\"none\"/>\n",
              "    <path d=\"M18.56 5.44l.94 2.06.94-2.06 2.06-.94-2.06-.94-.94-2.06-.94 2.06-2.06.94zm-11 1L8.5 8.5l.94-2.06 2.06-.94-2.06-.94L8.5 2.5l-.94 2.06-2.06.94zm10 10l.94 2.06.94-2.06 2.06-.94-2.06-.94-.94-2.06-.94 2.06-2.06.94z\"/><path d=\"M17.41 7.96l-1.37-1.37c-.4-.4-.92-.59-1.43-.59-.52 0-1.04.2-1.43.59L10.3 9.45l-7.72 7.72c-.78.78-.78 2.05 0 2.83L4 21.41c.39.39.9.59 1.41.59.51 0 1.02-.2 1.41-.59l7.78-7.78 2.81-2.81c.8-.78.8-2.07 0-2.86zM5.41 20L4 18.59l7.72-7.72 1.47 1.35L5.41 20z\"/>\n",
              "  </svg>\n",
              "      </button>\n",
              "      \n",
              "  <style>\n",
              "    .colab-df-container {\n",
              "      display:flex;\n",
              "      flex-wrap:wrap;\n",
              "      gap: 12px;\n",
              "    }\n",
              "\n",
              "    .colab-df-convert {\n",
              "      background-color: #E8F0FE;\n",
              "      border: none;\n",
              "      border-radius: 50%;\n",
              "      cursor: pointer;\n",
              "      display: none;\n",
              "      fill: #1967D2;\n",
              "      height: 32px;\n",
              "      padding: 0 0 0 0;\n",
              "      width: 32px;\n",
              "    }\n",
              "\n",
              "    .colab-df-convert:hover {\n",
              "      background-color: #E2EBFA;\n",
              "      box-shadow: 0px 1px 2px rgba(60, 64, 67, 0.3), 0px 1px 3px 1px rgba(60, 64, 67, 0.15);\n",
              "      fill: #174EA6;\n",
              "    }\n",
              "\n",
              "    [theme=dark] .colab-df-convert {\n",
              "      background-color: #3B4455;\n",
              "      fill: #D2E3FC;\n",
              "    }\n",
              "\n",
              "    [theme=dark] .colab-df-convert:hover {\n",
              "      background-color: #434B5C;\n",
              "      box-shadow: 0px 1px 3px 1px rgba(0, 0, 0, 0.15);\n",
              "      filter: drop-shadow(0px 1px 2px rgba(0, 0, 0, 0.3));\n",
              "      fill: #FFFFFF;\n",
              "    }\n",
              "  </style>\n",
              "\n",
              "      <script>\n",
              "        const buttonEl =\n",
              "          document.querySelector('#df-b726c52f-944b-4ea3-aa7a-b224b398d27e button.colab-df-convert');\n",
              "        buttonEl.style.display =\n",
              "          google.colab.kernel.accessAllowed ? 'block' : 'none';\n",
              "\n",
              "        async function convertToInteractive(key) {\n",
              "          const element = document.querySelector('#df-b726c52f-944b-4ea3-aa7a-b224b398d27e');\n",
              "          const dataTable =\n",
              "            await google.colab.kernel.invokeFunction('convertToInteractive',\n",
              "                                                     [key], {});\n",
              "          if (!dataTable) return;\n",
              "\n",
              "          const docLinkHtml = 'Like what you see? Visit the ' +\n",
              "            '<a target=\"_blank\" href=https://colab.research.google.com/notebooks/data_table.ipynb>data table notebook</a>'\n",
              "            + ' to learn more about interactive tables.';\n",
              "          element.innerHTML = '';\n",
              "          dataTable['output_type'] = 'display_data';\n",
              "          await google.colab.output.renderOutput(dataTable, element);\n",
              "          const docLink = document.createElement('div');\n",
              "          docLink.innerHTML = docLinkHtml;\n",
              "          element.appendChild(docLink);\n",
              "        }\n",
              "      </script>\n",
              "    </div>\n",
              "  </div>\n",
              "  "
            ]
          },
          "metadata": {},
          "execution_count": 65
        }
      ]
    },
    {
      "cell_type": "markdown",
      "source": [
        "Se obtiene de la web un MAE de 29.9904.\n",
        "\n",
        "Este cambio tampoco mejora el valor original de K-Means con 3 clusters."
      ],
      "metadata": {
        "id": "AEIGipWoq8Vt"
      }
    },
    {
      "cell_type": "markdown",
      "source": [
        "####Calculamos el MAE de validación"
      ],
      "metadata": {
        "id": "AwcXk8PI9FGH"
      }
    },
    {
      "cell_type": "code",
      "source": [
        "real = validation['total_cases']\n",
        "validation_dbscan = validation\n",
        "validation_dbscan = validation_dbscan.drop('total_cases', axis=1)\n",
        "\n",
        "components = PCA.fit_transform(validation_dbscan)\n",
        "validation_dbscan[\"etiquetas\"] = dbscan.fit_predict(components)\n",
        "\n",
        "y_pred = regres_dbscan.predict(validation_dbscan)\n",
        "y = np.rint(y_pred) # round\n",
        "y = y.astype(int) # cast to int\n",
        "res = np.hstack(y)\n",
        "y_pred_no_neg = res.copy()\n",
        "y_pred_no_neg[y_pred < 0] = 0\n",
        "\n",
        "from sklearn.metrics import mean_absolute_error\n",
        "mae = mean_absolute_error(real, y_pred_no_neg)\n",
        "print('MAE de validación: ' + str(mae))\n",
        "print(\"\")"
      ],
      "metadata": {
        "colab": {
          "base_uri": "https://localhost:8080/"
        },
        "id": "8QAGkP2C9IDj",
        "outputId": "71b587b2-f4aa-47b4-dcec-d1a28e6ebd27"
      },
      "execution_count": null,
      "outputs": [
        {
          "output_type": "stream",
          "name": "stdout",
          "text": [
            "MAE de validación: 17.835616438356166\n",
            "\n"
          ]
        }
      ]
    },
    {
      "cell_type": "markdown",
      "source": [
        "El resultado es también peor en el caso de MAE de validación."
      ],
      "metadata": {
        "id": "Lwy5adnEkOdm"
      }
    },
    {
      "cell_type": "markdown",
      "source": [
        "###Reducción de Características"
      ],
      "metadata": {
        "id": "HgOMcU9kkbMu"
      }
    },
    {
      "cell_type": "markdown",
      "source": [
        "Otra de las posibles mejoras al modelo puede venir de la reducción del número de características empleadas. Una cantidad excesivamente grande de características puede afectar negativamente el rendimiento de estos modelos por lo que se procede a reducirlo eliminando atributos que se consideran irrelevantes."
      ],
      "metadata": {
        "id": "3RAYe_CCWquo"
      }
    },
    {
      "cell_type": "code",
      "source": [
        "X_train = train_kmeans_n3\n",
        "X_train = X_train.drop([\"total_cases\", 'reanalysis_max_air_temp_k', 'reanalysis_min_air_temp_k', 'reanalysis_precip_amt_kg_per_m2',\n",
        "                        'reanalysis_specific_humidity_g_per_kg', 'station_avg_temp_c', 'station_max_temp_c', 'station_min_temp_c'], axis=1)\n",
        "Y_train = train_kmeans_n3[\"total_cases\"]\n",
        "\n",
        "from sklearn import linear_model\n",
        "regres_kmeans_n3_reduct = linear_model.LinearRegression()\n",
        "regres_kmeans_n3_reduct.fit(X_train, Y_train)"
      ],
      "metadata": {
        "colab": {
          "base_uri": "https://localhost:8080/",
          "height": 75
        },
        "id": "qH-ea63Xkb81",
        "outputId": "5394e606-a909-4571-d0ce-ef7c4d2dc19f"
      },
      "execution_count": null,
      "outputs": [
        {
          "output_type": "execute_result",
          "data": {
            "text/plain": [
              "LinearRegression()"
            ],
            "text/html": [
              "<style>#sk-container-id-7 {color: black;background-color: white;}#sk-container-id-7 pre{padding: 0;}#sk-container-id-7 div.sk-toggleable {background-color: white;}#sk-container-id-7 label.sk-toggleable__label {cursor: pointer;display: block;width: 100%;margin-bottom: 0;padding: 0.3em;box-sizing: border-box;text-align: center;}#sk-container-id-7 label.sk-toggleable__label-arrow:before {content: \"▸\";float: left;margin-right: 0.25em;color: #696969;}#sk-container-id-7 label.sk-toggleable__label-arrow:hover:before {color: black;}#sk-container-id-7 div.sk-estimator:hover label.sk-toggleable__label-arrow:before {color: black;}#sk-container-id-7 div.sk-toggleable__content {max-height: 0;max-width: 0;overflow: hidden;text-align: left;background-color: #f0f8ff;}#sk-container-id-7 div.sk-toggleable__content pre {margin: 0.2em;color: black;border-radius: 0.25em;background-color: #f0f8ff;}#sk-container-id-7 input.sk-toggleable__control:checked~div.sk-toggleable__content {max-height: 200px;max-width: 100%;overflow: auto;}#sk-container-id-7 input.sk-toggleable__control:checked~label.sk-toggleable__label-arrow:before {content: \"▾\";}#sk-container-id-7 div.sk-estimator input.sk-toggleable__control:checked~label.sk-toggleable__label {background-color: #d4ebff;}#sk-container-id-7 div.sk-label input.sk-toggleable__control:checked~label.sk-toggleable__label {background-color: #d4ebff;}#sk-container-id-7 input.sk-hidden--visually {border: 0;clip: rect(1px 1px 1px 1px);clip: rect(1px, 1px, 1px, 1px);height: 1px;margin: -1px;overflow: hidden;padding: 0;position: absolute;width: 1px;}#sk-container-id-7 div.sk-estimator {font-family: monospace;background-color: #f0f8ff;border: 1px dotted black;border-radius: 0.25em;box-sizing: border-box;margin-bottom: 0.5em;}#sk-container-id-7 div.sk-estimator:hover {background-color: #d4ebff;}#sk-container-id-7 div.sk-parallel-item::after {content: \"\";width: 100%;border-bottom: 1px solid gray;flex-grow: 1;}#sk-container-id-7 div.sk-label:hover label.sk-toggleable__label {background-color: #d4ebff;}#sk-container-id-7 div.sk-serial::before {content: \"\";position: absolute;border-left: 1px solid gray;box-sizing: border-box;top: 0;bottom: 0;left: 50%;z-index: 0;}#sk-container-id-7 div.sk-serial {display: flex;flex-direction: column;align-items: center;background-color: white;padding-right: 0.2em;padding-left: 0.2em;position: relative;}#sk-container-id-7 div.sk-item {position: relative;z-index: 1;}#sk-container-id-7 div.sk-parallel {display: flex;align-items: stretch;justify-content: center;background-color: white;position: relative;}#sk-container-id-7 div.sk-item::before, #sk-container-id-7 div.sk-parallel-item::before {content: \"\";position: absolute;border-left: 1px solid gray;box-sizing: border-box;top: 0;bottom: 0;left: 50%;z-index: -1;}#sk-container-id-7 div.sk-parallel-item {display: flex;flex-direction: column;z-index: 1;position: relative;background-color: white;}#sk-container-id-7 div.sk-parallel-item:first-child::after {align-self: flex-end;width: 50%;}#sk-container-id-7 div.sk-parallel-item:last-child::after {align-self: flex-start;width: 50%;}#sk-container-id-7 div.sk-parallel-item:only-child::after {width: 0;}#sk-container-id-7 div.sk-dashed-wrapped {border: 1px dashed gray;margin: 0 0.4em 0.5em 0.4em;box-sizing: border-box;padding-bottom: 0.4em;background-color: white;}#sk-container-id-7 div.sk-label label {font-family: monospace;font-weight: bold;display: inline-block;line-height: 1.2em;}#sk-container-id-7 div.sk-label-container {text-align: center;}#sk-container-id-7 div.sk-container {/* jupyter's `normalize.less` sets `[hidden] { display: none; }` but bootstrap.min.css set `[hidden] { display: none !important; }` so we also need the `!important` here to be able to override the default hidden behavior on the sphinx rendered scikit-learn.org. See: https://github.com/scikit-learn/scikit-learn/issues/21755 */display: inline-block !important;position: relative;}#sk-container-id-7 div.sk-text-repr-fallback {display: none;}</style><div id=\"sk-container-id-7\" class=\"sk-top-container\"><div class=\"sk-text-repr-fallback\"><pre>LinearRegression()</pre><b>In a Jupyter environment, please rerun this cell to show the HTML representation or trust the notebook. <br />On GitHub, the HTML representation is unable to render, please try loading this page with nbviewer.org.</b></div><div class=\"sk-container\" hidden><div class=\"sk-item\"><div class=\"sk-estimator sk-toggleable\"><input class=\"sk-toggleable__control sk-hidden--visually\" id=\"sk-estimator-id-7\" type=\"checkbox\" checked><label for=\"sk-estimator-id-7\" class=\"sk-toggleable__label sk-toggleable__label-arrow\">LinearRegression</label><div class=\"sk-toggleable__content\"><pre>LinearRegression()</pre></div></div></div></div></div>"
            ]
          },
          "metadata": {},
          "execution_count": 67
        }
      ]
    },
    {
      "cell_type": "markdown",
      "source": [
        "Se han escogido estas características para ser eliminadas dado que se refieren a medidas de temperatura y humedad, que ya se ven representadas por otras variables del conjunto. Es un proceso de selección meramente intuitivo."
      ],
      "metadata": {
        "id": "YWeC2QpQXBt4"
      }
    },
    {
      "cell_type": "code",
      "metadata": {
        "colab": {
          "base_uri": "https://localhost:8080/"
        },
        "outputId": "ee88ec71-f8b1-4115-afa5-c634fa31f3d2",
        "id": "fxkuDx1Kk0Pa"
      },
      "source": [
        "X_test = test\n",
        "X_test = X_test.drop(\"etiquetas\", axis = 1)\n",
        "X_test[\"etiquetas\"] = kmeans_n3.predict(X_test)\n",
        "\n",
        "X_test = X_test.drop(['reanalysis_max_air_temp_k', 'reanalysis_min_air_temp_k', 'reanalysis_precip_amt_kg_per_m2',\n",
        "                        'reanalysis_specific_humidity_g_per_kg', 'station_avg_temp_c', 'station_max_temp_c', 'station_min_temp_c'], axis=1)\n",
        "\n",
        "\n",
        "y_pred = regres_kmeans_n3_reduct.predict(X_test)\n",
        "\n",
        "test = test.drop('etiquetas', axis = 1)"
      ],
      "execution_count": null,
      "outputs": [
        {
          "output_type": "stream",
          "name": "stderr",
          "text": [
            "/usr/local/lib/python3.9/dist-packages/sklearn/base.py:432: UserWarning: X has feature names, but KMeans was fitted without feature names\n",
            "  warnings.warn(\n"
          ]
        }
      ]
    },
    {
      "cell_type": "markdown",
      "metadata": {
        "id": "c0nYkqQwk0Pa"
      },
      "source": [
        "* Redondeamos el resultado"
      ]
    },
    {
      "cell_type": "code",
      "metadata": {
        "id": "Tlzd-SRek0Pa"
      },
      "source": [
        "# round the result and cast to int\n",
        "import numpy as np\n",
        "y = np.rint(y_pred) # round\n",
        "y = y.astype(int) # cast to int\n",
        "res = np.hstack(y)"
      ],
      "execution_count": null,
      "outputs": []
    },
    {
      "cell_type": "code",
      "metadata": {
        "id": "roqojX3Zk0Pb"
      },
      "source": [
        "y_pred_no_neg = res.copy()"
      ],
      "execution_count": null,
      "outputs": []
    },
    {
      "cell_type": "code",
      "metadata": {
        "id": "ICyp5__Jk0Pb"
      },
      "source": [
        "y_pred_no_neg[y_pred < 0] = 0"
      ],
      "execution_count": null,
      "outputs": []
    },
    {
      "cell_type": "markdown",
      "metadata": {
        "id": "0p8YPSi1k0Pb"
      },
      "source": [
        "* Generamos el fichero de salida"
      ]
    },
    {
      "cell_type": "code",
      "metadata": {
        "colab": {
          "base_uri": "https://localhost:8080/",
          "height": 206
        },
        "outputId": "566f2fac-9ea9-4662-c15c-7ac2b55ab3d4",
        "id": "v2fCLQs7k0Pb"
      },
      "source": [
        "# generate output\n",
        "output = pd.DataFrame({ 'city': test['city_bin'], 'year': test['year'], 'weekofyear': test['weekofyear'],\n",
        "                       'total_cases': y_pred_no_neg})\n",
        "\n",
        "#Para adecuar el resultado al formato del concurso\n",
        "output['city'] = output['city'].replace({0: 'iq', 1: 'sj'})\n",
        "\n",
        "\n",
        "from google.colab import files\n",
        "\n",
        "with open('kmeans_n3_reduct.csv', 'w') as f:\n",
        "  output.to_csv(f,  index = False)\n",
        "\n",
        "\n",
        "files.download('kmeans_n3_reduct.csv')\n",
        "\n",
        "output.head()"
      ],
      "execution_count": null,
      "outputs": [
        {
          "output_type": "display_data",
          "data": {
            "text/plain": [
              "<IPython.core.display.Javascript object>"
            ],
            "application/javascript": [
              "\n",
              "    async function download(id, filename, size) {\n",
              "      if (!google.colab.kernel.accessAllowed) {\n",
              "        return;\n",
              "      }\n",
              "      const div = document.createElement('div');\n",
              "      const label = document.createElement('label');\n",
              "      label.textContent = `Downloading \"${filename}\": `;\n",
              "      div.appendChild(label);\n",
              "      const progress = document.createElement('progress');\n",
              "      progress.max = size;\n",
              "      div.appendChild(progress);\n",
              "      document.body.appendChild(div);\n",
              "\n",
              "      const buffers = [];\n",
              "      let downloaded = 0;\n",
              "\n",
              "      const channel = await google.colab.kernel.comms.open(id);\n",
              "      // Send a message to notify the kernel that we're ready.\n",
              "      channel.send({})\n",
              "\n",
              "      for await (const message of channel.messages) {\n",
              "        // Send a message to notify the kernel that we're ready.\n",
              "        channel.send({})\n",
              "        if (message.buffers) {\n",
              "          for (const buffer of message.buffers) {\n",
              "            buffers.push(buffer);\n",
              "            downloaded += buffer.byteLength;\n",
              "            progress.value = downloaded;\n",
              "          }\n",
              "        }\n",
              "      }\n",
              "      const blob = new Blob(buffers, {type: 'application/binary'});\n",
              "      const a = document.createElement('a');\n",
              "      a.href = window.URL.createObjectURL(blob);\n",
              "      a.download = filename;\n",
              "      div.appendChild(a);\n",
              "      a.click();\n",
              "      div.remove();\n",
              "    }\n",
              "  "
            ]
          },
          "metadata": {}
        },
        {
          "output_type": "display_data",
          "data": {
            "text/plain": [
              "<IPython.core.display.Javascript object>"
            ],
            "application/javascript": [
              "download(\"download_afd8b9a0-ab32-4196-b87f-9e7c84444670\", \"kmeans_n3_reduct.csv\", 5576)"
            ]
          },
          "metadata": {}
        },
        {
          "output_type": "execute_result",
          "data": {
            "text/plain": [
              "  city  year  weekofyear  total_cases\n",
              "0   sj  2008          18           12\n",
              "1   sj  2008          19           13\n",
              "2   sj  2008          20           16\n",
              "3   sj  2008          21           13\n",
              "4   sj  2008          22           15"
            ],
            "text/html": [
              "\n",
              "  <div id=\"df-02e9ed5c-4953-4a60-b62d-0ec29ae9022c\">\n",
              "    <div class=\"colab-df-container\">\n",
              "      <div>\n",
              "<style scoped>\n",
              "    .dataframe tbody tr th:only-of-type {\n",
              "        vertical-align: middle;\n",
              "    }\n",
              "\n",
              "    .dataframe tbody tr th {\n",
              "        vertical-align: top;\n",
              "    }\n",
              "\n",
              "    .dataframe thead th {\n",
              "        text-align: right;\n",
              "    }\n",
              "</style>\n",
              "<table border=\"1\" class=\"dataframe\">\n",
              "  <thead>\n",
              "    <tr style=\"text-align: right;\">\n",
              "      <th></th>\n",
              "      <th>city</th>\n",
              "      <th>year</th>\n",
              "      <th>weekofyear</th>\n",
              "      <th>total_cases</th>\n",
              "    </tr>\n",
              "  </thead>\n",
              "  <tbody>\n",
              "    <tr>\n",
              "      <th>0</th>\n",
              "      <td>sj</td>\n",
              "      <td>2008</td>\n",
              "      <td>18</td>\n",
              "      <td>12</td>\n",
              "    </tr>\n",
              "    <tr>\n",
              "      <th>1</th>\n",
              "      <td>sj</td>\n",
              "      <td>2008</td>\n",
              "      <td>19</td>\n",
              "      <td>13</td>\n",
              "    </tr>\n",
              "    <tr>\n",
              "      <th>2</th>\n",
              "      <td>sj</td>\n",
              "      <td>2008</td>\n",
              "      <td>20</td>\n",
              "      <td>16</td>\n",
              "    </tr>\n",
              "    <tr>\n",
              "      <th>3</th>\n",
              "      <td>sj</td>\n",
              "      <td>2008</td>\n",
              "      <td>21</td>\n",
              "      <td>13</td>\n",
              "    </tr>\n",
              "    <tr>\n",
              "      <th>4</th>\n",
              "      <td>sj</td>\n",
              "      <td>2008</td>\n",
              "      <td>22</td>\n",
              "      <td>15</td>\n",
              "    </tr>\n",
              "  </tbody>\n",
              "</table>\n",
              "</div>\n",
              "      <button class=\"colab-df-convert\" onclick=\"convertToInteractive('df-02e9ed5c-4953-4a60-b62d-0ec29ae9022c')\"\n",
              "              title=\"Convert this dataframe to an interactive table.\"\n",
              "              style=\"display:none;\">\n",
              "        \n",
              "  <svg xmlns=\"http://www.w3.org/2000/svg\" height=\"24px\"viewBox=\"0 0 24 24\"\n",
              "       width=\"24px\">\n",
              "    <path d=\"M0 0h24v24H0V0z\" fill=\"none\"/>\n",
              "    <path d=\"M18.56 5.44l.94 2.06.94-2.06 2.06-.94-2.06-.94-.94-2.06-.94 2.06-2.06.94zm-11 1L8.5 8.5l.94-2.06 2.06-.94-2.06-.94L8.5 2.5l-.94 2.06-2.06.94zm10 10l.94 2.06.94-2.06 2.06-.94-2.06-.94-.94-2.06-.94 2.06-2.06.94z\"/><path d=\"M17.41 7.96l-1.37-1.37c-.4-.4-.92-.59-1.43-.59-.52 0-1.04.2-1.43.59L10.3 9.45l-7.72 7.72c-.78.78-.78 2.05 0 2.83L4 21.41c.39.39.9.59 1.41.59.51 0 1.02-.2 1.41-.59l7.78-7.78 2.81-2.81c.8-.78.8-2.07 0-2.86zM5.41 20L4 18.59l7.72-7.72 1.47 1.35L5.41 20z\"/>\n",
              "  </svg>\n",
              "      </button>\n",
              "      \n",
              "  <style>\n",
              "    .colab-df-container {\n",
              "      display:flex;\n",
              "      flex-wrap:wrap;\n",
              "      gap: 12px;\n",
              "    }\n",
              "\n",
              "    .colab-df-convert {\n",
              "      background-color: #E8F0FE;\n",
              "      border: none;\n",
              "      border-radius: 50%;\n",
              "      cursor: pointer;\n",
              "      display: none;\n",
              "      fill: #1967D2;\n",
              "      height: 32px;\n",
              "      padding: 0 0 0 0;\n",
              "      width: 32px;\n",
              "    }\n",
              "\n",
              "    .colab-df-convert:hover {\n",
              "      background-color: #E2EBFA;\n",
              "      box-shadow: 0px 1px 2px rgba(60, 64, 67, 0.3), 0px 1px 3px 1px rgba(60, 64, 67, 0.15);\n",
              "      fill: #174EA6;\n",
              "    }\n",
              "\n",
              "    [theme=dark] .colab-df-convert {\n",
              "      background-color: #3B4455;\n",
              "      fill: #D2E3FC;\n",
              "    }\n",
              "\n",
              "    [theme=dark] .colab-df-convert:hover {\n",
              "      background-color: #434B5C;\n",
              "      box-shadow: 0px 1px 3px 1px rgba(0, 0, 0, 0.15);\n",
              "      filter: drop-shadow(0px 1px 2px rgba(0, 0, 0, 0.3));\n",
              "      fill: #FFFFFF;\n",
              "    }\n",
              "  </style>\n",
              "\n",
              "      <script>\n",
              "        const buttonEl =\n",
              "          document.querySelector('#df-02e9ed5c-4953-4a60-b62d-0ec29ae9022c button.colab-df-convert');\n",
              "        buttonEl.style.display =\n",
              "          google.colab.kernel.accessAllowed ? 'block' : 'none';\n",
              "\n",
              "        async function convertToInteractive(key) {\n",
              "          const element = document.querySelector('#df-02e9ed5c-4953-4a60-b62d-0ec29ae9022c');\n",
              "          const dataTable =\n",
              "            await google.colab.kernel.invokeFunction('convertToInteractive',\n",
              "                                                     [key], {});\n",
              "          if (!dataTable) return;\n",
              "\n",
              "          const docLinkHtml = 'Like what you see? Visit the ' +\n",
              "            '<a target=\"_blank\" href=https://colab.research.google.com/notebooks/data_table.ipynb>data table notebook</a>'\n",
              "            + ' to learn more about interactive tables.';\n",
              "          element.innerHTML = '';\n",
              "          dataTable['output_type'] = 'display_data';\n",
              "          await google.colab.output.renderOutput(dataTable, element);\n",
              "          const docLink = document.createElement('div');\n",
              "          docLink.innerHTML = docLinkHtml;\n",
              "          element.appendChild(docLink);\n",
              "        }\n",
              "      </script>\n",
              "    </div>\n",
              "  </div>\n",
              "  "
            ]
          },
          "metadata": {},
          "execution_count": 72
        }
      ]
    },
    {
      "cell_type": "markdown",
      "source": [
        "En esta ocasión hemos obtenido en la web un MAE de 29.9591.\n",
        "\n",
        "Esta reducción de características tampoco ha beneficiado al modelo.\n",
        "\n",
        "El mejor valor obtenido sigue siendo 27.4543."
      ],
      "metadata": {
        "id": "Xmu-F55ck0Pb"
      }
    },
    {
      "cell_type": "markdown",
      "source": [
        "####Calculamos el MAE de validación"
      ],
      "metadata": {
        "id": "S1_5Y4Ubk0Pb"
      }
    },
    {
      "cell_type": "code",
      "source": [
        "real = validation['total_cases']\n",
        "validation_kmeans_n3 = validation\n",
        "validation_kmeans_n3 = validation_kmeans_n3.drop('total_cases', axis=1)\n",
        "validation_kmeans_n3[\"etiquetas\"] = kmeans_n3.predict(validation_kmeans_n3)\n",
        "\n",
        "validation_kmeans_n3 = validation_kmeans_n3.drop(['reanalysis_max_air_temp_k', 'reanalysis_min_air_temp_k', 'reanalysis_precip_amt_kg_per_m2',\n",
        "                        'reanalysis_specific_humidity_g_per_kg', 'station_avg_temp_c', 'station_max_temp_c', 'station_min_temp_c'], axis=1)\n",
        "\n",
        "y_pred = regres_kmeans_n3_reduct.predict(validation_kmeans_n3)\n",
        "y = np.rint(y_pred) # round\n",
        "y = y.astype(int) # cast to int\n",
        "res = np.hstack(y)\n",
        "y_pred_no_neg = res.copy()\n",
        "y_pred_no_neg[y_pred < 0] = 0\n",
        "\n",
        "from sklearn.metrics import mean_absolute_error\n",
        "mae = mean_absolute_error(real, y_pred_no_neg)\n",
        "print('MAE de validación: ' + str(mae))\n",
        "print(\"\")"
      ],
      "metadata": {
        "colab": {
          "base_uri": "https://localhost:8080/"
        },
        "outputId": "d35e8382-0c23-41ac-82c4-db86e37f5f30",
        "id": "MTmeHktDk0Pb"
      },
      "execution_count": null,
      "outputs": [
        {
          "output_type": "stream",
          "name": "stdout",
          "text": [
            "MAE de validación: 18.828767123287673\n",
            "\n"
          ]
        },
        {
          "output_type": "stream",
          "name": "stderr",
          "text": [
            "/usr/local/lib/python3.9/dist-packages/sklearn/base.py:432: UserWarning: X has feature names, but KMeans was fitted without feature names\n",
            "  warnings.warn(\n"
          ]
        }
      ]
    },
    {
      "cell_type": "markdown",
      "source": [
        "Se ha obtenido un resultado en la línea de lo que se está obteniendo con el resto de modelos, el cambio de características no ha supuesto ninguna mejora."
      ],
      "metadata": {
        "id": "xm6FLiHxk0Pb"
      }
    },
    {
      "cell_type": "markdown",
      "source": [
        "---\n",
        "# Conclusiones\n",
        "---"
      ],
      "metadata": {
        "id": "z0Z17uJnXxn9"
      }
    },
    {
      "cell_type": "markdown",
      "source": [
        "| Modelo | MAE test (DrivenData) | MAE validación | Algoritmo | Hiperparámetros |\n",
        "| --- | --- | --- | --- | ---\n",
        "| svm_kmeans_n3 | 32.6130 | 16.7671 | K-Means - SVM | n_clusters=3, n_init=10, max_iter = 300, tol = 0.01\n",
        "| knn_kmeans_n5 | 30.7981 | 16.5651 | K-Means - KNN | n_neighbors=5, n_clusters=3, n_init=10, max_iter = 300, tol = 0.01\n",
        "| tree_kmeans_n3 | 30.9351 | 13.8527 | K-Means - Árbol de decisión | random_state=0, n_clusters=3, n_init=10, max_iter = 300, tol = 0.01\n",
        "| regres_kmeans_n3 | 27.4543 | 18.4692 | K-Means - Regresión Lineal | n_clusters=3, n_init=10, max_iter = 300, tol = 0.01\n",
        "| regres_kmeans_n2 | 29.5697 | 19.1781 | K-Means - Regresión Lineal | n_clusters=2, n_init=10, max_iter = 300, tol = 0.01\n",
        "| regres_dbscan  | 29.9904 | 17.8356 | DBSCAN - Regresión Lineal | eps=0.7, min_samples = 3\n",
        "| regres_kmeans_n3_reduct | 29.9591 | 18.8288 | K-Means - Regresión Lineal | n_clusters=3, n_init=10, max_iter = 300, tol = 0.01"
      ],
      "metadata": {
        "id": "95vZuMcaRqtL"
      }
    },
    {
      "cell_type": "markdown",
      "source": [
        "Respecto a las características empleadas, los modelos svm_kmeans_n3, knnkmeans_n5, tree_kmeans_n3, regres_kmeans_n3, regres_kmeans_n2* y regres_dbscan** han empleado las caractrísticas siguientes:\n",
        "* year\n",
        "* weekofyear\n",
        "* precipitation_amt_mm\n",
        "* reanalysis_air_temp_k\n",
        "* reanalysis_avg_temp_k\n",
        "* reanalysis_max_air_temp_k\n",
        "* reanalysis_min_air_temp_k\n",
        "* reanalysis_precip_amt_kg_per_m2\n",
        "* reanalysis_relative_humidity_percent\n",
        "* reanalysis_specific_humidity_g_per_kg\n",
        "* station_avg_temp_c\n",
        "* station_diur_temp_rng_c\n",
        "* station_max_temp_c\n",
        "* station_min_temp_c\n",
        "* station_precip_mm\n",
        "* season\n",
        "* city_bin\n",
        "* ndvi_avg\n",
        "* etiquetas\n",
        "\n",
        "*Respecto a regres_kmeans_n2, el valor de 'etiquetas' es el correspondiente al del algoritmo K-Means con 2 clusters.\n",
        "\n",
        "*Respecto a regres_dbscan, el valor de 'etiquetas es el correspondiente al del algoritmo 'DBSCAN'.\n",
        "\n",
        "El resto de modelos emplea las etiquetas correspondientes al algoritmo K-Means con 3 clusters.\n",
        "\n",
        "En el caso del modelo regres_kmeans_n3_reduct, se han eliminado algunas características, por lo que se queda con las siguientes:\n",
        "* year\n",
        "* weekofyear\n",
        "* precipitation_amt_mm\n",
        "* reanalysis_air_temp_k\n",
        "* reanalysis_avg_temp_k\n",
        "* reanalysis_relative_humidity_percent\n",
        "* station_diur_temp_rng_c\n",
        "* station_precip_mm\n",
        "* season\n",
        "* city_bin\n",
        "* ndvi_avg\n",
        "* etiquetas"
      ],
      "metadata": {
        "id": "CzhXcXQg3FH6"
      }
    },
    {
      "cell_type": "markdown",
      "source": [
        "El modelo elegido es por tanto regres_kmeans_n3 puesto que obtiene el mejor resultdo en la validación de MAE de la página web de DrivenData.\n",
        "\n",
        "Al poder contar con varios algoritmos de aprendizaje supervisado, como lo son SVM, KNN, el Árbol de decisión o la Regrsión Lineal hemos sido capaces de identificar cuál genera mejor resultado y proceder a optimizarlo.\n",
        "\n",
        "Lo mismo ha sucedido con los algoritmos de agrupamiento que utilizamos en la actividad anterior. En esta actividad ya fueron validados y se seleccionó el mejor, pero se le ha dado una nueva oportunidad al DBSCAN y se ha probado a utilizar dos clsuters en K-Means.\n",
        "\n",
        "Ha sido sorprendente el pobre resultado que ha tenido el modelo regres_kmeans_n3_reduct, pues se esperaba que el hecho de reducir el número de características iba a afectar positivamente al modelo. Al final no ha ocurrido así, muy posiblemente porque no se ha hecho la selección más adecuada de características.\n",
        "\n",
        "Cabe señalar que las evaluaciones de MAE en el conjunto de validación no se correlacionan con las de la web, esto es curioso dado que los datos del conjunto de validación no alimentan los modelos y no debería haber overfitting.\n",
        "\n",
        "Sin embargo, a la vista de los resultados, queda claro que se ha incurrido en alguna clase de sesgo durante la elaboración de los modelos, tal vez algún overfitting que no somos capaces de detectar.\n",
        "\n",
        "Cabe también mencionar que durante la optimización de hiperparámetros del algoritmo K-Means, la variación de los parámetros n_init, max_iter y tol (iniciación de centroides, número máximo de iteraciones y tolerancia) no afecta nada en absoluto a los resultados de los clusters. Esto puede ser porque los clusters están muy bien separados y existe una tendencia muy marcada a alcanzar ese resultado que no puede ser modificada por estos parámetros.\n",
        "\n",
        "El resultado final de MAE = 27.4543 de DrivenData se considera exitoso puesto que supera la barrera de 28.9111 impuesta por el profesor.\n",
        "Es posible que se pudiera haber mejorado aún más mediante nuevas selecciones de características distintas a la realizada, sin embargo, la limitación de intentos en la página web ha sido un escollo en este aspecto."
      ],
      "metadata": {
        "id": "yeCuMs8T6LpE"
      }
    },
    {
      "cell_type": "markdown",
      "source": [
        "##Trabajo Futuro"
      ],
      "metadata": {
        "id": "lxMG5Wv98rLY"
      }
    },
    {
      "cell_type": "markdown",
      "source": [
        "Se podría ahondar mucho más en la selección de características ahora que se tiene claro un buen algoritmo de agrupamiento y un buen algoritmo de regresión.\n",
        "\n",
        "Con una cantidad suficiente de pruebas y ensayos con diferentes colecciones de características se alcanzaría un MAE aún más bajo."
      ],
      "metadata": {
        "id": "bliVWoDUR25L"
      }
    },
    {
      "cell_type": "markdown",
      "source": [
        "---\n",
        "# Competición\n",
        "---"
      ],
      "metadata": {
        "id": "odvxoXSG-0Xp"
      }
    },
    {
      "cell_type": "markdown",
      "source": [
        "Se han empleado dos cuentas para poder subir varios ficheros al día y superar la limitación de 3.\n",
        "\n",
        "En las imágenes se puede ver el nombre de usuario y las puntuaciones obtenidas."
      ],
      "metadata": {
        "id": "zeqSJj4WxydU"
      }
    },
    {
      "cell_type": "markdown",
      "source": [
        "Primera cuenta:\n",
        "\n",
        "Nombre de usuario: diegopastorbonet\n",
        "\n",
        "Los primeros tres resultados se corresponden con errores de formato.\n",
        "\n",
        "El resultado resaltado es el mejor resultado obtenido de entre todos los modelos."
      ],
      "metadata": {
        "id": "xETyOfRa-8Qx"
      }
    },
    {
      "cell_type": "markdown",
      "source": [
        "![final.PNG](data:image/png;base64,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)"
      ],
      "metadata": {
        "id": "R7lCzVLNuY3P"
      }
    },
    {
      "cell_type": "markdown",
      "source": [
        "Segunda cuenta:\n",
        "\n",
        "Nombre de usuario: diego.pastor\n",
        "\n",
        "En esta segunda cuenta se han seguido subiendo archivos para superar la limitación."
      ],
      "metadata": {
        "id": "57dTAIz0x5a7"
      }
    },
    {
      "cell_type": "markdown",
      "source": [
        "![imagen_2023-04-26_201643082.png](data:image/png;base64,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)"
      ],
      "metadata": {
        "id": "wByI42oHyCU7"
      }
    },
    {
      "cell_type": "markdown",
      "source": [
        "Mejor resultado:\n",
        "\n",
        "Corresponde a la cuenta diegopastorbonet.\n",
        "\n",
        "Este resultado corresponde al modelo regres_kmeans_n3."
      ],
      "metadata": {
        "id": "kZubWHQsuy2n"
      }
    },
    {
      "cell_type": "markdown",
      "source": [
        "![imagen_2023-04-26_200103695.png](data:image/png;base64,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)"
      ],
      "metadata": {
        "id": "DDxteTzsudBE"
      }
    }
  ]
}